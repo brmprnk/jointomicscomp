{
 "cells": [
  {
   "cell_type": "code",
   "execution_count": 1,
   "id": "german-denver",
   "metadata": {},
   "outputs": [],
   "source": [
    "import pandas as pd\n",
    "import numpy as np"
   ]
  },
  {
   "cell_type": "code",
   "execution_count": 2,
   "id": "registered-bandwidth",
   "metadata": {},
   "outputs": [],
   "source": [
    "ge = np.load(\"/Users/bram/jointomicscomp/data/GE.npy\")\n",
    "me = np.load(\"/Users/bram/jointomicscomp/data/ME.npy\")"
   ]
  },
  {
   "cell_type": "code",
   "execution_count": 5,
   "id": "explicit-survey",
   "metadata": {},
   "outputs": [
    {
     "data": {
      "text/plain": [
       "(9112, 5000)"
      ]
     },
     "execution_count": 5,
     "metadata": {},
     "output_type": "execute_result"
    }
   ],
   "source": [
    "me.shape"
   ]
  },
  {
   "cell_type": "code",
   "execution_count": 6,
   "id": "italian-coaching",
   "metadata": {},
   "outputs": [],
   "source": [
    "labels = np.load(\"/Users/bram/jointomicscomp/data/sampleNames.npy\")"
   ]
  },
  {
   "cell_type": "code",
   "execution_count": 17,
   "id": "described-protest",
   "metadata": {},
   "outputs": [
    {
     "data": {
      "text/plain": [
       "array(['TCGA-05-4384-01', 'TCGA-05-4390-01', 'TCGA-05-4396-01', ...,\n",
       "       'TCGA-ZU-A8S4-01', 'TCGA-ZU-A8S4-11', 'TCGA-ZX-AA5X-01'],\n",
       "      dtype='<U15')"
      ]
     },
     "execution_count": 17,
     "metadata": {},
     "output_type": "execute_result"
    }
   ],
   "source": [
    "labels"
   ]
  },
  {
   "cell_type": "code",
   "execution_count": 9,
   "id": "usual-legislation",
   "metadata": {},
   "outputs": [],
   "source": [
    "cancertype = np.load(\"/Users/bram/jointomicscomp/data/cancerType.npy\")\n",
    "cancertypes = np.load(\"/Users/bram/jointomicscomp/data/cancerTypes.npy\")"
   ]
  },
  {
   "cell_type": "code",
   "execution_count": 16,
   "id": "white-rotation",
   "metadata": {},
   "outputs": [
    {
     "data": {
      "text/plain": [
       "array([15, 15, 15, ...,  6,  6,  5])"
      ]
     },
     "execution_count": 16,
     "metadata": {},
     "output_type": "execute_result"
    }
   ],
   "source": [
    "cancertype"
   ]
  },
  {
   "cell_type": "code",
   "execution_count": 15,
   "id": "ancient-poverty",
   "metadata": {},
   "outputs": [
    {
     "data": {
      "text/plain": [
       "False"
      ]
     },
     "execution_count": 15,
     "metadata": {},
     "output_type": "execute_result"
    }
   ],
   "source": [
    "np.isnan(ge).any()"
   ]
  },
  {
   "cell_type": "code",
   "execution_count": 18,
   "id": "touched-holly",
   "metadata": {},
   "outputs": [],
   "source": [
    "ids = np.array([1, 2, 4, 0])"
   ]
  },
  {
   "cell_type": "code",
   "execution_count": 23,
   "id": "separated-gauge",
   "metadata": {},
   "outputs": [
    {
     "data": {
      "text/plain": [
       "dtype('float64')"
      ]
     },
     "execution_count": 23,
     "metadata": {},
     "output_type": "execute_result"
    }
   ],
   "source": [
    "ge.dtype"
   ]
  },
  {
   "cell_type": "code",
   "execution_count": null,
   "id": "christian-header",
   "metadata": {},
   "outputs": [],
   "source": []
  },
  {
   "cell_type": "code",
   "execution_count": null,
   "id": "ruled-policy",
   "metadata": {},
   "outputs": [],
   "source": []
  }
 ],
 "metadata": {
  "kernelspec": {
   "display_name": "vae",
   "language": "python",
   "name": "vae"
  },
  "language_info": {
   "codemirror_mode": {
    "name": "ipython",
    "version": 3
   },
   "file_extension": ".py",
   "mimetype": "text/x-python",
   "name": "python",
   "nbconvert_exporter": "python",
   "pygments_lexer": "ipython3",
   "version": "3.9.5"
  }
 },
 "nbformat": 4,
 "nbformat_minor": 5
}
