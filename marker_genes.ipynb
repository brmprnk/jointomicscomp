{
 "cells": [
  {
   "cell_type": "code",
   "execution_count": 1,
   "metadata": {},
   "outputs": [],
   "source": [
    "import numpy as np\n",
    "import pandas as pd\n",
    "import scanpy as sc"
   ]
  },
  {
   "cell_type": "code",
   "execution_count": 2,
   "metadata": {},
   "outputs": [
    {
     "name": "stderr",
     "output_type": "stream",
     "text": [
      "/home/bram/miniconda3/envs/joc/lib/python3.10/site-packages/tqdm/auto.py:21: TqdmWarning: IProgress not found. Please update jupyter and ipywidgets. See https://ipywidgets.readthedocs.io/en/stable/user_install.html\n",
      "  from .autonotebook import tqdm as notebook_tqdm\n"
     ]
    },
    {
     "name": "stdout",
     "output_type": "stream",
     "text": [
      "scanpy==1.9.5 anndata==0.10.2 umap==0.5.4 numpy==1.25.2 scipy==1.11.3 pandas==2.1.1 scikit-learn==1.3.1 statsmodels==0.14.0 pynndescent==0.5.10\n"
     ]
    }
   ],
   "source": [
    "sc.settings.verbosity = 3\n",
    "sc.logging.print_header()\n",
    "sc.settings.set_figure_params(dpi=80, facecolor='white')"
   ]
  },
  {
   "cell_type": "code",
   "execution_count": 3,
   "metadata": {},
   "outputs": [
    {
     "name": "stderr",
     "output_type": "stream",
     "text": [
      "/home/bram/miniconda3/envs/joc/lib/python3.10/site-packages/anndata/__init__.py:51: FutureWarning: `anndata.read` is deprecated, use `anndata.read_h5ad` instead. `ad.read` will be removed in mid 2024.\n",
      "  warnings.warn(\n",
      "/home/bram/miniconda3/envs/joc/lib/python3.10/site-packages/anndata/compat/__init__.py:298: FutureWarning: Moving element from .uns['neighbors']['distances'] to .obsp['distances'].\n",
      "\n",
      "This is where adjacency matrices should go now.\n",
      "  warn(\n"
     ]
    }
   ],
   "source": [
    "adata = sc.read('./data/pbmc_multimodal_RNA.h5ad')"
   ]
  },
  {
   "cell_type": "code",
   "execution_count": 4,
   "metadata": {},
   "outputs": [
    {
     "data": {
      "text/plain": [
       "array(['ASDC', 'B intermediate', 'B memory', 'B naive', 'CD14 Mono',\n",
       "       'CD16 Mono', 'CD4 CTL', 'CD4 Naive', 'CD4 Proliferating',\n",
       "       'CD4 TCM', 'CD4 TEM', 'CD8 Naive', 'CD8 Proliferating', 'CD8 TCM',\n",
       "       'CD8 TEM', 'Doublet', 'Eryth', 'HSPC', 'ILC', 'MAIT', 'NK',\n",
       "       'NK Proliferating', 'NK_CD56bright', 'Plasmablast', 'Platelet',\n",
       "       'Treg', 'cDC1', 'cDC2', 'dnT', 'gdT', 'pDC'], dtype=object)"
      ]
     },
     "execution_count": 4,
     "metadata": {},
     "output_type": "execute_result"
    }
   ],
   "source": [
    "np.unique(adata.obs['celltype.l2'].values)"
   ]
  },
  {
   "cell_type": "code",
   "execution_count": 5,
   "metadata": {},
   "outputs": [
    {
     "data": {
      "text/plain": [
       "31"
      ]
     },
     "execution_count": 5,
     "metadata": {},
     "output_type": "execute_result"
    }
   ],
   "source": [
    "len(np.unique(adata.obs['celltype.l2'].values))"
   ]
  },
  {
   "cell_type": "code",
   "execution_count": 6,
   "metadata": {},
   "outputs": [
    {
     "data": {
      "text/plain": [
       "AnnData object with n_obs × n_vars = 161764 × 20729\n",
       "    obs: 'nCount_ADT', 'nFeature_ADT', 'nCount_RNA', 'nFeature_RNA', 'orig.ident', 'lane', 'donor', 'time', 'celltype.l1', 'celltype.l2', 'celltype.l3', 'Phase'\n",
       "    var: '_index', 'features'\n",
       "    uns: 'neighbors'\n",
       "    obsm: 'X_apca', 'X_aumap', 'X_pca', 'X_spca', 'X_umap', 'X_wnn.umap'\n",
       "    varm: 'PCs', 'SPCA'\n",
       "    obsp: 'distances'"
      ]
     },
     "execution_count": 6,
     "metadata": {},
     "output_type": "execute_result"
    }
   ],
   "source": [
    "adata"
   ]
  },
  {
   "cell_type": "code",
   "execution_count": 7,
   "metadata": {},
   "outputs": [
    {
     "data": {
      "text/plain": [
       "<module 'cosg' from '/home/bram/miniconda3/envs/joc/lib/python3.10/site-packages/cosg/__init__.py'>"
      ]
     },
     "execution_count": 7,
     "metadata": {},
     "output_type": "execute_result"
    }
   ],
   "source": [
    "import cosg as cosg\n",
    "import importlib\n",
    "importlib.reload(cosg)"
   ]
  },
  {
   "cell_type": "code",
   "execution_count": 8,
   "metadata": {},
   "outputs": [
    {
     "name": "stdout",
     "output_type": "stream",
     "text": [
      "Help on function cosg in module cosg.cosg:\n",
      "\n",
      "cosg(adata, groupby='CellTypes', groups: Union[Literal['all'], Iterable[str]] = 'all', mu=1, remove_lowly_expressed: bool = False, expressed_pct: Optional[float] = 0.1, n_genes_user: int = 50, key_added: Optional[str] = None, use_raw: bool = True, layer: Optional[str] = None, reference: str = 'rest', copy: bool = False)\n",
      "    Marker gene identification for single-cell sequencing data using COSG.\n",
      "    \n",
      "    Parameters\n",
      "    ----------\n",
      "    adata\n",
      "        Annotated data matrix. Note: input paramters are simliar to the parameters used for scanpy's rank_genes_groups() function.\n",
      "    groupby\n",
      "        The key of the cell groups in .obs, the default value is set to 'CellTypes'.\n",
      "    groups\n",
      "        Subset of cell groups, e.g. [`'g1'`, `'g2'`, `'g3'`], to which comparison shall be restricted. The default value is 'all', and all groups will be compared.\n",
      "    mu\n",
      "        The penalty restricting marker genes expressing in non-target cell groups. Larger value represents more strict restrictions. mu should be >= 0, and by default, mu = 1.\n",
      "    remove_lowly_expressed\n",
      "        If True, genes that express a percentage of target cells smaller than a specific value (`expressed_pct`) are not considered as marker genes for the target cells. The default value is False.\n",
      "    expressed_pct\n",
      "        When `remove_lowly_expressed` is set to True, genes that express a percentage of target cells smaller than a specific value (`expressed_pct`) are not considered as marker genes for the target cells. The default value for `expressed_pct`\n",
      "        is 0.1 (10%).\n",
      "    n_genes_user\n",
      "        The number of genes that appear in the returned tables. The default value is 50.\n",
      "    key_added\n",
      "        The key in `adata.uns` information is saved to.\n",
      "    use_raw\n",
      "        Use `raw` attribute of `adata` if present.\n",
      "    layer\n",
      "        Key from `adata.layers` whose value will be used to perform tests on.\n",
      "    reference\n",
      "        If `'rest'`, compare each group to the union of the rest of the group.\n",
      "        If a group identifier, compare with respect to this group.\n",
      "    \n",
      "    Returns\n",
      "    -------\n",
      "    names : structured `np.ndarray` (`.uns['rank_genes_groups']`)\n",
      "        Structured array to be indexed by group id storing the gene names. Ordered according to scores.\n",
      "    scores : structured `np.ndarray` (`.uns['rank_genes_groups']`)\n",
      "        Structured array to be indexed by group id storing COSG scores for each gene for each\n",
      "        group. Ordered according to scores.\n",
      "    Notes\n",
      "    -----\n",
      "    Contact: Min Dai, daimin@zju.edu.cn\n",
      "    Examples\n",
      "    --------\n",
      "    >>> import cosg as cosg\n",
      "    >>> import scanpy as sc\n",
      "    >>> adata = sc.datasets.pbmc68k_reduced()\n",
      "    >>> cosg.cosg(adata, key_added='cosg', groupby='bulk_labels')\n",
      "    >>> sc.pl.rank_genes_groups(adata, key='cosg')\n",
      "\n"
     ]
    }
   ],
   "source": [
    "help(cosg.cosg)"
   ]
  },
  {
   "cell_type": "code",
   "execution_count": 9,
   "metadata": {},
   "outputs": [
    {
     "ename": "",
     "evalue": "",
     "output_type": "error",
     "traceback": [
      "\u001b[1;31mThe Kernel crashed while executing code in the the current cell or a previous cell. Please review the code in the cell(s) to identify a possible cause of the failure. Click <a href='https://aka.ms/vscodeJupyterKernelCrash'>here</a> for more info. View Jupyter <a href='command:jupyter.viewOutput'>log</a> for further details."
     ]
    }
   ],
   "source": [
    "import time\n",
    "t0 = time.time()\n",
    "cosg.cosg(adata, key_added='cosg', n_genes_user=30, groupby='celltype.l2')\n",
    "runtime_cosg = time.time() - t0\n",
    "print(runtime_cosg)"
   ]
  }
 ],
 "metadata": {
  "kernelspec": {
   "display_name": "joc",
   "language": "python",
   "name": "python3"
  },
  "language_info": {
   "codemirror_mode": {
    "name": "ipython",
    "version": 3
   },
   "file_extension": ".py",
   "mimetype": "text/x-python",
   "name": "python",
   "nbconvert_exporter": "python",
   "pygments_lexer": "ipython3",
   "version": "3.10.13"
  }
 },
 "nbformat": 4,
 "nbformat_minor": 2
}
