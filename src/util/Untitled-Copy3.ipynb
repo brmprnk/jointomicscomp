{
 "cells": [
  {
   "cell_type": "code",
   "execution_count": 9,
   "id": "4c24e446",
   "metadata": {},
   "outputs": [],
   "source": [
    "import os\n",
    "import torch\n",
    "import umap.plot\n",
    "import numpy as np\n",
    "import pandas as pd\n",
    "from mord import OrdinalRidge\n",
    "from sklearn.linear_model import Ridge, RidgeClassifier\n",
    "\n",
    "from sklearn.linear_model import Ridge\n",
    "from sklearn.metrics import accuracy_score, mean_squared_error, r2_score, precision_recall_fscore_support, matthews_corrcoef, confusion_matrix\n",
    "from sklearn.neural_network import MLPClassifier\n",
    "from sklearn.svm import LinearSVC\n"
   ]
  },
  {
   "cell_type": "code",
   "execution_count": 4,
   "id": "a3bbd97a",
   "metadata": {},
   "outputs": [],
   "source": [
    "ge = np.load(\"/home/bram/jointomicscomp/data/GE.npy\")\n",
    "cancerTypes = np.load(\"/home/bram/jointomicscomp/data/cancerTypes.npy\")\n",
    "cancerType = np.load(\"/home/bram/jointomicscomp/data/cancerType.npy\")\n",
    "cancer_type_labels = cancerTypes[cancerType.astype(int)]"
   ]
  },
  {
   "cell_type": "code",
   "execution_count": 5,
   "id": "8640a8b7",
   "metadata": {},
   "outputs": [],
   "source": [
    "# From baseline\n",
    "\n",
    "def evaluate_classification(y_true, y_pred):\n",
    "    # returns accuracy, precision, recall, f1, mcc, confusion_matrix\n",
    "\n",
    "    acc = accuracy_score(y_true, y_pred)\n",
    "    pr, rc, f1, _ = precision_recall_fscore_support(y_true, y_pred)\n",
    "    mcc = matthews_corrcoef(y_true, y_pred)\n",
    "    confMat = confusion_matrix(y_true, y_pred)\n",
    "\n",
    "    return [acc, pr, rc, f1, mcc, confMat]"
   ]
  },
  {
   "cell_type": "code",
   "execution_count": 10,
   "id": "8c5d5175",
   "metadata": {},
   "outputs": [
    {
     "name": "stdout",
     "output_type": "stream",
     "text": [
      "RAW DATA: Baseline predictions\n",
      "float64 float64\n",
      "float64 float64\n",
      "float64 float64\n",
      "float64 float64\n",
      "float64 float64\n"
     ]
    },
    {
     "name": "stderr",
     "output_type": "stream",
     "text": [
      "/home/bram/Documents/anaconda3/envs/vae/lib/python3.9/site-packages/sklearn/metrics/_classification.py:1248: UndefinedMetricWarning: Precision and F-score are ill-defined and being set to 0.0 in labels with no predicted samples. Use `zero_division` parameter to control this behavior.\n",
      "  _warn_prf(average, modifier, msg_start, len(result))\n",
      "/home/bram/Documents/anaconda3/envs/vae/lib/python3.9/site-packages/sklearn/metrics/_classification.py:1248: UndefinedMetricWarning: Precision and F-score are ill-defined and being set to 0.0 in labels with no predicted samples. Use `zero_division` parameter to control this behavior.\n",
      "  _warn_prf(average, modifier, msg_start, len(result))\n",
      "/home/bram/Documents/anaconda3/envs/vae/lib/python3.9/site-packages/sklearn/metrics/_classification.py:1248: UndefinedMetricWarning: Precision and F-score are ill-defined and being set to 0.0 in labels with no predicted samples. Use `zero_division` parameter to control this behavior.\n",
      "  _warn_prf(average, modifier, msg_start, len(result))\n",
      "/home/bram/Documents/anaconda3/envs/vae/lib/python3.9/site-packages/sklearn/metrics/_classification.py:1248: UndefinedMetricWarning: Precision and F-score are ill-defined and being set to 0.0 in labels with no predicted samples. Use `zero_division` parameter to control this behavior.\n",
      "  _warn_prf(average, modifier, msg_start, len(result))\n",
      "/home/bram/Documents/anaconda3/envs/vae/lib/python3.9/site-packages/sklearn/metrics/_classification.py:1248: UndefinedMetricWarning: Precision and F-score are ill-defined and being set to 0.0 in labels with no predicted samples. Use `zero_division` parameter to control this behavior.\n",
      "  _warn_prf(average, modifier, msg_start, len(result))\n",
      "/home/bram/Documents/anaconda3/envs/vae/lib/python3.9/site-packages/sklearn/metrics/_classification.py:1248: UndefinedMetricWarning: Precision and F-score are ill-defined and being set to 0.0 in labels with no predicted samples. Use `zero_division` parameter to control this behavior.\n",
      "  _warn_prf(average, modifier, msg_start, len(result))\n"
     ]
    },
    {
     "name": "stdout",
     "output_type": "stream",
     "text": [
      "float64 float64\n",
      "float64 float64\n",
      "float64 float64\n",
      "float64 float64\n",
      "float64 float64\n",
      "float64 int64\n",
      "Accuracy :  0.5394736842105263\n",
      "Confusion matrix : \n",
      " [[ 2  8  2  0]\n",
      " [ 2 31 10  0]\n",
      " [ 1 11  8  0]\n",
      " [ 0  0  1  0]]\n"
     ]
    },
    {
     "name": "stderr",
     "output_type": "stream",
     "text": [
      "/home/bram/Documents/anaconda3/envs/vae/lib/python3.9/site-packages/sklearn/metrics/_classification.py:1248: UndefinedMetricWarning: Precision and F-score are ill-defined and being set to 0.0 in labels with no predicted samples. Use `zero_division` parameter to control this behavior.\n",
      "  _warn_prf(average, modifier, msg_start, len(result))\n",
      "/home/bram/Documents/anaconda3/envs/vae/lib/python3.9/site-packages/sklearn/metrics/_classification.py:1248: UndefinedMetricWarning: Precision and F-score are ill-defined and being set to 0.0 in labels with no predicted samples. Use `zero_division` parameter to control this behavior.\n",
      "  _warn_prf(average, modifier, msg_start, len(result))\n",
      "/home/bram/Documents/anaconda3/envs/vae/lib/python3.9/site-packages/sklearn/metrics/_classification.py:1248: UndefinedMetricWarning: Precision and F-score are ill-defined and being set to 0.0 in labels with no predicted samples. Use `zero_division` parameter to control this behavior.\n",
      "  _warn_prf(average, modifier, msg_start, len(result))\n",
      "/home/bram/Documents/anaconda3/envs/vae/lib/python3.9/site-packages/sklearn/metrics/_classification.py:1248: UndefinedMetricWarning: Precision and F-score are ill-defined and being set to 0.0 in labels with no predicted samples. Use `zero_division` parameter to control this behavior.\n",
      "  _warn_prf(average, modifier, msg_start, len(result))\n",
      "/home/bram/Documents/anaconda3/envs/vae/lib/python3.9/site-packages/sklearn/metrics/_classification.py:1248: UndefinedMetricWarning: Precision and F-score are ill-defined and being set to 0.0 in labels with no predicted samples. Use `zero_division` parameter to control this behavior.\n",
      "  _warn_prf(average, modifier, msg_start, len(result))\n"
     ]
    }
   ],
   "source": [
    "print(\"RAW DATA: Baseline predictions\")\n",
    "alphas = np.array([1e-4, 1e-3, 1e-2, 1e-1, 0.5, 1.0, 2.0, 5.0, 10., 20.])\n",
    "\n",
    "# if criterion == 'acc':\n",
    "#     ind = 0\n",
    "# elif criterion == 'pr':\n",
    "#     ind = 1\n",
    "# elif criterion == 'rc':\n",
    "#     ind = 2\n",
    "# elif criterion == 'f1':\n",
    "#     ind = 3\n",
    "# else:\n",
    "#     assert criterion == 'mcc'\n",
    "#     ind = 4\n",
    "\n",
    "latent_train = np.load(\"/home/bram/jointomicscomp/data/BRCA/BR_GE_train.npy\")\n",
    "latent_val = np.load(\"/home/bram/jointomicscomp/data/BRCA/BRCA_GE_valid.npy\")\n",
    "latent_test = np.load(\"/home/bram/jointomicscomp/data/BRCA/BRCA_GE_test.npy\")\n",
    "y_train = np.load(\"/home/bram/jointomicscomp/data/{}/{}_train_stageType.npy\".format(\"BRCA\", \"BRCA\"))\n",
    "y_val = np.load(\"/home/bram/jointomicscomp/data/{}/{}_valid_stageType.npy\".format(\"BRCA\", \"BRCA\"))\n",
    "y_test = np.load(\"/home/bram/jointomicscomp/data/{}/{}_test_stageType.npy\".format(\"BRCA\", \"BRCA\"))\n",
    "\n",
    "\n",
    "validationPerformance = np.zeros(alphas.shape[0])\n",
    "models = []\n",
    "\n",
    "for i, a in enumerate(alphas):\n",
    "    model = model = RidgeClassifier(alpha=a, fit_intercept=True, normalize=False, random_state=1)\n",
    "\n",
    "#     model = Ridge(alpha=a, fit_intercept=True, normalize=False, random_state=1)\n",
    "\n",
    "    # train\n",
    "    model.fit(latent_train, y_train)\n",
    "\n",
    "    # save so that we don't have to re-train\n",
    "    models.append(model)\n",
    "\n",
    "    # evaluate using user-specified criterion\n",
    "    validationPerformance[i] = evaluate_classification(y_val, model.predict(latent_val))[0]\n",
    "\n",
    "bestModel = models[np.argmax(validationPerformance)]\n",
    "\n",
    "predictions = bestModel.predict(latent_test).astype(int)\n",
    "\n",
    "classifications1 = evaluate_classification(y_test, predictions)\n",
    "\n",
    "print(\"Accuracy : \", classifications1[0])\n",
    "print(\"Confusion matrix : \\n\", classifications1[5])"
   ]
  },
  {
   "cell_type": "code",
   "execution_count": null,
   "id": "bd6b5607",
   "metadata": {},
   "outputs": [],
   "source": [
    "test = bestModel.coef_\n",
    "z = latent_test\n",
    "for row in z:\n",
    "    row = np.multiply(row, test)"
   ]
  },
  {
   "cell_type": "code",
   "execution_count": null,
   "id": "556a65c5",
   "metadata": {},
   "outputs": [],
   "source": [
    "title = \"LinearSVC Gene Expression Test set\"\n",
    "save_dir = \"/home/bram/jointomicscomp/umaps\"\n",
    "save_file = \"{}/UMAP {} Raw Data.png\"\\\n",
    "    .format(save_dir, \"GE\")\n",
    "background = \"white\"\n",
    "color_key_cmap = \"Spectral\""
   ]
  },
  {
   "cell_type": "code",
   "execution_count": null,
   "id": "06502e76",
   "metadata": {},
   "outputs": [],
   "source": [
    "\n",
    "mapper = umap.UMAP(\n",
    "            n_neighbors=15,\n",
    "            min_dist=0.1,\n",
    "            n_components=2,\n",
    "            metric='euclidean'\n",
    "        ).fit(z)\n"
   ]
  },
  {
   "cell_type": "code",
   "execution_count": null,
   "id": "76e68df9",
   "metadata": {},
   "outputs": [],
   "source": [
    "p = umap.plot.points(mapper, labels=y_test, color_key_cmap=color_key_cmap, background=background)\n",
    "umap.plot.plt.title(title)\n",
    "# umap.plot.plt.legend()\n",
    "umap.plot.plt.savefig(save_file, dpi=1600)\n",
    "umap.plot.plt.show()"
   ]
  }
 ],
 "metadata": {
  "kernelspec": {
   "display_name": "vae",
   "language": "python",
   "name": "vae"
  },
  "language_info": {
   "codemirror_mode": {
    "name": "ipython",
    "version": 3
   },
   "file_extension": ".py",
   "mimetype": "text/x-python",
   "name": "python",
   "nbconvert_exporter": "python",
   "pygments_lexer": "ipython3",
   "version": "3.9.7"
  }
 },
 "nbformat": 4,
 "nbformat_minor": 5
}
