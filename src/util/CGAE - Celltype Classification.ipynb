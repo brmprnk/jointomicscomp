{
 "cells": [
  {
   "cell_type": "code",
   "execution_count": 11,
   "id": "4c24e446",
   "metadata": {},
   "outputs": [],
   "source": [
    "import os\n",
    "import numpy as np\n",
    "import pandas as pd\n",
    "from mord import OrdinalRidge\n",
    "from sklearn.linear_model import Ridge\n",
    "from sklearn.metrics import accuracy_score, mean_squared_error, r2_score, precision_recall_fscore_support, matthews_corrcoef, confusion_matrix\n",
    "from sklearn.neural_network import MLPClassifier\n",
    "from sklearn.svm import LinearSVC\n",
    "from scipy.stats import stats"
   ]
  },
  {
   "cell_type": "code",
   "execution_count": 12,
   "id": "a3bbd97a",
   "metadata": {},
   "outputs": [
    {
     "name": "stdout",
     "output_type": "stream",
     "text": [
      "CGAE: Classification\n"
     ]
    }
   ],
   "source": [
    "print(\"CGAE: Classification\")\n",
    "model_dir = \"/home/bram/jointomicscomp/results/EXCEL CGAE128 RNAADT 21-12-2021 00:01:33/CGAE/\"\n",
    "\n",
    "z1 = np.load(model_dir + 'task1_z1_all.npy')\n",
    "z2 = np.load(model_dir + 'task1_z2_all.npy')\n",
    "\n",
    "# LOAD Split and y\n",
    "\n",
    "trainInd = np.load(\"/home/bram/jointomicscomp/data/CELL/trainInd.npy\")\n",
    "validInd = np.load(\"/home/bram/jointomicscomp/data/CELL/trainInd.npy\")\n",
    "testInd = np.load(\"/home/bram/jointomicscomp/data/CELL/trainInd.npy\")\n",
    "\n",
    "cellTypesl1 = np.load(\"/home/bram/jointomicscomp/data/CELL/celltype.l1cellTypes.npy\")\n",
    "cellTypesl2 = np.load(\"/home/bram/jointomicscomp/data/CELL/celltype.l2cellTypes.npy\")\n",
    "cellTypesl3 = np.load(\"/home/bram/jointomicscomp/data/CELL/celltype.l3cellTypes.npy\")\n",
    "cellTypel1 = np.load(\"/home/bram/jointomicscomp/data/CELL/celltype.l1cellType.npy\")\n",
    "cellTypel2 = np.load(\"/home/bram/jointomicscomp/data/CELL/celltype.l2cellType.npy\")\n",
    "cellTypel3 = np.load(\"/home/bram/jointomicscomp/data/CELL/celltype.l3cellType.npy\")"
   ]
  },
  {
   "cell_type": "code",
   "execution_count": 13,
   "id": "ad48a583",
   "metadata": {},
   "outputs": [],
   "source": [
    "def run_classifier(data, y, trainInd, validInd, testInd):\n",
    "    alphas = np.array([1e-4, 1e-3, 1e-2, 1e-1, 0.5, 1.0, 2.0, 5.0, 10., 20.])\n",
    "    validationPerformance = np.zeros(alphas.shape[0])\n",
    "    models = []\n",
    "\n",
    "    for i, a in enumerate(alphas):\n",
    "        model = LinearSVC(penalty='l2', loss='hinge', C=a, multi_class='ovr', fit_intercept=True, random_state=1)\n",
    "\n",
    "        # train\n",
    "        model.fit(data[trainInd], y[trainInd])\n",
    "\n",
    "        # save so that we don't have to re-train\n",
    "        models.append(model)\n",
    "\n",
    "        # evaluate using user-specified criterion\n",
    "        validationPerformance[i] = evaluate_classification(y[validInd], model.predict(data[validInd]), training=True)\n",
    "\n",
    "    bestModel = models[np.argmax(validationPerformance)]\n",
    "\n",
    "    predictions = bestModel.predict(data[testInd]).astype(int)\n",
    "\n",
    "    classifications = evaluate_classification(y[testInd], predictions)\n",
    "\n",
    "    print(\"Accuracy : \", classifications[0])\n",
    "    print(\"Confusion matrix : \\n\", classifications[5])\n",
    "    return classifications"
   ]
  },
  {
   "cell_type": "code",
   "execution_count": 14,
   "id": "8640a8b7",
   "metadata": {},
   "outputs": [],
   "source": [
    "def evaluate_classification(y_true, y_pred, training=False):\n",
    "    if training:\n",
    "        return accuracy_score(y_true, y_pred)\n",
    "    \n",
    "    # returns accuracy, precision, recall, f1, mcc, confusion_matrix\n",
    "    acc = accuracy_score(y_true, y_pred)\n",
    "    pr, rc, f1, _ = precision_recall_fscore_support(y_true, y_pred)\n",
    "    mcc = matthews_corrcoef(y_true, y_pred)\n",
    "    spear = stats.spearmanr(y_true, y_pred)\n",
    "    confMat = confusion_matrix(y_true, y_pred)\n",
    "\n",
    "    return [acc, pr, rc, f1, mcc, spear, confMat]"
   ]
  },
  {
   "cell_type": "code",
   "execution_count": 15,
   "id": "29cc7ad0",
   "metadata": {},
   "outputs": [
    {
     "name": "stdout",
     "output_type": "stream",
     "text": [
      "(161764, 128)\n"
     ]
    }
   ],
   "source": [
    "print(z2.shape)"
   ]
  },
  {
   "cell_type": "code",
   "execution_count": 16,
   "id": "8c5d5175",
   "metadata": {},
   "outputs": [
    {
     "name": "stdout",
     "output_type": "stream",
     "text": [
      "Celltype l1 from z1\n"
     ]
    },
    {
     "name": "stderr",
     "output_type": "stream",
     "text": [
      "/home/bram/miniconda3/envs/vae/lib/python3.9/site-packages/sklearn/svm/_base.py:1206: ConvergenceWarning: Liblinear failed to converge, increase the number of iterations.\n",
      "  warnings.warn(\n",
      "/home/bram/miniconda3/envs/vae/lib/python3.9/site-packages/sklearn/svm/_base.py:1206: ConvergenceWarning: Liblinear failed to converge, increase the number of iterations.\n",
      "  warnings.warn(\n",
      "/home/bram/miniconda3/envs/vae/lib/python3.9/site-packages/sklearn/svm/_base.py:1206: ConvergenceWarning: Liblinear failed to converge, increase the number of iterations.\n",
      "  warnings.warn(\n",
      "/home/bram/miniconda3/envs/vae/lib/python3.9/site-packages/sklearn/svm/_base.py:1206: ConvergenceWarning: Liblinear failed to converge, increase the number of iterations.\n",
      "  warnings.warn(\n",
      "/home/bram/miniconda3/envs/vae/lib/python3.9/site-packages/sklearn/svm/_base.py:1206: ConvergenceWarning: Liblinear failed to converge, increase the number of iterations.\n",
      "  warnings.warn(\n",
      "/home/bram/miniconda3/envs/vae/lib/python3.9/site-packages/sklearn/svm/_base.py:1206: ConvergenceWarning: Liblinear failed to converge, increase the number of iterations.\n",
      "  warnings.warn(\n",
      "/home/bram/miniconda3/envs/vae/lib/python3.9/site-packages/sklearn/svm/_base.py:1206: ConvergenceWarning: Liblinear failed to converge, increase the number of iterations.\n",
      "  warnings.warn(\n"
     ]
    },
    {
     "name": "stdout",
     "output_type": "stream",
     "text": [
      "Accuracy :  0.9771733250907967\n",
      "Confusion matrix : \n",
      " SpearmanrResult(correlation=0.9643509956192519, pvalue=0.0)\n"
     ]
    },
    {
     "data": {
      "text/plain": [
       "[0.9771733250907967,\n",
       " array([0.99907536, 0.9832274 , 0.95918269, 0.97271095, 0.98670893,\n",
       "        0.98538327, 0.97165992, 0.8684739 ]),\n",
       " array([0.99944501, 0.99310468, 0.96733239, 0.95085995, 0.99690115,\n",
       "        0.99381793, 0.80178174, 0.78822672]),\n",
       " array([0.99926015, 0.98814136, 0.9632403 , 0.96166134, 0.99177885,\n",
       "        0.98958263, 0.8785845 , 0.8264068 ]),\n",
       " 0.9712647887839004,\n",
       " SpearmanrResult(correlation=0.9643509956192519, pvalue=0.0),\n",
       " array([[10805,     0,     0,     2,     2,     1,     1,     0],\n",
       "        [    0, 33414,    92,     0,     3,     3,     2,   132],\n",
       "        [    0,   195, 19810,     0,     2,    26,     0,   446],\n",
       "        [    0,     0,     0,  2709,   137,     0,     3,     0],\n",
       "        [    2,     3,     0,    66, 38604,     0,    48,     1],\n",
       "        [    2,    12,    28,     0,     1, 14629,     6,    42],\n",
       "        [    6,    63,    21,     8,   374,    28,  2160,    34],\n",
       "        [    0,   297,   702,     0,     1,   159,     3,  4325]])]"
      ]
     },
     "execution_count": 16,
     "metadata": {},
     "output_type": "execute_result"
    }
   ],
   "source": [
    "print(\"Celltype l1 from z1\")\n",
    "run_classifier(z1, cellTypel1, trainInd, validInd, testInd)"
   ]
  },
  {
   "cell_type": "code",
   "execution_count": 17,
   "id": "72eef002",
   "metadata": {},
   "outputs": [
    {
     "name": "stdout",
     "output_type": "stream",
     "text": [
      "Celltype l2 from z1\n"
     ]
    },
    {
     "name": "stderr",
     "output_type": "stream",
     "text": [
      "/home/bram/miniconda3/envs/vae/lib/python3.9/site-packages/sklearn/svm/_base.py:1206: ConvergenceWarning: Liblinear failed to converge, increase the number of iterations.\n",
      "  warnings.warn(\n",
      "/home/bram/miniconda3/envs/vae/lib/python3.9/site-packages/sklearn/svm/_base.py:1206: ConvergenceWarning: Liblinear failed to converge, increase the number of iterations.\n",
      "  warnings.warn(\n",
      "/home/bram/miniconda3/envs/vae/lib/python3.9/site-packages/sklearn/svm/_base.py:1206: ConvergenceWarning: Liblinear failed to converge, increase the number of iterations.\n",
      "  warnings.warn(\n",
      "/home/bram/miniconda3/envs/vae/lib/python3.9/site-packages/sklearn/svm/_base.py:1206: ConvergenceWarning: Liblinear failed to converge, increase the number of iterations.\n",
      "  warnings.warn(\n",
      "/home/bram/miniconda3/envs/vae/lib/python3.9/site-packages/sklearn/svm/_base.py:1206: ConvergenceWarning: Liblinear failed to converge, increase the number of iterations.\n",
      "  warnings.warn(\n",
      "/home/bram/miniconda3/envs/vae/lib/python3.9/site-packages/sklearn/svm/_base.py:1206: ConvergenceWarning: Liblinear failed to converge, increase the number of iterations.\n",
      "  warnings.warn(\n",
      "/home/bram/miniconda3/envs/vae/lib/python3.9/site-packages/sklearn/svm/_base.py:1206: ConvergenceWarning: Liblinear failed to converge, increase the number of iterations.\n",
      "  warnings.warn(\n",
      "/home/bram/miniconda3/envs/vae/lib/python3.9/site-packages/sklearn/svm/_base.py:1206: ConvergenceWarning: Liblinear failed to converge, increase the number of iterations.\n",
      "  warnings.warn(\n"
     ]
    },
    {
     "name": "stdout",
     "output_type": "stream",
     "text": [
      "Accuracy :  0.8951703886871185\n",
      "Confusion matrix : \n",
      " SpearmanrResult(correlation=0.9583300198810458, pvalue=0.0)\n"
     ]
    },
    {
     "data": {
      "text/plain": [
       "[0.8951703886871185,\n",
       " array([0.97297297, 0.84661118, 0.81429042, 0.90384326, 0.98166134,\n",
       "        0.95279825, 0.90589888, 0.89789867, 0.61538462, 0.71128834,\n",
       "        0.51737452, 0.94781367, 0.        , 0.74396593, 0.90586957,\n",
       "        0.8630137 , 0.88571429, 0.98281787, 0.87209302, 0.82283763,\n",
       "        0.90963652, 0.00671141, 0.64285714, 0.97712418, 0.98810232,\n",
       "        0.18862275, 0.88461538, 0.91924227, 0.66071429, 0.83333333,\n",
       "        0.98377581]),\n",
       " array([0.63157895, 0.38382749, 0.97592739, 0.98134512, 0.99376225,\n",
       "        0.94582839, 0.92077088, 0.97290124, 0.09638554, 0.94853964,\n",
       "        0.03850575, 0.9790059 , 0.        , 0.66301139, 0.90361054,\n",
       "        0.39705882, 0.47692308, 0.95652174, 0.72815534, 0.9241585 ,\n",
       "        0.99755953, 0.00222717, 0.02403204, 0.96141479, 0.9486008 ,\n",
       "        0.0294255 , 0.19827586, 0.91786959, 0.12211221, 0.72083186,\n",
       "        1.        ]),\n",
       " array([0.76595745, 0.52818991, 0.88781188, 0.9410011 , 0.98767473,\n",
       "        0.94930053, 0.91327434, 0.93389649, 0.16666667, 0.81295796,\n",
       "        0.07167692, 0.96315731, 0.        , 0.70115968, 0.90473864,\n",
       "        0.54388489, 0.62      , 0.96949153, 0.79365079, 0.8705599 ,\n",
       "        0.95157137, 0.00334448, 0.04633205, 0.96920583, 0.96794872,\n",
       "        0.05090909, 0.32394366, 0.91855542, 0.20612813, 0.77301077,\n",
       "        0.99182156]),\n",
       " 0.88174615075447,\n",
       " SpearmanrResult(correlation=0.9583300198810458, pvalue=0.0),\n",
       " array([[   36,     0,     0,     0,     0,     0,     0,     0,     0,\n",
       "             0,     0,     0,     0,     0,     0,     0,     0,     0,\n",
       "             0,     0,     0,     0,     0,     0,     0,     0,     0,\n",
       "            11,     0,     0,    10],\n",
       "        [    0,   712,   505,   632,     1,     0,     0,     0,     0,\n",
       "             0,     0,     1,     1,     0,     0,     0,     0,     0,\n",
       "             0,     0,     1,     0,     1,     0,     0,     1,     0,\n",
       "             0,     0,     0,     0],\n",
       "        [    0,    53,  2473,     4,     0,     0,     0,     0,     0,\n",
       "             0,     0,     0,     0,     0,     0,     0,     0,     0,\n",
       "             0,     0,     0,     0,     0,     3,     0,     1,     0,\n",
       "             0,     0,     0,     0],\n",
       "        [    0,    60,    52,  5997,     0,     0,     0,     0,     0,\n",
       "             0,     0,     0,     0,     0,     0,     0,     0,     0,\n",
       "             0,     0,     1,     0,     0,     0,     0,     1,     0,\n",
       "             0,     0,     0,     0],\n",
       "        [    0,     1,     0,     0, 33456,   134,     0,     0,     0,\n",
       "             2,     1,     0,     0,     0,     0,     8,     1,     0,\n",
       "             0,     0,     0,     0,     1,     0,     8,     0,     0,\n",
       "            53,     0,     1,     0],\n",
       "        [    0,     2,     0,     0,   256,  4784,     0,     0,     0,\n",
       "             0,     0,     0,     0,     0,     0,    14,     0,     0,\n",
       "             0,     0,     0,     0,     0,     0,     0,     0,     0,\n",
       "             2,     0,     0,     0],\n",
       "        [    0,     0,     0,     0,     0,     0,  1290,     0,     0,\n",
       "            12,    11,     0,     4,     0,    40,     0,     0,     0,\n",
       "             0,     8,     1,    16,     0,     0,     0,     2,     0,\n",
       "             0,     1,    16,     0],\n",
       "        [    0,     0,     0,     0,     0,     0,     0, 13930,     0,\n",
       "           344,     3,    12,     0,     1,     0,     0,     0,     0,\n",
       "             0,     0,     0,     0,     0,     0,     0,    22,     0,\n",
       "             0,     1,     5,     0],\n",
       "        [    0,     0,     0,     0,     1,     0,     2,     1,     8,\n",
       "            53,     1,     0,     0,     0,     9,     0,     0,     0,\n",
       "             0,     0,     2,     0,     0,     0,     1,     1,     0,\n",
       "             0,     1,     3,     0],\n",
       "        [    0,     1,     1,     0,     1,     0,    13,   476,     1,\n",
       "         11594,    22,     1,     1,    18,     1,     0,     0,     0,\n",
       "             0,    18,     0,    14,     0,     0,     1,    53,     0,\n",
       "             0,     0,     7,     0],\n",
       "        [    0,     0,     0,     0,     0,     0,    85,     5,     1,\n",
       "          3028,   134,     0,     1,    21,    10,     0,     0,     0,\n",
       "             0,   143,     0,    15,     0,     0,     0,    22,     0,\n",
       "             0,     3,    12,     0],\n",
       "        [    0,     0,     0,     0,     1,     0,     0,    25,     0,\n",
       "             0,     0,  8627,     0,    57,    74,     0,     0,     0,\n",
       "             1,     3,     0,     0,     1,     0,     0,    11,     0,\n",
       "             0,     0,    12,     0],\n",
       "        [    0,     0,     0,     0,     0,     0,     7,     0,     0,\n",
       "             0,     0,     0,     0,     1,    60,     0,     0,     0,\n",
       "             0,     0,     2,     0,     0,     0,     0,     0,     0,\n",
       "             0,     0,     3,     0],\n",
       "        [    0,     0,     0,     0,     0,     0,     0,     6,     0,\n",
       "            96,    22,   209,     6,  1572,   231,     0,     0,     0,\n",
       "             0,   104,     0,    21,     0,     0,     0,    70,     0,\n",
       "             0,     1,    33,     0],\n",
       "        [    0,     0,     0,     0,     0,     0,    11,     1,     0,\n",
       "             4,    30,    92,     4,   412,  8334,     0,     0,     1,\n",
       "             0,   104,    24,    30,     0,     0,     0,    23,     0,\n",
       "             0,     1,   152,     0],\n",
       "        [    0,     4,     0,     0,   151,   100,     0,    16,     0,\n",
       "            10,     0,     0,     0,     0,     0,   189,     0,     0,\n",
       "             0,     0,     0,     1,     0,     0,     5,     0,     0,\n",
       "             0,     0,     0,     0],\n",
       "        [    0,     0,     1,     0,    14,     0,     1,     2,     0,\n",
       "             3,     0,     3,     0,     0,     1,     0,    31,     3,\n",
       "             0,     1,     0,     0,     0,     0,     0,     0,     0,\n",
       "             0,     0,     5,     0],\n",
       "        [    0,     1,     0,     1,     1,     0,     0,     0,     0,\n",
       "             2,     0,     0,     0,     0,     0,     0,     0,   286,\n",
       "             2,     0,     0,     2,     0,     2,     0,     0,     0,\n",
       "             0,     1,     0,     1],\n",
       "        [    0,     0,     0,     0,     0,     0,     0,     0,     0,\n",
       "             7,     1,     0,     0,     0,     0,     0,     1,     0,\n",
       "            75,     1,     5,     3,     1,     1,     0,     2,     0,\n",
       "             0,     0,     6,     0],\n",
       "        [    0,     0,     0,     0,     0,     0,     8,     0,     0,\n",
       "            15,    15,     0,     0,    10,    84,     0,     0,     0,\n",
       "             1,  2169,     1,    18,     1,     0,     0,     2,     0,\n",
       "             0,     0,    23,     0],\n",
       "        [    0,     1,     0,     0,     0,     0,     0,     0,     0,\n",
       "             0,     0,     0,     0,     0,     5,     0,     0,     0,\n",
       "             0,     0, 13489,     3,     2,     0,     1,     0,     0,\n",
       "             0,     0,    21,     0],\n",
       "        [    0,     0,     0,     0,     0,     0,     3,     0,     2,\n",
       "             7,     0,     0,     0,     0,    23,     1,     0,     0,\n",
       "             0,     1,   403,     1,     1,     0,     0,     0,     0,\n",
       "             0,     0,     7,     0],\n",
       "        [    0,     1,     0,     0,     1,     0,     0,     0,     0,\n",
       "             0,     0,     0,     0,     0,     2,     0,     0,     1,\n",
       "             7,     0,   701,     0,    18,     0,     2,     0,     0,\n",
       "             0,     0,    16,     0],\n",
       "        [    0,     1,     5,     1,     2,     1,     0,     0,     0,\n",
       "             0,     0,     0,     0,     0,     0,     0,     0,     0,\n",
       "             0,     0,     0,     0,     0,   299,     0,     0,     1,\n",
       "             1,     0,     0,     0],\n",
       "        [    0,     1,     0,     0,    39,     1,     0,    14,     0,\n",
       "             0,     1,    12,     1,     2,     3,     7,     0,     0,\n",
       "             0,     0,     1,     0,     2,     0,  1661,     2,     0,\n",
       "             2,     0,     2,     0],\n",
       "        [    0,     0,     0,     0,     2,     0,     0,   940,     1,\n",
       "          1117,     5,     2,     0,     2,     0,     0,     1,     0,\n",
       "             0,     1,     1,     1,     0,     0,     0,    63,     0,\n",
       "             0,     2,     3,     0],\n",
       "        [    0,     0,     0,     0,     0,     0,     0,     0,     0,\n",
       "             0,     0,     0,     0,     0,     0,     0,     0,     0,\n",
       "             0,     0,     0,     0,     0,     0,     0,     0,    23,\n",
       "            93,     0,     0,     0],\n",
       "        [    1,     3,     0,     0,   155,     1,     0,     0,     0,\n",
       "             1,     0,     0,     0,     0,     0,     0,     0,     0,\n",
       "             0,     0,     0,     0,     0,     0,     2,     0,     2,\n",
       "          1844,     0,     0,     0],\n",
       "        [    0,     0,     0,     0,     0,     0,     0,    54,     0,\n",
       "             3,     2,    95,     0,     2,     6,     0,     0,     0,\n",
       "             0,     1,     0,     4,     0,     1,     0,    16,     0,\n",
       "             0,    37,    82,     0],\n",
       "        [    0,     0,     0,     0,     0,     0,     4,    44,     0,\n",
       "             2,    11,    48,     1,    15,   317,     0,     1,     0,\n",
       "             0,    82,   197,    20,     0,     0,     0,    42,     0,\n",
       "             0,     8,  2045,     0],\n",
       "        [    0,     0,     0,     0,     0,     0,     0,     0,     0,\n",
       "             0,     0,     0,     0,     0,     0,     0,     0,     0,\n",
       "             0,     0,     0,     0,     0,     0,     0,     0,     0,\n",
       "             0,     0,     0,   667]])]"
      ]
     },
     "execution_count": 17,
     "metadata": {},
     "output_type": "execute_result"
    }
   ],
   "source": [
    "print(\"Celltype l2 from z1\")\n",
    "run_classifier(z1, cellTypel2, trainInd, validInd, testInd)"
   ]
  },
  {
   "cell_type": "code",
   "execution_count": 18,
   "id": "2120a207",
   "metadata": {},
   "outputs": [
    {
     "name": "stdout",
     "output_type": "stream",
     "text": [
      "Celltype l3 from z1\n"
     ]
    },
    {
     "name": "stderr",
     "output_type": "stream",
     "text": [
      "/home/bram/miniconda3/envs/vae/lib/python3.9/site-packages/sklearn/svm/_base.py:1206: ConvergenceWarning: Liblinear failed to converge, increase the number of iterations.\n",
      "  warnings.warn(\n",
      "/home/bram/miniconda3/envs/vae/lib/python3.9/site-packages/sklearn/svm/_base.py:1206: ConvergenceWarning: Liblinear failed to converge, increase the number of iterations.\n",
      "  warnings.warn(\n",
      "/home/bram/miniconda3/envs/vae/lib/python3.9/site-packages/sklearn/svm/_base.py:1206: ConvergenceWarning: Liblinear failed to converge, increase the number of iterations.\n",
      "  warnings.warn(\n",
      "/home/bram/miniconda3/envs/vae/lib/python3.9/site-packages/sklearn/svm/_base.py:1206: ConvergenceWarning: Liblinear failed to converge, increase the number of iterations.\n",
      "  warnings.warn(\n",
      "/home/bram/miniconda3/envs/vae/lib/python3.9/site-packages/sklearn/svm/_base.py:1206: ConvergenceWarning: Liblinear failed to converge, increase the number of iterations.\n",
      "  warnings.warn(\n",
      "/home/bram/miniconda3/envs/vae/lib/python3.9/site-packages/sklearn/svm/_base.py:1206: ConvergenceWarning: Liblinear failed to converge, increase the number of iterations.\n",
      "  warnings.warn(\n",
      "/home/bram/miniconda3/envs/vae/lib/python3.9/site-packages/sklearn/svm/_base.py:1206: ConvergenceWarning: Liblinear failed to converge, increase the number of iterations.\n",
      "  warnings.warn(\n",
      "/home/bram/miniconda3/envs/vae/lib/python3.9/site-packages/sklearn/svm/_base.py:1206: ConvergenceWarning: Liblinear failed to converge, increase the number of iterations.\n",
      "  warnings.warn(\n"
     ]
    },
    {
     "name": "stdout",
     "output_type": "stream",
     "text": [
      "Accuracy :  0.7868789119851635\n",
      "Confusion matrix : \n",
      " SpearmanrResult(correlation=0.949866099171934, pvalue=0.0)\n"
     ]
    },
    {
     "data": {
      "text/plain": [
       "[0.7868789119851635,\n",
       " array([0.84210526, 1.        , 0.43426295, 0.47802198, 0.54443615,\n",
       "        0.30357143, 0.54985591, 0.51351351, 0.97631548, 0.94500098,\n",
       "        0.83533882, 0.89079106, 0.62162162, 0.63029701, 0.29166667,\n",
       "        0.60494182, 0.51102941, 0.15403423, 0.46153846, 0.        ,\n",
       "        0.92837705, 0.        , 0.0625    , 0.2173913 , 0.55042918,\n",
       "        0.57114625, 0.61627347, 0.61111111, 0.18852459, 0.57839625,\n",
       "        0.5548854 , 0.53630363, 0.89054726, 0.89473684, 0.97952218,\n",
       "        0.73913043, 0.75067385, 0.01169591, 0.62691706, 0.67724059,\n",
       "        0.3908046 , 0.32758621, 0.57170172, 0.86710963, 0.75      ,\n",
       "        0.98235294, 0.20245399, 0.20731707, 0.9047619 , 0.73195876,\n",
       "        0.83038438, 0.34375   , 0.77981651, 0.77004639, 0.6488764 ,\n",
       "        0.76481149, 0.14851485, 0.97230321]),\n",
       " array([0.5       , 0.2       , 0.12914692, 0.25816024, 0.93222506,\n",
       "        0.01752577, 0.98325174, 0.00852018, 0.99423751, 0.95116647,\n",
       "        0.94147038, 0.97758067, 0.27710843, 0.74896633, 0.02880658,\n",
       "        0.84813696, 0.10109091, 0.16492147, 0.01807229, 0.        ,\n",
       "        0.99289872, 0.        , 0.09589041, 0.07236842, 0.47281106,\n",
       "        0.54942966, 0.56462285, 0.24920969, 0.15131579, 0.76078289,\n",
       "        0.61048441, 0.66598361, 0.37605042, 0.52307692, 0.95986622,\n",
       "        0.82524272, 0.94929697, 0.00890869, 0.63066751, 0.9420521 ,\n",
       "        0.04091456, 0.03275862, 0.39919893, 0.95604396, 0.07894737,\n",
       "        0.95374072, 0.06420233, 0.01527403, 0.32758621, 0.11433172,\n",
       "        0.98054755, 0.06832298, 0.59859155, 0.89315911, 0.41176471,\n",
       "        0.7486819 , 0.14778325, 1.        ]),\n",
       " array([0.62745098, 0.33333333, 0.19908676, 0.33526012, 0.6874116 ,\n",
       "        0.0331384 , 0.70529526, 0.01676224, 0.985195  , 0.9480737 ,\n",
       "        0.8852349 , 0.93217009, 0.38333333, 0.68452662, 0.05243446,\n",
       "        0.70618816, 0.16879174, 0.15929204, 0.03478261, 0.        ,\n",
       "        0.95955448, 0.        , 0.07567568, 0.10858835, 0.50867625,\n",
       "        0.56007752, 0.5893186 , 0.35404192, 0.16788321, 0.65716969,\n",
       "        0.58135861, 0.59414991, 0.52880355, 0.66019417, 0.96959459,\n",
       "        0.77981651, 0.83838194, 0.01011378, 0.62878669, 0.78799333,\n",
       "        0.07407407, 0.05956113, 0.47012579, 0.90940767, 0.14285714,\n",
       "        0.96783541, 0.09748892, 0.02845188, 0.48101266, 0.19777159,\n",
       "        0.89924017, 0.11398964, 0.67729084, 0.82704626, 0.50381679,\n",
       "        0.75666075, 0.14814815, 0.98595713]),\n",
       " 0.7634470280183828,\n",
       " SpearmanrResult(correlation=0.949866099171934, pvalue=0.0),\n",
       " array([[ 16,   0,   0, ...,   0,   0,   1],\n",
       "        [  3,   5,   0, ...,   0,   0,  17],\n",
       "        [  0,   0, 109, ...,   0,   0,   0],\n",
       "        ...,\n",
       "        [  0,   0,   0, ..., 426,   4,   0],\n",
       "        [  0,   0,   0, ...,   0,  60,   0],\n",
       "        [  0,   0,   0, ...,   0,   0, 667]])]"
      ]
     },
     "execution_count": 18,
     "metadata": {},
     "output_type": "execute_result"
    }
   ],
   "source": [
    "print(\"Celltype l3 from z1\")\n",
    "run_classifier(z1, cellTypel3, trainInd, validInd, testInd)"
   ]
  },
  {
   "cell_type": "code",
   "execution_count": 19,
   "id": "13de401d",
   "metadata": {},
   "outputs": [
    {
     "name": "stdout",
     "output_type": "stream",
     "text": [
      "Celltype l1 from z2\n"
     ]
    },
    {
     "name": "stderr",
     "output_type": "stream",
     "text": [
      "/home/bram/miniconda3/envs/vae/lib/python3.9/site-packages/sklearn/svm/_base.py:1206: ConvergenceWarning: Liblinear failed to converge, increase the number of iterations.\n",
      "  warnings.warn(\n",
      "/home/bram/miniconda3/envs/vae/lib/python3.9/site-packages/sklearn/svm/_base.py:1206: ConvergenceWarning: Liblinear failed to converge, increase the number of iterations.\n",
      "  warnings.warn(\n",
      "/home/bram/miniconda3/envs/vae/lib/python3.9/site-packages/sklearn/svm/_base.py:1206: ConvergenceWarning: Liblinear failed to converge, increase the number of iterations.\n",
      "  warnings.warn(\n",
      "/home/bram/miniconda3/envs/vae/lib/python3.9/site-packages/sklearn/svm/_base.py:1206: ConvergenceWarning: Liblinear failed to converge, increase the number of iterations.\n",
      "  warnings.warn(\n",
      "/home/bram/miniconda3/envs/vae/lib/python3.9/site-packages/sklearn/svm/_base.py:1206: ConvergenceWarning: Liblinear failed to converge, increase the number of iterations.\n",
      "  warnings.warn(\n",
      "/home/bram/miniconda3/envs/vae/lib/python3.9/site-packages/sklearn/svm/_base.py:1206: ConvergenceWarning: Liblinear failed to converge, increase the number of iterations.\n",
      "  warnings.warn(\n"
     ]
    },
    {
     "name": "stdout",
     "output_type": "stream",
     "text": [
      "Accuracy :  0.9837261417201144\n",
      "Confusion matrix : \n",
      " SpearmanrResult(correlation=0.9757267624003877, pvalue=0.0)\n"
     ]
    },
    {
     "name": "stderr",
     "output_type": "stream",
     "text": [
      "/home/bram/miniconda3/envs/vae/lib/python3.9/site-packages/sklearn/svm/_base.py:1206: ConvergenceWarning: Liblinear failed to converge, increase the number of iterations.\n",
      "  warnings.warn(\n"
     ]
    },
    {
     "data": {
      "text/plain": [
       "[0.9837261417201144,\n",
       " array([0.9975986 , 0.99101203, 0.97674869, 0.96612022, 0.98481052,\n",
       "        0.99360849, 0.94681319, 0.92542116]),\n",
       " array([0.99907502, 0.99622541, 0.98461839, 0.93085293, 0.99452536,\n",
       "        0.99273098, 0.79955457, 0.89101513]),\n",
       " array([0.99833626, 0.99361188, 0.98066775, 0.94815874, 0.9896441 ,\n",
       "        0.99316954, 0.86697525, 0.90789229]),\n",
       " 0.9795185639372193,\n",
       " SpearmanrResult(correlation=0.9757267624003877, pvalue=0.0),\n",
       " array([[10801,     0,     2,     1,     3,     1,     2,     1],\n",
       "        [    2, 33519,    24,     0,     7,     3,     7,    84],\n",
       "        [    0,    24, 20164,     0,     1,    16,     1,   273],\n",
       "        [    3,     3,     0,  2652,   184,     1,     6,     0],\n",
       "        [    5,    14,     8,    87, 38512,     2,    93,     3],\n",
       "        [    5,    26,    36,     0,     8, 14613,    10,    22],\n",
       "        [   11,    71,    34,     5,   388,    20,  2154,    11],\n",
       "        [    0,   166,   376,     0,     3,    51,     2,  4889]])]"
      ]
     },
     "execution_count": 19,
     "metadata": {},
     "output_type": "execute_result"
    }
   ],
   "source": [
    "print(\"Celltype l1 from z2\")\n",
    "run_classifier(z2, cellTypel1, trainInd, validInd, testInd)"
   ]
  },
  {
   "cell_type": "code",
   "execution_count": 20,
   "id": "9d2f6f1e",
   "metadata": {},
   "outputs": [
    {
     "name": "stdout",
     "output_type": "stream",
     "text": [
      "Celltype l2 from z2\n"
     ]
    },
    {
     "name": "stderr",
     "output_type": "stream",
     "text": [
      "/home/bram/miniconda3/envs/vae/lib/python3.9/site-packages/sklearn/svm/_base.py:1206: ConvergenceWarning: Liblinear failed to converge, increase the number of iterations.\n",
      "  warnings.warn(\n",
      "/home/bram/miniconda3/envs/vae/lib/python3.9/site-packages/sklearn/svm/_base.py:1206: ConvergenceWarning: Liblinear failed to converge, increase the number of iterations.\n",
      "  warnings.warn(\n",
      "/home/bram/miniconda3/envs/vae/lib/python3.9/site-packages/sklearn/svm/_base.py:1206: ConvergenceWarning: Liblinear failed to converge, increase the number of iterations.\n",
      "  warnings.warn(\n",
      "/home/bram/miniconda3/envs/vae/lib/python3.9/site-packages/sklearn/svm/_base.py:1206: ConvergenceWarning: Liblinear failed to converge, increase the number of iterations.\n",
      "  warnings.warn(\n",
      "/home/bram/miniconda3/envs/vae/lib/python3.9/site-packages/sklearn/svm/_base.py:1206: ConvergenceWarning: Liblinear failed to converge, increase the number of iterations.\n",
      "  warnings.warn(\n",
      "/home/bram/miniconda3/envs/vae/lib/python3.9/site-packages/sklearn/svm/_base.py:1206: ConvergenceWarning: Liblinear failed to converge, increase the number of iterations.\n",
      "  warnings.warn(\n",
      "/home/bram/miniconda3/envs/vae/lib/python3.9/site-packages/sklearn/svm/_base.py:1206: ConvergenceWarning: Liblinear failed to converge, increase the number of iterations.\n",
      "  warnings.warn(\n",
      "/home/bram/miniconda3/envs/vae/lib/python3.9/site-packages/sklearn/svm/_base.py:1206: ConvergenceWarning: Liblinear failed to converge, increase the number of iterations.\n",
      "  warnings.warn(\n"
     ]
    },
    {
     "name": "stdout",
     "output_type": "stream",
     "text": [
      "Accuracy :  0.8950699327718106\n",
      "Confusion matrix : \n",
      " SpearmanrResult(correlation=0.957270622975858, pvalue=0.0)\n"
     ]
    },
    {
     "data": {
      "text/plain": [
       "[0.8950699327718106,\n",
       " array([0.88571429, 0.84645669, 0.77261307, 0.88474527, 0.97809513,\n",
       "        0.92931679, 0.90627107, 0.8873779 , 0.2       , 0.69919647,\n",
       "        0.82539683, 0.95545213, 0.2       , 0.78113208, 0.91961971,\n",
       "        0.87155963, 0.88888889, 0.96949153, 0.93333333, 0.84984277,\n",
       "        0.91837013, 0.01657459, 0.66666667, 0.93831169, 0.96171694,\n",
       "        0.76984127, 0.83333333, 0.90447461, 0.84761905, 0.89454806,\n",
       "        0.97932053]),\n",
       " array([0.54385965, 0.23180593, 0.97079716, 0.98609066, 0.99076219,\n",
       "        0.93317517, 0.95931478, 0.97073614, 0.02409639, 0.93258611,\n",
       "        0.01494253, 0.97843849, 0.02739726, 0.69843948, 0.92291012,\n",
       "        0.19957983, 0.12307692, 0.95652174, 0.81553398, 0.92117597,\n",
       "        0.99674604, 0.00668151, 0.00267023, 0.92926045, 0.94688749,\n",
       "        0.04530593, 0.21551724, 0.89547038, 0.58745875, 0.87909764,\n",
       "        0.994003  ]),\n",
       " array([0.67391304, 0.36394414, 0.86044071, 0.93267296, 0.98438791,\n",
       "        0.93124198, 0.93203883, 0.92718722, 0.04301075, 0.79920073,\n",
       "        0.02935366, 0.9668087 , 0.04819277, 0.73747495, 0.92126197,\n",
       "        0.32478632, 0.21621622, 0.96296296, 0.87046632, 0.88407279,\n",
       "        0.95595432, 0.00952381, 0.00531915, 0.93376414, 0.9542446 ,\n",
       "        0.08557565, 0.34246575, 0.89994997, 0.69395712, 0.88675556,\n",
       "        0.98660714]),\n",
       " 0.8817145377355731,\n",
       " SpearmanrResult(correlation=0.957270622975858, pvalue=0.0),\n",
       " array([[   31,     1,     0,     0,     0,     0,     0,     0,     0,\n",
       "             0,     0,     0,     0,     0,     0,     0,     0,     0,\n",
       "             0,     0,     0,     1,     0,     0,     0,     0,     0,\n",
       "            13,     0,     0,    11],\n",
       "        [    0,   430,   663,   750,     0,     0,     0,     0,     0,\n",
       "             0,     0,     0,     0,     0,     0,     0,     0,     0,\n",
       "             0,     0,     1,     7,     0,     2,     2,     0,     0,\n",
       "             0,     0,     0,     0],\n",
       "        [    0,    34,  2460,    31,     1,     0,     0,     0,     0,\n",
       "             0,     0,     0,     0,     0,     0,     0,     0,     0,\n",
       "             0,     0,     0,     1,     0,     7,     0,     0,     0,\n",
       "             0,     0,     0,     0],\n",
       "        [    0,    41,    43,  6026,     0,     0,     0,     0,     0,\n",
       "             0,     0,     0,     0,     0,     0,     0,     0,     1,\n",
       "             0,     0,     0,     0,     0,     0,     0,     0,     0,\n",
       "             0,     0,     0,     0],\n",
       "        [    0,     0,     2,     0, 33355,   166,     0,     1,     0,\n",
       "             8,     0,     2,     0,     1,     2,     2,     0,     0,\n",
       "             0,     2,     0,     9,     1,     0,    34,     0,     0,\n",
       "            80,     0,     1,     0],\n",
       "        [    0,     0,     0,     1,   313,  4720,     0,     0,     0,\n",
       "             2,     0,     1,     0,     0,     0,     9,     0,     0,\n",
       "             0,     0,     0,     4,     0,     0,     1,     0,     0,\n",
       "             6,     0,     1,     0],\n",
       "        [    0,     0,     0,     0,     1,     0,  1344,     1,     1,\n",
       "            28,     3,     0,     1,     1,     0,     0,     0,     0,\n",
       "             0,    14,     0,     6,     0,     0,     0,     0,     0,\n",
       "             0,     0,     1,     0],\n",
       "        [    0,     0,     1,     0,     1,     0,     0, 13899,     0,\n",
       "           397,     0,     0,     0,     1,     0,     0,     0,     0,\n",
       "             0,     0,     0,     6,     0,     0,     0,     6,     0,\n",
       "             0,     3,     4,     0],\n",
       "        [    0,     0,     0,     0,     2,     1,     0,     1,     2,\n",
       "            60,     0,     1,     0,     1,     7,     0,     0,     0,\n",
       "             0,     0,     3,     0,     0,     0,     1,     1,     0,\n",
       "             1,     1,     1,     0],\n",
       "        [    0,     0,     0,     0,     4,     1,    34,   706,     0,\n",
       "         11399,     5,     0,     1,     6,     3,     0,     0,     1,\n",
       "             0,    17,     1,    16,     0,     0,     2,    16,     0,\n",
       "             1,     0,    10,     0],\n",
       "        [    0,     0,     0,     0,     0,     0,    87,    23,     0,\n",
       "          3196,    52,     0,     0,     2,     1,     0,     0,     0,\n",
       "             0,    77,     0,    23,     0,     0,     1,     2,     0,\n",
       "             0,     1,    15,     0],\n",
       "        [    0,     0,     0,     0,     0,     0,     0,     0,     1,\n",
       "             0,     0,  8622,     1,    80,    83,     0,     0,     0,\n",
       "             0,     1,     0,     3,     0,     0,     1,     0,     0,\n",
       "             0,     5,    15,     0],\n",
       "        [    0,     0,     0,     0,     1,     0,     7,     0,     1,\n",
       "             1,     0,     5,     2,     0,    52,     0,     0,     1,\n",
       "             0,     0,     2,     0,     0,     0,     0,     0,     0,\n",
       "             0,     0,     1,     0],\n",
       "        [    0,     0,     0,     0,     1,     0,     0,     0,     3,\n",
       "             8,     0,   191,     1,  1656,   319,     0,     0,     0,\n",
       "             0,   140,     0,    28,     0,     0,     1,     0,     0,\n",
       "             0,     1,    22,     0],\n",
       "        [    0,     0,     0,     0,     3,     0,     3,     1,     0,\n",
       "             3,     0,   151,     3,   352,  8512,     0,     0,     1,\n",
       "             0,    64,    11,    13,     0,     0,     0,     0,     0,\n",
       "             0,     1,   105,     0],\n",
       "        [    0,     0,     0,     0,   162,   181,     0,    16,     1,\n",
       "            10,     0,     0,     0,     0,     0,    95,     0,     0,\n",
       "             0,     0,     0,     0,     0,     0,    10,     0,     1,\n",
       "             0,     0,     0,     0],\n",
       "        [    0,     0,     1,     0,    17,     0,     0,     4,     0,\n",
       "             9,     0,     5,     0,     1,     5,     0,     8,     0,\n",
       "             0,     2,     0,     1,     0,     6,     3,     0,     0,\n",
       "             0,     0,     3,     0],\n",
       "        [    0,     0,     0,     1,     1,     0,     0,     2,     0,\n",
       "             2,     0,     0,     0,     1,     2,     0,     0,   286,\n",
       "             0,     0,     1,     1,     0,     0,     0,     1,     0,\n",
       "             0,     1,     0,     0],\n",
       "        [    0,     0,     0,     0,     0,     0,     0,     0,     0,\n",
       "             2,     0,     0,     0,     0,     0,     0,     0,     2,\n",
       "            84,     1,     8,     3,     0,     2,     0,     0,     0,\n",
       "             0,     0,     1,     0],\n",
       "        [    0,     0,     0,     0,     0,     0,     1,     0,     1,\n",
       "            73,     2,     0,     0,    14,    52,     0,     0,     0,\n",
       "             1,  2162,     2,    14,     0,     0,     1,     0,     0,\n",
       "             0,     0,    24,     0],\n",
       "        [    0,     0,     2,     1,     5,     0,     1,     2,     0,\n",
       "             7,     0,     0,     0,     0,     6,     0,     0,     0,\n",
       "             0,     2, 13478,     4,     0,     1,     3,     0,     0,\n",
       "             0,     1,     9,     0],\n",
       "        [    0,     0,     0,     0,     0,     0,     3,     0,     0,\n",
       "             9,     0,     0,     0,     0,    22,     1,     0,     1,\n",
       "             0,     0,   404,     3,     0,     0,     0,     0,     0,\n",
       "             0,     0,     6,     0],\n",
       "        [    0,     0,     0,     1,     3,     0,     1,     1,     0,\n",
       "             1,     0,     0,     0,     0,     5,     0,     0,     1,\n",
       "             4,     1,   720,     3,     2,     0,     3,     0,     0,\n",
       "             0,     0,     3,     0],\n",
       "        [    0,     0,    12,     0,     1,     0,     0,     0,     0,\n",
       "             0,     0,     1,     0,     0,     0,     0,     0,     0,\n",
       "             1,     0,     0,     5,     0,   289,     0,     1,     0,\n",
       "             1,     0,     0,     0],\n",
       "        [    0,     1,     0,     0,    43,     2,     0,    17,     0,\n",
       "             2,     0,    15,     0,     0,     1,     2,     0,     0,\n",
       "             0,     1,     1,     6,     0,     0,  1658,     0,     1,\n",
       "             0,     0,     0,     1],\n",
       "        [    0,     0,     0,     0,     2,     0,     2,   951,     0,\n",
       "          1081,     0,     0,     0,     2,     1,     0,     0,     0,\n",
       "             0,     2,     0,     2,     0,     0,     0,    97,     0,\n",
       "             0,     0,     1,     0],\n",
       "        [    0,     0,     0,     0,     0,     0,     0,     0,     0,\n",
       "             0,     0,     0,     0,     0,     0,     0,     0,     0,\n",
       "             0,     0,     1,     3,     0,     0,     0,     0,    25,\n",
       "            87,     0,     0,     0],\n",
       "        [    4,     1,     0,     0,   183,     7,     0,     0,     0,\n",
       "             1,     0,     0,     1,     0,     0,     0,     0,     1,\n",
       "             0,     0,     0,     4,     0,     0,     3,     0,     3,\n",
       "          1799,     0,     0,     2],\n",
       "        [    0,     0,     0,     0,     0,     0,     0,    29,     0,\n",
       "             2,     0,    17,     0,     1,     0,     0,     0,     0,\n",
       "             0,     0,     0,     2,     0,     1,     0,     2,     0,\n",
       "             0,   178,    71,     0],\n",
       "        [    0,     0,     0,     0,     1,     0,     0,     9,     0,\n",
       "             2,     1,    13,     0,     1,   183,     0,     1,     0,\n",
       "             0,    58,    43,    13,     0,     0,     0,     0,     0,\n",
       "             0,    18,  2494,     0],\n",
       "        [    0,     0,     0,     0,     2,     1,     0,     0,     0,\n",
       "             0,     0,     0,     0,     0,     0,     0,     0,     0,\n",
       "             0,     0,     0,     0,     0,     0,     0,     0,     0,\n",
       "             1,     0,     0,   663]])]"
      ]
     },
     "execution_count": 20,
     "metadata": {},
     "output_type": "execute_result"
    }
   ],
   "source": [
    "print(\"Celltype l2 from z2\")\n",
    "run_classifier(z2, cellTypel2, trainInd, validInd, testInd)"
   ]
  },
  {
   "cell_type": "code",
   "execution_count": 21,
   "id": "ed94cc84",
   "metadata": {},
   "outputs": [
    {
     "name": "stdout",
     "output_type": "stream",
     "text": [
      "Celltype l3 from z2\n"
     ]
    },
    {
     "name": "stderr",
     "output_type": "stream",
     "text": [
      "/home/bram/miniconda3/envs/vae/lib/python3.9/site-packages/sklearn/svm/_base.py:1206: ConvergenceWarning: Liblinear failed to converge, increase the number of iterations.\n",
      "  warnings.warn(\n",
      "/home/bram/miniconda3/envs/vae/lib/python3.9/site-packages/sklearn/svm/_base.py:1206: ConvergenceWarning: Liblinear failed to converge, increase the number of iterations.\n",
      "  warnings.warn(\n",
      "/home/bram/miniconda3/envs/vae/lib/python3.9/site-packages/sklearn/svm/_base.py:1206: ConvergenceWarning: Liblinear failed to converge, increase the number of iterations.\n",
      "  warnings.warn(\n",
      "/home/bram/miniconda3/envs/vae/lib/python3.9/site-packages/sklearn/svm/_base.py:1206: ConvergenceWarning: Liblinear failed to converge, increase the number of iterations.\n",
      "  warnings.warn(\n",
      "/home/bram/miniconda3/envs/vae/lib/python3.9/site-packages/sklearn/svm/_base.py:1206: ConvergenceWarning: Liblinear failed to converge, increase the number of iterations.\n",
      "  warnings.warn(\n",
      "/home/bram/miniconda3/envs/vae/lib/python3.9/site-packages/sklearn/svm/_base.py:1206: ConvergenceWarning: Liblinear failed to converge, increase the number of iterations.\n",
      "  warnings.warn(\n",
      "/home/bram/miniconda3/envs/vae/lib/python3.9/site-packages/sklearn/svm/_base.py:1206: ConvergenceWarning: Liblinear failed to converge, increase the number of iterations.\n",
      "  warnings.warn(\n",
      "/home/bram/miniconda3/envs/vae/lib/python3.9/site-packages/sklearn/svm/_base.py:1206: ConvergenceWarning: Liblinear failed to converge, increase the number of iterations.\n",
      "  warnings.warn(\n"
     ]
    },
    {
     "name": "stdout",
     "output_type": "stream",
     "text": [
      "Accuracy :  0.7856348041109652\n",
      "Confusion matrix : \n",
      " SpearmanrResult(correlation=0.9495538252798222, pvalue=0.0)\n"
     ]
    },
    {
     "data": {
      "text/plain": [
       "[0.7856348041109652,\n",
       " array([0.84210526, 0.85714286, 0.53623188, 0.44240401, 0.52554745,\n",
       "        0.25423729, 0.55336141, 0.63380282, 0.97285094, 0.92419825,\n",
       "        0.87280986, 0.88001516, 0.28125   , 0.57796591, 0.30434783,\n",
       "        0.61146195, 0.503125  , 0.40983607, 0.78431373, 0.1       ,\n",
       "        0.92992238, 0.12087912, 0.30769231, 0.38888889, 0.66393443,\n",
       "        0.54314003, 0.5443415 , 0.68536585, 0.22477064, 0.61899002,\n",
       "        0.57583292, 0.67108168, 0.87850467, 0.76923077, 0.96283784,\n",
       "        0.77586207, 0.78142655, 0.003003  , 0.63317337, 0.66807353,\n",
       "        0.20087336, 0.26993865, 0.66216216, 0.83443709, 0.5       ,\n",
       "        0.95564516, 0.59036145, 0.47133758, 0.89473684, 0.79661017,\n",
       "        0.80625383, 0.75      , 0.75968992, 0.85918513, 0.64678179,\n",
       "        0.75480059, 0.63333333, 0.97364568]),\n",
       " array([0.5       , 0.24      , 0.04383886, 0.26211672, 0.92071611,\n",
       "        0.01546392, 0.98196341, 0.04035874, 0.99200974, 0.9400949 ,\n",
       "        0.96002855, 0.97276156, 0.10843373, 0.74601299, 0.07201646,\n",
       "        0.78006042, 0.11709091, 0.06544503, 0.02409639, 0.04761905,\n",
       "        0.99022119, 0.04954955, 0.05479452, 0.08289474, 0.29861751,\n",
       "        0.73003802, 0.72562858, 0.14805058, 0.16118421, 0.74193548,\n",
       "        0.76841407, 0.62295082, 0.19747899, 0.15384615, 0.95317726,\n",
       "        0.87378641, 0.94290584, 0.00445434, 0.66467254, 0.94670388,\n",
       "        0.0276775 , 0.03793103, 0.26168224, 0.92307692, 0.05263158,\n",
       "        0.9474586 , 0.04766537, 0.06648697, 0.29310345, 0.07568438,\n",
       "        0.94740634, 0.11180124, 0.69014085, 0.92390469, 0.73440285,\n",
       "        0.89806678, 0.09359606, 0.9970015 ]),\n",
       " array([0.62745098, 0.375     , 0.08105148, 0.32919255, 0.66914498,\n",
       "        0.02915452, 0.70783804, 0.07588533, 0.98233694, 0.9320788 ,\n",
       "        0.91434398, 0.92406701, 0.15652174, 0.6513247 , 0.11647255,\n",
       "        0.68554739, 0.1899705 , 0.11286682, 0.04675628, 0.06451613,\n",
       "        0.95912499, 0.07028754, 0.09302326, 0.13665944, 0.41195168,\n",
       "        0.62287105, 0.62204576, 0.24350087, 0.18773946, 0.67490933,\n",
       "        0.6583286 , 0.64612115, 0.32246998, 0.25641026, 0.95798319,\n",
       "        0.82191781, 0.85460514, 0.00358744, 0.64854071, 0.78334983,\n",
       "        0.04865151, 0.0665155 , 0.37511962, 0.87652174, 0.0952381 ,\n",
       "        0.95153427, 0.08820882, 0.11653543, 0.44155844, 0.13823529,\n",
       "        0.87114939, 0.19459459, 0.72324723, 0.89037037, 0.68781302,\n",
       "        0.82022472, 0.16309013, 0.98518519]),\n",
       " 0.7620353746346216,\n",
       " SpearmanrResult(correlation=0.9495538252798222, pvalue=0.0),\n",
       " array([[ 16,   0,   0, ...,   0,   0,   1],\n",
       "        [  0,   6,   0, ...,   0,   0,  13],\n",
       "        [  0,   0,  37, ...,   0,   0,   0],\n",
       "        ...,\n",
       "        [  0,   0,   0, ..., 511,   0,   0],\n",
       "        [  0,   0,   0, ...,   1,  38,   0],\n",
       "        [  0,   0,   0, ...,   0,   0, 665]])]"
      ]
     },
     "execution_count": 21,
     "metadata": {},
     "output_type": "execute_result"
    }
   ],
   "source": [
    "print(\"Celltype l3 from z2\")\n",
    "run_classifier(z2, cellTypel3, trainInd, validInd, testInd)"
   ]
  }
 ],
 "metadata": {
  "kernelspec": {
   "display_name": "vae",
   "language": "python",
   "name": "vae"
  },
  "language_info": {
   "codemirror_mode": {
    "name": "ipython",
    "version": 3
   },
   "file_extension": ".py",
   "mimetype": "text/x-python",
   "name": "python",
   "nbconvert_exporter": "python",
   "pygments_lexer": "ipython3",
   "version": "3.9.7"
  }
 },
 "nbformat": 4,
 "nbformat_minor": 5
}
