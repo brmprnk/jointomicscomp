{
 "cells": [
  {
   "cell_type": "code",
   "execution_count": 1,
   "id": "4c24e446",
   "metadata": {},
   "outputs": [],
   "source": [
    "import os\n",
    "import numpy as np\n",
    "import pandas as pd\n",
    "from mord import OrdinalRidge\n",
    "from sklearn.linear_model import Ridge\n",
    "from sklearn.metrics import accuracy_score, mean_squared_error, r2_score, precision_recall_fscore_support, matthews_corrcoef, confusion_matrix\n",
    "from sklearn.neural_network import MLPClassifier\n",
    "from sklearn.svm import LinearSVC\n",
    "from scipy.stats import stats"
   ]
  },
  {
   "cell_type": "code",
   "execution_count": 2,
   "id": "a3bbd97a",
   "metadata": {},
   "outputs": [
    {
     "name": "stdout",
     "output_type": "stream",
     "text": [
      "PoE: Classification\n"
     ]
    }
   ],
   "source": [
    "print(\"PoE: Classification\")\n",
    "model_dir = \"/home/bram/jointomicscomp/results/EXCEL POE128 RNAADT 18-12-2021 10:20:52/PoE/\"\n",
    "\n",
    "z128 = np.load(model_dir + 'task1_z_all.npy')\n",
    "\n",
    "model_dir = '/home/bram/jointomicscomp/results/EXCEL PoE64 RNAADT 21-12-2021 07:33:27/PoE/'\n",
    "\n",
    "z64 = np.load(model_dir + 'task1_z_all.npy')\n",
    "\n",
    "# LOAD Split and y\n",
    "\n",
    "trainInd = np.load(\"/home/bram/jointomicscomp/data/CELL/trainInd.npy\")\n",
    "validInd = np.load(\"/home/bram/jointomicscomp/data/CELL/trainInd.npy\")\n",
    "testInd = np.load(\"/home/bram/jointomicscomp/data/CELL/trainInd.npy\")\n",
    "\n",
    "cellTypesl1 = np.load(\"/home/bram/jointomicscomp/data/CELL/celltype.l1cellTypes.npy\")\n",
    "cellTypesl2 = np.load(\"/home/bram/jointomicscomp/data/CELL/celltype.l2cellTypes.npy\")\n",
    "cellTypesl3 = np.load(\"/home/bram/jointomicscomp/data/CELL/celltype.l3cellTypes.npy\")\n",
    "cellTypel1 = np.load(\"/home/bram/jointomicscomp/data/CELL/celltype.l1cellType.npy\")\n",
    "cellTypel2 = np.load(\"/home/bram/jointomicscomp/data/CELL/celltype.l2cellType.npy\")\n",
    "cellTypel3 = np.load(\"/home/bram/jointomicscomp/data/CELL/celltype.l3cellType.npy\")"
   ]
  },
  {
   "cell_type": "code",
   "execution_count": 3,
   "id": "ad48a583",
   "metadata": {},
   "outputs": [],
   "source": [
    "def run_classifier(data, y, trainInd, validInd, testInd):\n",
    "    alphas = np.array([1e-4, 1e-3, 1e-2, 1e-1, 0.5, 1.0, 2.0, 5.0, 10., 20.])\n",
    "    validationPerformance = np.zeros(alphas.shape[0])\n",
    "    models = []\n",
    "\n",
    "    for i, a in enumerate(alphas):\n",
    "        model = LinearSVC(penalty='l2', loss='hinge', C=a, multi_class='ovr', fit_intercept=True, random_state=1)\n",
    "\n",
    "        # train\n",
    "        model.fit(data[trainInd], y[trainInd])\n",
    "\n",
    "        # save so that we don't have to re-train\n",
    "        models.append(model)\n",
    "\n",
    "        # evaluate using user-specified criterion\n",
    "        validationPerformance[i] = evaluate_classification(y[validInd], model.predict(data[validInd]), training=True)\n",
    "\n",
    "    bestModel = models[np.argmax(validationPerformance)]\n",
    "\n",
    "    predictions = bestModel.predict(data[testInd]).astype(int)\n",
    "\n",
    "    classifications = evaluate_classification(y[testInd], predictions)\n",
    "\n",
    "    print(\"Accuracy : \", classifications[0])\n",
    "#     print(\"Confusion matrix : \\n\", classifications[5])\n",
    "    return classifications"
   ]
  },
  {
   "cell_type": "code",
   "execution_count": 4,
   "id": "8640a8b7",
   "metadata": {},
   "outputs": [],
   "source": [
    "def evaluate_classification(y_true, y_pred, training=False):\n",
    "    if training:\n",
    "        return accuracy_score(y_true, y_pred)\n",
    "    \n",
    "    # returns accuracy, precision, recall, f1, mcc, confusion_matrix\n",
    "    acc = accuracy_score(y_true, y_pred)\n",
    "    pr, rc, f1, _ = precision_recall_fscore_support(y_true, y_pred)\n",
    "    mcc = matthews_corrcoef(y_true, y_pred)\n",
    "    spear = stats.spearmanr(y_true, y_pred)\n",
    "    confMat = confusion_matrix(y_true, y_pred)\n",
    "\n",
    "    return [acc, pr, rc, f1, mcc, spear, confMat]"
   ]
  },
  {
   "cell_type": "code",
   "execution_count": 8,
   "id": "29cc7ad0",
   "metadata": {},
   "outputs": [
    {
     "name": "stdout",
     "output_type": "stream",
     "text": [
      "(161764, 128)\n"
     ]
    }
   ],
   "source": [
    "print(z128.shape)"
   ]
  },
  {
   "cell_type": "code",
   "execution_count": 9,
   "id": "8c5d5175",
   "metadata": {},
   "outputs": [
    {
     "name": "stdout",
     "output_type": "stream",
     "text": [
      "Celltype l1 from common Z128\n",
      "Accuracy :  0.2054632563171316\n",
      "Confusion matrix : \n",
      " SpearmanrResult(correlation=-0.002190898140205519, pvalue=0.4306158158883826)\n"
     ]
    },
    {
     "data": {
      "text/plain": [
       "[0.2054632563171316,\n",
       " array([0.09243028, 0.26044716, 0.16336634, 0.02798635, 0.30390585,\n",
       "        0.11739794, 0.02484838, 0.04780064]),\n",
       " array([0.06437887, 0.12429412, 0.00322281, 0.01439101, 0.47479599,\n",
       "        0.16195652, 0.1095026 , 0.09823219]),\n",
       " array([0.07589553, 0.16827958, 0.00632093, 0.01900788, 0.37059956,\n",
       "        0.13612356, 0.04050529, 0.0643083 ]),\n",
       " 0.005614398172271021,\n",
       " SpearmanrResult(correlation=-0.002190898140205519, pvalue=0.4306158158883826),\n",
       " array([[  696,  1342,    38,   103,  4956,  1675,   998,  1003],\n",
       "        [ 1928,  4182,    95,   387, 15691,  5329,  3070,  2964],\n",
       "        [ 1180,  2472,    66,   224,  9552,  3311,  1909,  1765],\n",
       "        [  155,   357,     5,    41,  1335,   429,   278,   249],\n",
       "        [ 2223,  4879,   129,   463, 18386,  5907,  3462,  3275],\n",
       "        [  879,  1792,    42,   163,  6811,  2384,  1394,  1255],\n",
       "        [  151,   318,    11,    26,  1217,   450,   295,   226],\n",
       "        [  318,   715,    18,    58,  2551,   822,   466,   539]])]"
      ]
     },
     "execution_count": 9,
     "metadata": {},
     "output_type": "execute_result"
    }
   ],
   "source": [
    "print(\"Celltype l1 from common Z128\")\n",
    "run_classifier(z128, cellTypel1, trainInd, validInd, testInd)"
   ]
  },
  {
   "cell_type": "code",
   "execution_count": 10,
   "id": "72eef002",
   "metadata": {},
   "outputs": [
    {
     "name": "stdout",
     "output_type": "stream",
     "text": [
      "Celltype l2 from common Z128\n"
     ]
    },
    {
     "name": "stderr",
     "output_type": "stream",
     "text": [
      "/home/bram/miniconda3/envs/vae/lib/python3.9/site-packages/sklearn/svm/_base.py:1206: ConvergenceWarning: Liblinear failed to converge, increase the number of iterations.\n",
      "  warnings.warn(\n",
      "/home/bram/miniconda3/envs/vae/lib/python3.9/site-packages/sklearn/svm/_base.py:1206: ConvergenceWarning: Liblinear failed to converge, increase the number of iterations.\n",
      "  warnings.warn(\n",
      "/home/bram/miniconda3/envs/vae/lib/python3.9/site-packages/sklearn/svm/_base.py:1206: ConvergenceWarning: Liblinear failed to converge, increase the number of iterations.\n",
      "  warnings.warn(\n",
      "/home/bram/miniconda3/envs/vae/lib/python3.9/site-packages/sklearn/svm/_base.py:1206: ConvergenceWarning: Liblinear failed to converge, increase the number of iterations.\n",
      "  warnings.warn(\n",
      "/home/bram/miniconda3/envs/vae/lib/python3.9/site-packages/sklearn/svm/_base.py:1206: ConvergenceWarning: Liblinear failed to converge, increase the number of iterations.\n",
      "  warnings.warn(\n",
      "/home/bram/miniconda3/envs/vae/lib/python3.9/site-packages/sklearn/svm/_base.py:1206: ConvergenceWarning: Liblinear failed to converge, increase the number of iterations.\n",
      "  warnings.warn(\n"
     ]
    },
    {
     "name": "stdout",
     "output_type": "stream",
     "text": [
      "Accuracy :  0.09884089328490843\n",
      "Confusion matrix : \n",
      " SpearmanrResult(correlation=0.0068470336647507716, pvalue=0.013773009151686413)\n"
     ]
    },
    {
     "name": "stderr",
     "output_type": "stream",
     "text": [
      "/home/bram/miniconda3/envs/vae/lib/python3.9/site-packages/sklearn/metrics/_classification.py:1308: UndefinedMetricWarning: Precision and F-score are ill-defined and being set to 0.0 in labels with no predicted samples. Use `zero_division` parameter to control this behavior.\n",
      "  _warn_prf(average, modifier, msg_start, len(result))\n"
     ]
    },
    {
     "data": {
      "text/plain": [
       "[0.09884089328490843,\n",
       " array([0.        , 0.03225806, 0.02272727, 0.05111896, 0.27144462,\n",
       "        0.04701398, 0.        , 0.11592219, 0.00746269, 0.09951986,\n",
       "        0.        , 0.06623377, 0.        , 0.02435312, 0.10315534,\n",
       "        0.        , 0.        , 0.        , 0.        , 0.01810976,\n",
       "        0.11030584, 0.        , 0.        , 0.        , 0.01419624,\n",
       "        0.01591916, 0.        , 0.        , 0.        , 0.02320186,\n",
       "        0.        ]),\n",
       " array([0.        , 0.00053908, 0.00039463, 0.07101947, 0.19372661,\n",
       "        0.01463029, 0.        , 0.14191926, 0.01204819, 0.09326679,\n",
       "        0.        , 0.01157512, 0.        , 0.00674821, 0.00921609,\n",
       "        0.        , 0.        , 0.        , 0.        , 0.2803579 ,\n",
       "        0.11255731, 0.        , 0.        , 0.        , 0.03883495,\n",
       "        0.05371322, 0.        , 0.        , 0.        , 0.0070497 ,\n",
       "        0.        ]),\n",
       " array([0.        , 0.00106045, 0.0007758 , 0.05944798, 0.22609329,\n",
       "        0.02231604, 0.        , 0.12761014, 0.00921659, 0.09629192,\n",
       "        0.        , 0.01970634, 0.        , 0.01056803, 0.01692047,\n",
       "        0.        , 0.        , 0.        , 0.        , 0.03402187,\n",
       "        0.1114202 , 0.        , 0.        , 0.        , 0.02079193,\n",
       "        0.02455953, 0.        , 0.        , 0.        , 0.01081373,\n",
       "        0.        ]),\n",
       " 0.005161788206958227,\n",
       " SpearmanrResult(correlation=0.0068470336647507716, pvalue=0.013773009151686413),\n",
       " array([[   0,    0,    0,    3,   14,    0,    0,    8,    0,    3,    0,\n",
       "            0,    0,    0,    0,    0,    0,    0,    0,   15,    8,    0,\n",
       "            1,    0,    2,    3,    0,    0,    0,    0,    0],\n",
       "        [   0,    1,    1,  130,  351,   21,    0,  233,    2,  158,    0,\n",
       "           18,    0,   10,   12,    0,    1,    0,    0,  526,  191,    0,\n",
       "            1,    0,   82,  106,    0,    0,    1,   10,    0],\n",
       "        [   0,    1,    1,  155,  482,   30,    0,  319,    2,  234,    0,\n",
       "           34,    0,   10,   17,    0,    0,    0,    0,  714,  278,    0,\n",
       "            1,    0,   98,  138,    0,    0,    0,   20,    0],\n",
       "        [   0,    3,    1,  434, 1081,   84,    1,  803,    6,  560,    0,\n",
       "           71,    0,   26,   29,    0,    0,    0,    0, 1785,  604,    0,\n",
       "            0,    0,  235,  349,    3,    0,    1,   35,    0],\n",
       "        [   0,    8,   15, 2220, 6522,  388,    0, 4467,   44, 2999,    0,\n",
       "          377,    0,  159,  208,    0,    9,    0,    0, 9400, 3510,    0,\n",
       "            6,    0, 1204, 1882,   12,    0,    5,  231,    0],\n",
       "        [   0,    1,    3,  320,  893,   74,    0,  690,    4,  481,    0,\n",
       "           69,    0,   21,   32,    0,    0,    0,    0, 1416,  525,    0,\n",
       "            0,    0,  191,  305,    1,    0,    1,   31,    0],\n",
       "        [   0,    0,    0,   92,  245,   12,    0,  182,    1,  121,    0,\n",
       "           22,    0,    9,    7,    0,    0,    0,    0,  407,  169,    0,\n",
       "            0,    0,   51,   75,    0,    0,    0,    8,    0],\n",
       "        [   0,    7,    5,  986, 2610,  184,    0, 2032,    9, 1207,    0,\n",
       "          180,    0,   85,   90,    0,    2,    0,    0, 3932, 1557,    0,\n",
       "            1,    0,  513,  808,    3,    0,    2,  105,    0],\n",
       "        [   0,    0,    0,   10,   18,    7,    0,    9,    1,    5,    0,\n",
       "            0,    0,    0,    1,    0,    0,    0,    0,   24,    4,    0,\n",
       "            0,    0,    1,    2,    0,    0,    0,    1,    0],\n",
       "        [   0,    4,    3,  766, 2235,  138,    0, 1649,    6, 1140,    0,\n",
       "          160,    0,   57,   66,    0,    1,    0,    0, 3479, 1309,    0,\n",
       "            1,    0,  439,  681,    6,    0,    2,   81,    0],\n",
       "        [   0,    1,    1,  248,  645,   44,    0,  452,    5,  336,    0,\n",
       "           48,    0,   24,   24,    0,    0,    0,    0,  981,  337,    0,\n",
       "            0,    0,  109,  193,    0,    0,    3,   29,    0],\n",
       "        [   0,    1,    1,  571, 1635,  108,    0, 1206,    7,  800,    0,\n",
       "          102,    0,   40,   54,    0,    0,    0,    0, 2484,  943,    0,\n",
       "            0,    0,  340,  471,    2,    0,    1,   46,    0],\n",
       "        [   0,    0,    0,    4,   18,    0,    0,    5,    0,    6,    0,\n",
       "            1,    0,    0,    2,    0,    0,    0,    0,   23,    5,    0,\n",
       "            0,    0,    3,    6,    0,    0,    0,    0,    0],\n",
       "        [   0,    0,    0,  139,  463,   24,    1,  369,    3,  186,    0,\n",
       "           20,    0,   16,   13,    0,    0,    0,    0,  673,  238,    0,\n",
       "            1,    0,   94,  115,    1,    0,    0,   15,    0],\n",
       "        [   0,    3,    4,  598, 1714,  104,    1, 1257,    8,  802,    0,\n",
       "          118,    0,   51,   85,    0,    1,    0,    0, 2611,  967,    0,\n",
       "            1,    0,  377,  464,    3,    0,    2,   52,    0],\n",
       "        [   0,    0,    1,   35,   71,    6,    0,   58,    1,   52,    0,\n",
       "            4,    0,    3,    7,    0,    0,    0,    0,  135,   60,    0,\n",
       "            0,    0,   15,   26,    0,    0,    0,    2,    0],\n",
       "        [   0,    0,    0,    4,   14,    1,    0,    6,    0,    6,    0,\n",
       "            0,    0,    0,    2,    0,    0,    0,    0,   19,   10,    0,\n",
       "            0,    0,    1,    2,    0,    0,    0,    0,    0],\n",
       "        [   0,    0,    0,   22,   53,    1,    0,   39,    1,   26,    0,\n",
       "            4,    0,    0,    3,    0,    0,    0,    0,   82,   33,    0,\n",
       "            1,    0,   14,   18,    0,    0,    0,    2,    0],\n",
       "        [   0,    0,    0,    7,   17,    1,    0,    8,    1,    7,    0,\n",
       "            3,    0,    1,    0,    0,    0,    0,    0,   37,   13,    0,\n",
       "            0,    0,    2,    6,    0,    0,    0,    0,    0],\n",
       "        [   0,    0,    1,  162,  422,   31,    0,  312,    3,  190,    0,\n",
       "           25,    0,   10,   13,    0,    0,    0,    0,  658,  281,    0,\n",
       "            1,    0,   88,  131,    0,    0,    0,   19,    0],\n",
       "        [   0,    1,    2,  867, 2507,  177,    0, 1822,   16, 1130,    0,\n",
       "          162,    0,   63,   69,    0,    2,    0,    0, 3801, 1522,    0,\n",
       "            0,    0,  503,  782,    4,    0,    1,   91,    0],\n",
       "        [   0,    0,    0,   31,   76,   12,    0,   58,    1,   48,    0,\n",
       "            4,    0,    4,    2,    0,    0,    0,    0,  121,   40,    0,\n",
       "            1,    0,   17,   34,    0,    0,    0,    0,    0],\n",
       "        [   0,    0,    1,   50,  121,    6,    0,  116,    1,   74,    0,\n",
       "            6,    0,    4,    7,    0,    0,    0,    0,  209,   80,    0,\n",
       "            0,    0,   21,   46,    0,    0,    0,    7,    0],\n",
       "        [   0,    0,    1,   17,   66,    4,    0,   52,    1,   21,    0,\n",
       "            1,    0,    2,    4,    0,    0,    0,    0,   79,   30,    0,\n",
       "            0,    0,   12,   19,    0,    0,    0,    2,    0],\n",
       "        [   0,    0,    0,  109,  305,   27,    0,  237,    2,  133,    0,\n",
       "           16,    0,   16,   17,    0,    0,    0,    0,  501,  214,    0,\n",
       "            0,    0,   68,   92,    0,    0,    0,   14,    0],\n",
       "        [   0,    0,    1,  134,  402,   24,    0,  288,    0,  182,    0,\n",
       "           26,    0,    7,   17,    0,    0,    0,    0,  593,  251,    0,\n",
       "            0,    0,   82,  115,    0,    0,    1,   18,    0],\n",
       "        [   0,    0,    0,    6,   21,    3,    0,   18,    0,   10,    0,\n",
       "            0,    0,    0,    0,    0,    0,    0,    0,   32,    9,    0,\n",
       "            0,    0,    4,   12,    0,    0,    0,    1,    0],\n",
       "        [   0,    0,    2,  129,  366,   20,    0,  291,    1,  157,    0,\n",
       "           21,    0,   20,   13,    0,    1,    0,    0,  562,  202,    0,\n",
       "            0,    0,   85,  124,    0,    0,    0,   15,    0],\n",
       "        [   0,    0,    0,   18,   56,    4,    0,   46,    2,   32,    0,\n",
       "            3,    0,    1,    4,    0,    1,    0,    0,   81,   29,    0,\n",
       "            0,    0,    7,   18,    0,    0,    0,    1,    0],\n",
       "        [   0,    0,    0,  183,  492,   33,    0,  407,    4,  285,    0,\n",
       "           34,    0,   15,   15,    0,    0,    0,    0,  773,  306,    0,\n",
       "            1,    0,  104,  161,    2,    0,    2,   20,    0],\n",
       "        [   0,    0,    0,   40,  112,    6,    0,   90,    2,   64,    0,\n",
       "           11,    0,    3,   11,    0,    0,    0,    0,  181,   73,    0,\n",
       "            0,    0,   28,   40,    0,    0,    0,    6,    0]])]"
      ]
     },
     "execution_count": 10,
     "metadata": {},
     "output_type": "execute_result"
    }
   ],
   "source": [
    "print(\"Celltype l2 from common Z128\")\n",
    "run_classifier(z128, cellTypel2, trainInd, validInd, testInd)"
   ]
  },
  {
   "cell_type": "code",
   "execution_count": 5,
   "id": "d16780e3",
   "metadata": {},
   "outputs": [
    {
     "name": "stdout",
     "output_type": "stream",
     "text": [
      "Celltype l1 from common z64\n",
      "Accuracy :  0.19588130747237462\n"
     ]
    },
    {
     "data": {
      "text/plain": [
       "[0.19588130747237462,\n",
       " array([0.08739272, 0.26743363, 0.16041998, 0.0294599 , 0.30275593,\n",
       "        0.11682662, 0.01606426, 0.0212766 ]),\n",
       " array([1.33752659e-01, 8.98175117e-02, 3.69305142e-01, 6.31800632e-03,\n",
       "        2.96172916e-01, 1.24048913e-01, 1.48478099e-03, 1.82248952e-04]),\n",
       " array([0.10571335, 0.13447248, 0.22367798, 0.01040462, 0.29942824,\n",
       "        0.12032949, 0.00271831, 0.0003614 ]),\n",
       " 0.004363340497504681,\n",
       " SpearmanrResult(correlation=0.004410719102848404, pvalue=0.11258357449380924),\n",
       " array([[ 1446,   962,  3966,    46,  3077,  1289,    24,     1],\n",
       "        [ 4305,  3022, 12059,   165,  9876,  4143,    61,    15],\n",
       "        [ 2675,  1761,  7563,   105,  5960,  2375,    36,     4],\n",
       "        [  352,   254,  1037,    18,   840,   339,     9,     0],\n",
       "        [ 4840,  3303, 14158,   187, 11469,  4672,    75,    20],\n",
       "        [ 1846,  1292,  5379,    53,  4289,  1826,    29,     6],\n",
       "        [  359,   230,   959,    18,   812,   312,     4,     0],\n",
       "        [  723,   476,  2024,    19,  1559,   674,    11,     1]])]"
      ]
     },
     "execution_count": 5,
     "metadata": {},
     "output_type": "execute_result"
    }
   ],
   "source": [
    "print(\"Celltype l1 from common z64\")\n",
    "run_classifier(z64, cellTypel1, trainInd, validInd, testInd)"
   ]
  },
  {
   "cell_type": "code",
   "execution_count": 6,
   "id": "8a7ea9f9",
   "metadata": {},
   "outputs": [
    {
     "name": "stdout",
     "output_type": "stream",
     "text": [
      "Celltype l2 from common z64\n"
     ]
    },
    {
     "name": "stderr",
     "output_type": "stream",
     "text": [
      "/home/bram/miniconda3/envs/vae/lib/python3.9/site-packages/sklearn/svm/_base.py:1206: ConvergenceWarning: Liblinear failed to converge, increase the number of iterations.\n",
      "  warnings.warn(\n",
      "/home/bram/miniconda3/envs/vae/lib/python3.9/site-packages/sklearn/svm/_base.py:1206: ConvergenceWarning: Liblinear failed to converge, increase the number of iterations.\n",
      "  warnings.warn(\n"
     ]
    },
    {
     "name": "stdout",
     "output_type": "stream",
     "text": [
      "Accuracy :  0.13673595549030215\n"
     ]
    },
    {
     "name": "stderr",
     "output_type": "stream",
     "text": [
      "/home/bram/miniconda3/envs/vae/lib/python3.9/site-packages/sklearn/metrics/_classification.py:1308: UndefinedMetricWarning: Precision and F-score are ill-defined and being set to 0.0 in labels with no predicted samples. Use `zero_division` parameter to control this behavior.\n",
      "  _warn_prf(average, modifier, msg_start, len(result))\n"
     ]
    },
    {
     "data": {
      "text/plain": [
       "[0.13673595549030215,\n",
       " array([0.        , 0.        , 0.        , 0.        , 0.2622363 ,\n",
       "        0.03933805, 0.        , 0.        , 0.00060396, 0.5       ,\n",
       "        0.        , 0.        , 0.        , 0.        , 0.12903226,\n",
       "        0.        , 0.        , 0.00209018, 0.        , 0.        ,\n",
       "        0.10897436, 0.0033557 , 0.        , 0.        , 0.        ,\n",
       "        0.        , 0.        , 0.        , 0.        , 0.        ,\n",
       "        0.        ]),\n",
       " array([0.00000000e+00, 0.00000000e+00, 0.00000000e+00, 0.00000000e+00,\n",
       "        4.64860690e-01, 3.90075129e-01, 0.00000000e+00, 0.00000000e+00,\n",
       "        9.63855422e-02, 8.18129755e-05, 0.00000000e+00, 0.00000000e+00,\n",
       "        0.00000000e+00, 0.00000000e+00, 3.46958690e-03, 0.00000000e+00,\n",
       "        0.00000000e+00, 2.34113712e-02, 0.00000000e+00, 0.00000000e+00,\n",
       "        1.25721047e-03, 1.55902004e-02, 0.00000000e+00, 0.00000000e+00,\n",
       "        0.00000000e+00, 0.00000000e+00, 0.00000000e+00, 0.00000000e+00,\n",
       "        0.00000000e+00, 0.00000000e+00, 0.00000000e+00]),\n",
       " array([0.00000000e+00, 0.00000000e+00, 0.00000000e+00, 0.00000000e+00,\n",
       "        3.35315228e-01, 7.14686759e-02, 0.00000000e+00, 0.00000000e+00,\n",
       "        1.20039013e-03, 1.63599182e-04, 0.00000000e+00, 0.00000000e+00,\n",
       "        0.00000000e+00, 0.00000000e+00, 6.75747017e-03, 0.00000000e+00,\n",
       "        0.00000000e+00, 3.83771930e-03, 0.00000000e+00, 0.00000000e+00,\n",
       "        2.48574353e-03, 5.52268245e-03, 0.00000000e+00, 0.00000000e+00,\n",
       "        0.00000000e+00, 0.00000000e+00, 0.00000000e+00, 0.00000000e+00,\n",
       "        0.00000000e+00, 0.00000000e+00, 0.00000000e+00]),\n",
       " 0.0015655737059742855,\n",
       " SpearmanrResult(correlation=0.0016074502058180944, pvalue=0.5630936461866385),\n",
       " array([[    0,     0,     0,     0,    25,    25,     0,     0,     4,\n",
       "             0,     0,     0,     0,     0,     0,     0,     0,     1,\n",
       "             0,     0,     0,     2,     0,     0,     0,     0,     0,\n",
       "             0,     0,     0,     0],\n",
       "        [    0,     0,     0,     0,   846,   746,     2,     0,   162,\n",
       "             0,     0,     0,     4,     0,     4,     0,     0,    54,\n",
       "             0,     0,     5,    29,     0,     3,     0,     0,     0,\n",
       "             0,     0,     0,     0],\n",
       "        [    0,     0,     0,     0,  1157,   994,     0,     0,   237,\n",
       "             0,     0,     0,     7,     0,     4,     0,     0,    64,\n",
       "             0,     0,     7,    63,     0,     1,     0,     0,     0,\n",
       "             0,     0,     0,     0],\n",
       "        [    0,     0,     0,     0,  2790,  2379,     0,     0,   650,\n",
       "             0,     0,     0,    13,     0,    11,     1,     0,   162,\n",
       "             0,     0,     8,    95,     0,     2,     0,     0,     0,\n",
       "             0,     0,     0,     0],\n",
       "        [    2,     0,     0,     0, 15650, 12975,    12,     0,  3399,\n",
       "             0,     0,     0,   100,     0,    58,     2,     0,   838,\n",
       "             0,     0,    42,   561,     0,    27,     0,     0,     0,\n",
       "             0,     0,     0,     0],\n",
       "        [    0,     0,     0,     0,  2340,  1973,     3,     0,   510,\n",
       "             0,     0,     0,    14,     0,     7,     0,     0,   135,\n",
       "             0,     0,     7,    69,     0,     0,     0,     0,     0,\n",
       "             0,     0,     0,     0],\n",
       "        [    0,     0,     0,     0,   664,   537,     0,     0,   132,\n",
       "             0,     0,     0,     4,     0,     6,     1,     0,    27,\n",
       "             0,     0,     3,    26,     0,     1,     0,     0,     0,\n",
       "             0,     0,     0,     0],\n",
       "        [    0,     0,     0,     0,  6563,  5531,     2,     0,  1530,\n",
       "             1,     0,     0,    32,     0,    24,     0,     0,   382,\n",
       "             0,     0,    11,   237,     0,     5,     0,     0,     0,\n",
       "             0,     0,     0,     0],\n",
       "        [    0,     0,     0,     0,    41,    32,     0,     0,     8,\n",
       "             0,     0,     0,     0,     0,     0,     0,     0,     1,\n",
       "             0,     0,     0,     1,     0,     0,     0,     0,     0,\n",
       "             0,     0,     0,     0],\n",
       "        [    0,     0,     0,     0,  5611,  4729,     7,     0,  1269,\n",
       "             1,     0,     0,    39,     0,    20,     0,     0,   331,\n",
       "             0,     0,    12,   193,     0,    11,     0,     0,     0,\n",
       "             0,     0,     0,     0],\n",
       "        [    0,     0,     0,     0,  1636,  1318,     0,     0,   373,\n",
       "             0,     0,     0,    11,     0,     1,     0,     0,    86,\n",
       "             0,     0,     3,    50,     0,     2,     0,     0,     0,\n",
       "             0,     0,     0,     0],\n",
       "        [    0,     0,     0,     0,  4068,  3475,     5,     0,   847,\n",
       "             0,     0,     0,    23,     0,    17,     0,     0,   220,\n",
       "             0,     0,     7,   147,     0,     3,     0,     0,     0,\n",
       "             0,     0,     0,     0],\n",
       "        [    0,     0,     0,     0,    27,    37,     0,     0,     3,\n",
       "             0,     0,     0,     0,     0,     0,     0,     0,     4,\n",
       "             0,     0,     0,     2,     0,     0,     0,     0,     0,\n",
       "             0,     0,     0,     0],\n",
       "        [    0,     0,     0,     0,  1102,   916,     1,     0,   249,\n",
       "             0,     0,     0,     6,     0,     7,     0,     0,    52,\n",
       "             0,     0,     3,    33,     0,     2,     0,     0,     0,\n",
       "             0,     0,     0,     0],\n",
       "        [    2,     0,     0,     0,  4200,  3578,     4,     0,   959,\n",
       "             0,     0,     0,    27,     0,    32,     0,     0,   276,\n",
       "             0,     0,    13,   128,     0,     4,     0,     0,     0,\n",
       "             0,     0,     0,     0],\n",
       "        [    0,     0,     0,     0,   219,   182,     0,     0,    48,\n",
       "             0,     0,     0,     1,     0,     0,     0,     0,    16,\n",
       "             0,     0,     2,     7,     0,     1,     0,     0,     0,\n",
       "             0,     0,     0,     0],\n",
       "        [    0,     0,     0,     0,    30,    25,     0,     0,     8,\n",
       "             0,     0,     0,     0,     0,     0,     0,     0,     1,\n",
       "             0,     0,     0,     1,     0,     0,     0,     0,     0,\n",
       "             0,     0,     0,     0],\n",
       "        [    0,     0,     0,     0,   141,   116,     0,     0,    26,\n",
       "             0,     0,     0,     0,     0,     2,     0,     0,     7,\n",
       "             0,     0,     0,     7,     0,     0,     0,     0,     0,\n",
       "             0,     0,     0,     0],\n",
       "        [    0,     0,     0,     0,    47,    44,     1,     0,     8,\n",
       "             0,     0,     0,     0,     0,     1,     0,     0,     1,\n",
       "             0,     0,     0,     1,     0,     0,     0,     0,     0,\n",
       "             0,     0,     0,     0],\n",
       "        [    0,     0,     0,     0,  1071,   919,     1,     0,   255,\n",
       "             0,     0,     0,     4,     0,     3,     1,     0,    57,\n",
       "             0,     0,     2,    33,     0,     1,     0,     0,     0,\n",
       "             0,     0,     0,     0],\n",
       "        [    1,     0,     0,     0,  6206,  5202,     7,     0,  1410,\n",
       "             0,     0,     0,    36,     0,    32,     1,     0,   363,\n",
       "             0,     0,    17,   237,     0,    10,     0,     0,     0,\n",
       "             0,     0,     0,     0],\n",
       "        [    0,     0,     0,     0,   225,   166,     0,     0,    40,\n",
       "             0,     0,     0,     0,     0,     1,     0,     0,     9,\n",
       "             0,     0,     1,     7,     0,     0,     0,     0,     0,\n",
       "             0,     0,     0,     0],\n",
       "        [    0,     0,     0,     0,   361,   283,     0,     0,    80,\n",
       "             0,     0,     0,     0,     0,     0,     0,     0,    17,\n",
       "             0,     0,     1,     7,     0,     0,     0,     0,     0,\n",
       "             0,     0,     0,     0],\n",
       "        [    0,     0,     0,     0,   134,   124,     0,     0,    37,\n",
       "             0,     0,     0,     3,     0,     1,     0,     0,     5,\n",
       "             0,     0,     0,     7,     0,     0,     0,     0,     0,\n",
       "             0,     0,     0,     0],\n",
       "        [    0,     0,     0,     0,   804,   706,     2,     0,   159,\n",
       "             0,     0,     0,     8,     0,     2,     0,     0,    43,\n",
       "             0,     0,     1,    26,     0,     0,     0,     0,     0,\n",
       "             0,     0,     0,     0],\n",
       "        [    0,     0,     0,     0,   933,   893,     1,     0,   212,\n",
       "             0,     0,     0,     6,     0,     6,     1,     0,    46,\n",
       "             0,     0,     3,    39,     0,     1,     0,     0,     0,\n",
       "             0,     0,     0,     0],\n",
       "        [    0,     0,     0,     0,    56,    39,     0,     0,    17,\n",
       "             0,     0,     0,     1,     0,     0,     0,     0,     3,\n",
       "             0,     0,     0,     0,     0,     0,     0,     0,     0,\n",
       "             0,     0,     0,     0],\n",
       "        [    0,     0,     0,     0,   966,   750,     1,     0,   205,\n",
       "             0,     0,     0,     5,     0,     3,     0,     0,    50,\n",
       "             0,     0,     3,    26,     0,     0,     0,     0,     0,\n",
       "             0,     0,     0,     0],\n",
       "        [    0,     0,     0,     0,   155,   106,     0,     0,    29,\n",
       "             0,     0,     0,     1,     0,     0,     0,     0,     7,\n",
       "             0,     0,     0,     5,     0,     0,     0,     0,     0,\n",
       "             0,     0,     0,     0],\n",
       "        [    0,     0,     0,     0,  1316,  1085,     0,     0,   314,\n",
       "             0,     0,     0,     6,     0,     6,     0,     0,    67,\n",
       "             0,     0,     3,    38,     0,     2,     0,     0,     0,\n",
       "             0,     0,     0,     0],\n",
       "        [    0,     0,     0,     0,   295,   270,     0,     0,    66,\n",
       "             0,     0,     0,     1,     0,     0,     0,     0,    24,\n",
       "             0,     0,     2,     9,     0,     0,     0,     0,     0,\n",
       "             0,     0,     0,     0]])]"
      ]
     },
     "execution_count": 6,
     "metadata": {},
     "output_type": "execute_result"
    }
   ],
   "source": [
    "print(\"Celltype l2 from common z64\")\n",
    "run_classifier(z64, cellTypel2, trainInd, validInd, testInd)"
   ]
  },
  {
   "cell_type": "code",
   "execution_count": null,
   "id": "d5c774a6",
   "metadata": {},
   "outputs": [],
   "source": [
    "print(\"Celltype l3 from common z64\")\n",
    "run_classifier(z64, cellTypel3, trainInd, validInd, testInd)"
   ]
  }
 ],
 "metadata": {
  "kernelspec": {
   "display_name": "vae",
   "language": "python",
   "name": "vae"
  },
  "language_info": {
   "codemirror_mode": {
    "name": "ipython",
    "version": 3
   },
   "file_extension": ".py",
   "mimetype": "text/x-python",
   "name": "python",
   "nbconvert_exporter": "python",
   "pygments_lexer": "ipython3",
   "version": "3.9.7"
  }
 },
 "nbformat": 4,
 "nbformat_minor": 5
}
