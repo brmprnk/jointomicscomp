{
 "cells": [
  {
   "cell_type": "code",
   "execution_count": 51,
   "id": "4c24e446",
   "metadata": {},
   "outputs": [],
   "source": [
    "import os\n",
    "import torch\n",
    "import umap.plot\n",
    "import numpy as np\n",
    "import pandas as pd\n",
    "from mord import OrdinalRidge\n",
    "from sklearn.linear_model import Ridge\n",
    "from sklearn.metrics import accuracy_score, mean_squared_error, r2_score, precision_recall_fscore_support, matthews_corrcoef, confusion_matrix\n",
    "from sklearn.neural_network import MLPClassifier\n"
   ]
  },
  {
   "cell_type": "code",
   "execution_count": 19,
   "id": "20a50950",
   "metadata": {},
   "outputs": [],
   "source": [
    "ge = np.load(\"/home/bram/jointomicscomp/data/GE.npy\")\n",
    "cancerTypes = np.load(\"/home/bram/jointomicscomp/data/cancerTypes.npy\")\n",
    "cancerType = np.load(\"/home/bram/jointomicscomp/data/cancerType.npy\")\n",
    "cancer_type_labels = cancerTypes[cancerType.astype(int)]"
   ]
  },
  {
   "cell_type": "code",
   "execution_count": 35,
   "id": "7b4287cf",
   "metadata": {},
   "outputs": [],
   "source": [
    "# From baseline\n",
    "\n",
    "def evaluate_classification(y_true, y_pred):\n",
    "    # returns accuracy, precision, recall, f1, mcc, confusion_matrix\n",
    "    print(y_true.dtype, y_pred.dtype)\n",
    "\n",
    "    acc = accuracy_score(y_true, y_pred)\n",
    "    pr, rc, f1, _ = precision_recall_fscore_support(y_true, y_pred)\n",
    "    mcc = matthews_corrcoef(y_true, y_pred)\n",
    "    confMat = confusion_matrix(y_true, y_pred)\n",
    "\n",
    "    return [acc, pr, rc, f1, mcc, confMat]"
   ]
  },
  {
   "cell_type": "code",
   "execution_count": 53,
   "id": "ad5b803c",
   "metadata": {
    "scrolled": true
   },
   "outputs": [
    {
     "name": "stdout",
     "output_type": "stream",
     "text": [
      "RAW DATA: Baseline predictions\n",
      "float32 float32\n",
      "float32 float32\n",
      "float32 float32\n",
      "float32 float32\n",
      "float32 float32\n",
      "float32 float32\n"
     ]
    },
    {
     "name": "stderr",
     "output_type": "stream",
     "text": [
      "/home/bram/Documents/anaconda3/envs/vae/lib/python3.9/site-packages/sklearn/metrics/_classification.py:1248: UndefinedMetricWarning: Precision and F-score are ill-defined and being set to 0.0 in labels with no predicted samples. Use `zero_division` parameter to control this behavior.\n",
      "  _warn_prf(average, modifier, msg_start, len(result))\n"
     ]
    },
    {
     "name": "stdout",
     "output_type": "stream",
     "text": [
      "float32 float32\n"
     ]
    },
    {
     "name": "stderr",
     "output_type": "stream",
     "text": [
      "/home/bram/Documents/anaconda3/envs/vae/lib/python3.9/site-packages/sklearn/metrics/_classification.py:1248: UndefinedMetricWarning: Precision and F-score are ill-defined and being set to 0.0 in labels with no predicted samples. Use `zero_division` parameter to control this behavior.\n",
      "  _warn_prf(average, modifier, msg_start, len(result))\n"
     ]
    },
    {
     "name": "stdout",
     "output_type": "stream",
     "text": [
      "float32 float32\n"
     ]
    },
    {
     "name": "stderr",
     "output_type": "stream",
     "text": [
      "/home/bram/Documents/anaconda3/envs/vae/lib/python3.9/site-packages/sklearn/metrics/_classification.py:1248: UndefinedMetricWarning: Precision and F-score are ill-defined and being set to 0.0 in labels with no predicted samples. Use `zero_division` parameter to control this behavior.\n",
      "  _warn_prf(average, modifier, msg_start, len(result))\n"
     ]
    },
    {
     "name": "stdout",
     "output_type": "stream",
     "text": [
      "float32 float32\n"
     ]
    },
    {
     "name": "stderr",
     "output_type": "stream",
     "text": [
      "/home/bram/Documents/anaconda3/envs/vae/lib/python3.9/site-packages/sklearn/metrics/_classification.py:1248: UndefinedMetricWarning: Precision and F-score are ill-defined and being set to 0.0 in labels with no predicted samples. Use `zero_division` parameter to control this behavior.\n",
      "  _warn_prf(average, modifier, msg_start, len(result))\n"
     ]
    },
    {
     "name": "stdout",
     "output_type": "stream",
     "text": [
      "float32 float32\n",
      "float32 int64\n",
      "Accuracy :  0.9511904761904761\n",
      "Confusion matrix : \n",
      " [[12  0  0 ...  0  0  0]\n",
      " [ 0  8  0 ...  0  0  0]\n",
      " [ 0  0 39 ...  0  0  0]\n",
      " ...\n",
      " [ 0  0  0 ...  6  0  0]\n",
      " [ 0  0  0 ...  0 40  0]\n",
      " [ 0  0  0 ...  0  0  8]]\n"
     ]
    },
    {
     "name": "stderr",
     "output_type": "stream",
     "text": [
      "/home/bram/Documents/anaconda3/envs/vae/lib/python3.9/site-packages/sklearn/metrics/_classification.py:1248: UndefinedMetricWarning: Precision and F-score are ill-defined and being set to 0.0 in labels with no predicted samples. Use `zero_division` parameter to control this behavior.\n",
      "  _warn_prf(average, modifier, msg_start, len(result))\n"
     ]
    }
   ],
   "source": [
    "print(\"RAW DATA: Baseline predictions\")\n",
    "alphas = np.array([1e-4, 1e-3, 1e-2, 1e-1, 0.5, 1.0, 2.0, 5.0, 10., 20.])\n",
    "\n",
    "# if criterion == 'acc':\n",
    "#     ind = 0\n",
    "# elif criterion == 'pr':\n",
    "#     ind = 1\n",
    "# elif criterion == 'rc':\n",
    "#     ind = 2\n",
    "# elif criterion == 'f1':\n",
    "#     ind = 3\n",
    "# else:\n",
    "#     assert criterion == 'mcc'\n",
    "#     ind = 4\n",
    "\n",
    "latent_train = np.load(\"/home/bram/jointomicscomp/data/task1/GE_train.npy\")\n",
    "latent_val = np.load(\"/home/bram/jointomicscomp/data/task1/GE_val.npy\")\n",
    "latent_test = np.load(\"/home/bram/jointomicscomp/data/task1/GE_test.npy\")\n",
    "y_train = np.load(\"/home/bram/jointomicscomp/data/task1/cancerType_train.npy\").astype(np.float32)\n",
    "y_val = np.load(\"/home/bram/jointomicscomp/data/task1/cancerType_val.npy\").astype(np.float32)\n",
    "y_test = np.load(\"/home/bram/jointomicscomp/data/task1/cancerType_test.npy\").astype(np.float32)\n",
    "\n",
    "\n",
    "validationPerformance = np.zeros(alphas.shape[0])\n",
    "models = []\n",
    "\n",
    "for i, a in enumerate(alphas):\n",
    "    model = MLPClassifier(hidden_layer_sizes=(16), learning_rate_init=0.001, max_iter=7500, alpha=a)\n",
    "#     model = Ridge(alpha=a, fit_intercept=True, normalize=False, random_state=1)\n",
    "\n",
    "    # train\n",
    "    model.fit(latent_train, y_train)\n",
    "\n",
    "    # save so that we don't have to re-train\n",
    "    models.append(model)\n",
    "\n",
    "    # evaluate using user-specified criterion\n",
    "    validationPerformance[i] = evaluate_classification(y_val, model.predict(latent_val))[0]\n",
    "\n",
    "bestModel = models[np.argmax(validationPerformance)]\n",
    "\n",
    "predictions = bestModel.predict(latent_test).astype(int)\n",
    "\n",
    "classifications1 = evaluate_classification(y_test, predictions)\n",
    "\n",
    "print(\"Accuracy : \", classifications1[0])\n",
    "print(\"Confusion matrix : \\n\", classifications1[5])"
   ]
  },
  {
   "cell_type": "code",
   "execution_count": 61,
   "id": "d7f578f3",
   "metadata": {},
   "outputs": [
    {
     "name": "stdout",
     "output_type": "stream",
     "text": [
      "(5000, 16) (16, 33)\n"
     ]
    },
    {
     "name": "stderr",
     "output_type": "stream",
     "text": [
      "/tmp/ipykernel_18370/2208699578.py:5: VisibleDeprecationWarning: Creating an ndarray from ragged nested sequences (which is a list-or-tuple of lists-or-tuples-or ndarrays with different lengths or shapes) is deprecated. If you meant to do this, you must specify 'dtype=object' when creating the ndarray.\n",
      "  row = np.multiply(row, test)\n"
     ]
    },
    {
     "ename": "ValueError",
     "evalue": "operands could not be broadcast together with shapes (5000,) (2,) ",
     "output_type": "error",
     "traceback": [
      "\u001b[0;31m---------------------------------------------------------------------------\u001b[0m",
      "\u001b[0;31mValueError\u001b[0m                                Traceback (most recent call last)",
      "\u001b[0;32m/tmp/ipykernel_18370/2208699578.py\u001b[0m in \u001b[0;36m<module>\u001b[0;34m\u001b[0m\n\u001b[1;32m      3\u001b[0m \u001b[0mz\u001b[0m \u001b[0;34m=\u001b[0m \u001b[0mlatent_test\u001b[0m\u001b[0;34m\u001b[0m\u001b[0;34m\u001b[0m\u001b[0m\n\u001b[1;32m      4\u001b[0m \u001b[0;32mfor\u001b[0m \u001b[0mrow\u001b[0m \u001b[0;32min\u001b[0m \u001b[0mz\u001b[0m\u001b[0;34m:\u001b[0m\u001b[0;34m\u001b[0m\u001b[0;34m\u001b[0m\u001b[0m\n\u001b[0;32m----> 5\u001b[0;31m     \u001b[0mrow\u001b[0m \u001b[0;34m=\u001b[0m \u001b[0mnp\u001b[0m\u001b[0;34m.\u001b[0m\u001b[0mmultiply\u001b[0m\u001b[0;34m(\u001b[0m\u001b[0mrow\u001b[0m\u001b[0;34m,\u001b[0m \u001b[0mtest\u001b[0m\u001b[0;34m)\u001b[0m\u001b[0;34m\u001b[0m\u001b[0;34m\u001b[0m\u001b[0m\n\u001b[0m",
      "\u001b[0;31mValueError\u001b[0m: operands could not be broadcast together with shapes (5000,) (2,) "
     ]
    }
   ],
   "source": [
    "test = bestModel.coefs_\n",
    "print(test[0].shape, test[1].shape)\n",
    "z = latent_test\n",
    "for row in z:\n",
    "    row = np.multiply(row, test)"
   ]
  },
  {
   "cell_type": "code",
   "execution_count": 44,
   "id": "f00706f4",
   "metadata": {},
   "outputs": [],
   "source": [
    "title = \"Mord Ordinal Ridge Gene Expression Test set\"\n",
    "save_dir = \"/home/bram/jointomicscomp/umaps\"\n",
    "save_file = \"{}/UMAP {} Raw Data.png\"\\\n",
    "    .format(save_dir, \"GE\")\n",
    "background = \"white\"\n",
    "color_key_cmap = \"Spectral\""
   ]
  },
  {
   "cell_type": "code",
   "execution_count": 45,
   "id": "06502e76",
   "metadata": {},
   "outputs": [],
   "source": [
    "\n",
    "mapper = umap.UMAP(\n",
    "            n_neighbors=15,\n",
    "            min_dist=0.1,\n",
    "            n_components=2,\n",
    "            metric='euclidean'\n",
    "        ).fit(z)\n"
   ]
  },
  {
   "cell_type": "code",
   "execution_count": 47,
   "id": "7db080c7",
   "metadata": {},
   "outputs": [
    {
     "data": {
      "image/png": "[encoded data removed]",
      "text/plain": [
       "<Figure size 800x800 with 1 Axes>"
      ]
     },
     "metadata": {},
     "output_type": "display_data"
    }
   ],
   "source": [
    "p = umap.plot.points(mapper, labels=y_test, color_key_cmap=color_key_cmap, background=background)\n",
    "umap.plot.plt.title(title)\n",
    "# umap.plot.plt.legend()\n",
    "umap.plot.plt.savefig(save_file, dpi=1600)\n",
    "umap.plot.plt.show()"
   ]
  }
 ],
 "metadata": {
  "kernelspec": {
   "display_name": "vae",
   "language": "python",
   "name": "vae"
  },
  "language_info": {
   "codemirror_mode": {
    "name": "ipython",
    "version": 3
   },
   "file_extension": ".py",
   "mimetype": "text/x-python",
   "name": "python",
   "nbconvert_exporter": "python",
   "pygments_lexer": "ipython3",
   "version": "3.9.5"
  }
 },
 "nbformat": 4,
 "nbformat_minor": 5
}
