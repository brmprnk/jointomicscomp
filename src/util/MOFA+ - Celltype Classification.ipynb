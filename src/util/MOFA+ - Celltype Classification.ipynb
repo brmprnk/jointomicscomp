{
 "cells": [
  {
   "cell_type": "code",
   "execution_count": 2,
   "id": "4c24e446",
   "metadata": {},
   "outputs": [],
   "source": [
    "import os\n",
    "import numpy as np\n",
    "import pandas as pd\n",
    "from mord import OrdinalRidge\n",
    "from sklearn.linear_model import Ridge\n",
    "from sklearn.metrics import accuracy_score, mean_squared_error, r2_score, precision_recall_fscore_support, matthews_corrcoef, confusion_matrix\n",
    "from sklearn.neural_network import MLPClassifier\n",
    "from sklearn.svm import LinearSVC\n",
    "from scipy.stats import stats"
   ]
  },
  {
   "cell_type": "code",
   "execution_count": null,
   "id": "a3bbd97a",
   "metadata": {},
   "outputs": [],
   "source": [
    "print(\"MOFA+: Classification\")\n",
    "model_dir = \"/home/bram/jointomicscomp/results/EXCEL MOFA+128 RNAADT 16-12-2021 23:35:11/MOFA+/\"\n",
    "\n",
    "z = np.load(model_dir + 'task1_z.npy').T\n",
    "z_from_pseudo_w1 = np.load(model_dir + 'task1_z_from_pseudoinv_w1.npy')\n",
    "z_from_pseudo_w2 = np.load(model_dir + 'task1_z_from_pseudoinv_w2.npy')\n",
    "\n",
    "model_dir = '/home/bram/jointomicscomp/results/EXCEL MOFA+64 RNAADT 17-12-2021 07:35:33/MOFA+/'\n",
    "\n",
    "z64 = np.load(model_dir + 'task1_z.npy').T\n",
    "z64_from_pseudo_w1 = np.load(model_dir + 'task1_z_from_pseudoinv_w1.npy')\n",
    "z64_from_pseudo_w2 = np.load(model_dir + 'task1_z_from_pseudoinv_w2.npy')\n",
    "\n",
    "# LOAD Split and y\n",
    "\n",
    "trainInd = np.load(\"/home/bram/jointomicscomp/data/CELL/trainInd.npy\")\n",
    "validInd = np.load(\"/home/bram/jointomicscomp/data/CELL/trainInd.npy\")\n",
    "testInd = np.load(\"/home/bram/jointomicscomp/data/CELL/trainInd.npy\")\n",
    "\n",
    "cellTypesl1 = np.load(\"/home/bram/jointomicscomp/data/CELL/celltype.l1cellTypes.npy\")\n",
    "cellTypesl2 = np.load(\"/home/bram/jointomicscomp/data/CELL/celltype.l2cellTypes.npy\")\n",
    "cellTypesl3 = np.load(\"/home/bram/jointomicscomp/data/CELL/celltype.l3cellTypes.npy\")\n",
    "cellTypel1 = np.load(\"/home/bram/jointomicscomp/data/CELL/celltype.l1cellType.npy\")\n",
    "cellTypel2 = np.load(\"/home/bram/jointomicscomp/data/CELL/celltype.l2cellType.npy\")\n",
    "cellTypel3 = np.load(\"/home/bram/jointomicscomp/data/CELL/celltype.l3cellType.npy\")"
   ]
  },
  {
   "cell_type": "code",
   "execution_count": 4,
   "id": "ad48a583",
   "metadata": {},
   "outputs": [],
   "source": [
    "def run_classifier(data, y, trainInd, validInd, testInd):\n",
    "    alphas = np.array([1e-4, 1e-3, 1e-2, 1e-1, 0.5, 1.0, 2.0, 5.0, 10., 20.])\n",
    "    validationPerformance = np.zeros(alphas.shape[0])\n",
    "    models = []\n",
    "\n",
    "    for i, a in enumerate(alphas):\n",
    "        model = LinearSVC(penalty='l2', loss='hinge', C=a, multi_class='ovr', fit_intercept=True, random_state=1)\n",
    "\n",
    "        # train\n",
    "        model.fit(data[trainInd], y[trainInd])\n",
    "\n",
    "        # save so that we don't have to re-train\n",
    "        models.append(model)\n",
    "\n",
    "        # evaluate using user-specified criterion\n",
    "        validationPerformance[i] = evaluate_classification(y[validInd], model.predict(data[validInd]), training=True)\n",
    "\n",
    "    bestModel = models[np.argmax(validationPerformance)]\n",
    "\n",
    "    predictions = bestModel.predict(data[testInd]).astype(int)\n",
    "\n",
    "    classifications = evaluate_classification(y[testInd], predictions)\n",
    "\n",
    "    print(\"Accuracy : \", classifications[0])\n",
    "    print(\"Confusion matrix : \\n\", classifications[5])\n",
    "    return classifications"
   ]
  },
  {
   "cell_type": "code",
   "execution_count": 5,
   "id": "cc68fcd9",
   "metadata": {},
   "outputs": [
    {
     "name": "stdout",
     "output_type": "stream",
     "text": [
      "(145587, 128)\n"
     ]
    }
   ],
   "source": [
    "print(z.shape)"
   ]
  },
  {
   "cell_type": "code",
   "execution_count": 6,
   "id": "8640a8b7",
   "metadata": {},
   "outputs": [],
   "source": [
    "def evaluate_classification(y_true, y_pred, training=False):\n",
    "    if training:\n",
    "        return accuracy_score(y_true, y_pred)\n",
    "    \n",
    "    # returns accuracy, precision, recall, f1, mcc, confusion_matrix\n",
    "    acc = accuracy_score(y_true, y_pred)\n",
    "    pr, rc, f1, _ = precision_recall_fscore_support(y_true, y_pred)\n",
    "    mcc = matthews_corrcoef(y_true, y_pred)\n",
    "    spear = stats.spearmanr(y_true, y_pred)\n",
    "    confMat = confusion_matrix(y_true, y_pred)\n",
    "\n",
    "    return [acc, pr, rc, f1, mcc, spear, confMat]"
   ]
  },
  {
   "cell_type": "code",
   "execution_count": 7,
   "id": "8c5d5175",
   "metadata": {},
   "outputs": [
    {
     "name": "stdout",
     "output_type": "stream",
     "text": [
      "Celltype l1 from common Z\n"
     ]
    },
    {
     "name": "stderr",
     "output_type": "stream",
     "text": [
      "/home/bram/miniconda3/envs/vae/lib/python3.9/site-packages/sklearn/svm/_base.py:1206: ConvergenceWarning: Liblinear failed to converge, increase the number of iterations.\n",
      "  warnings.warn(\n",
      "/home/bram/miniconda3/envs/vae/lib/python3.9/site-packages/sklearn/svm/_base.py:1206: ConvergenceWarning: Liblinear failed to converge, increase the number of iterations.\n",
      "  warnings.warn(\n",
      "/home/bram/miniconda3/envs/vae/lib/python3.9/site-packages/sklearn/svm/_base.py:1206: ConvergenceWarning: Liblinear failed to converge, increase the number of iterations.\n",
      "  warnings.warn(\n",
      "/home/bram/miniconda3/envs/vae/lib/python3.9/site-packages/sklearn/svm/_base.py:1206: ConvergenceWarning: Liblinear failed to converge, increase the number of iterations.\n",
      "  warnings.warn(\n",
      "/home/bram/miniconda3/envs/vae/lib/python3.9/site-packages/sklearn/svm/_base.py:1206: ConvergenceWarning: Liblinear failed to converge, increase the number of iterations.\n",
      "  warnings.warn(\n",
      "/home/bram/miniconda3/envs/vae/lib/python3.9/site-packages/sklearn/svm/_base.py:1206: ConvergenceWarning: Liblinear failed to converge, increase the number of iterations.\n",
      "  warnings.warn(\n",
      "/home/bram/miniconda3/envs/vae/lib/python3.9/site-packages/sklearn/svm/_base.py:1206: ConvergenceWarning: Liblinear failed to converge, increase the number of iterations.\n",
      "  warnings.warn(\n"
     ]
    },
    {
     "name": "stdout",
     "output_type": "stream",
     "text": [
      "Accuracy :  0.21902480488370296\n",
      "Confusion matrix : \n",
      " SpearmanrResult(correlation=-0.0024153956320516912, pvalue=0.3849031030029981)\n"
     ]
    },
    {
     "data": {
      "text/plain": [
       "[0.21902480488370296,\n",
       " array([0.08498548, 0.25911291, 0.15856893, 0.02228164, 0.30076617,\n",
       "        0.10967914, 0.02080805, 0.04122832]),\n",
       " array([0.06225141, 0.25141176, 0.13721373, 0.00877501, 0.38420618,\n",
       "        0.08383152, 0.04454343, 0.0264261 ]),\n",
       " array([0.07186332, 0.25520425, 0.14712042, 0.01259129, 0.33740404,\n",
       "        0.09502907, 0.02836544, 0.03220791]),\n",
       " 0.00014338926287660482,\n",
       " SpearmanrResult(correlation=-0.0024153956320516912, pvalue=0.3849031030029981),\n",
       " array([[  673,  2734,  1480,    90,  4112,   950,   480,   292],\n",
       "        [ 2041,  8459,  4602,   297, 12846,  2939,  1527,   935],\n",
       "        [ 1239,  5195,  2810,   191,  7765,  1795,   933,   551],\n",
       "        [  168,   752,   384,    25,  1070,   244,   135,    71],\n",
       "        [ 2366,  9659,  5368,   324, 14878,  3361,  1691,  1077],\n",
       "        [  941,  3756,  1966,   133,  5670,  1234,   637,   383],\n",
       "        [  163,   733,   370,    21,   974,   250,   120,    63],\n",
       "        [  328,  1358,   741,    41,  2152,   478,   244,   145]])]"
      ]
     },
     "execution_count": 7,
     "metadata": {},
     "output_type": "execute_result"
    }
   ],
   "source": [
    "print(\"Celltype l1 from common Z\")\n",
    "run_classifier(z, cellTypel1, trainInd, validInd, testInd)"
   ]
  },
  {
   "cell_type": "code",
   "execution_count": 8,
   "id": "72eef002",
   "metadata": {},
   "outputs": [
    {
     "name": "stdout",
     "output_type": "stream",
     "text": [
      "Celltype l2 from common Z\n"
     ]
    },
    {
     "name": "stderr",
     "output_type": "stream",
     "text": [
      "/home/bram/miniconda3/envs/vae/lib/python3.9/site-packages/sklearn/svm/_base.py:1206: ConvergenceWarning: Liblinear failed to converge, increase the number of iterations.\n",
      "  warnings.warn(\n",
      "/home/bram/miniconda3/envs/vae/lib/python3.9/site-packages/sklearn/svm/_base.py:1206: ConvergenceWarning: Liblinear failed to converge, increase the number of iterations.\n",
      "  warnings.warn(\n",
      "/home/bram/miniconda3/envs/vae/lib/python3.9/site-packages/sklearn/svm/_base.py:1206: ConvergenceWarning: Liblinear failed to converge, increase the number of iterations.\n",
      "  warnings.warn(\n",
      "/home/bram/miniconda3/envs/vae/lib/python3.9/site-packages/sklearn/svm/_base.py:1206: ConvergenceWarning: Liblinear failed to converge, increase the number of iterations.\n",
      "  warnings.warn(\n",
      "/home/bram/miniconda3/envs/vae/lib/python3.9/site-packages/sklearn/svm/_base.py:1206: ConvergenceWarning: Liblinear failed to converge, increase the number of iterations.\n",
      "  warnings.warn(\n",
      "/home/bram/miniconda3/envs/vae/lib/python3.9/site-packages/sklearn/svm/_base.py:1206: ConvergenceWarning: Liblinear failed to converge, increase the number of iterations.\n",
      "  warnings.warn(\n",
      "/home/bram/miniconda3/envs/vae/lib/python3.9/site-packages/sklearn/svm/_base.py:1206: ConvergenceWarning: Liblinear failed to converge, increase the number of iterations.\n",
      "  warnings.warn(\n"
     ]
    },
    {
     "name": "stdout",
     "output_type": "stream",
     "text": [
      "Accuracy :  0.1415810215593849\n",
      "Confusion matrix : \n",
      " SpearmanrResult(correlation=-0.0014684930961184521, pvalue=0.5973153957544459)\n"
     ]
    },
    {
     "name": "stderr",
     "output_type": "stream",
     "text": [
      "/home/bram/miniconda3/envs/vae/lib/python3.9/site-packages/sklearn/metrics/_classification.py:1308: UndefinedMetricWarning: Precision and F-score are ill-defined and being set to 0.0 in labels with no predicted samples. Use `zero_division` parameter to control this behavior.\n",
      "  _warn_prf(average, modifier, msg_start, len(result))\n"
     ]
    },
    {
     "data": {
      "text/plain": [
       "[0.1415810215593849,\n",
       " array([0.        , 0.        , 0.02102141, 0.04778761, 0.2587432 ,\n",
       "        0.03676768, 0.        , 0.10775776, 0.        , 0.094013  ,\n",
       "        0.02720577, 0.06923751, 0.        , 0.02771363, 0.06948102,\n",
       "        0.        , 0.        , 0.        , 0.        , 0.01497696,\n",
       "        0.10642378, 0.03030303, 0.        , 0.        , 0.01111328,\n",
       "        0.01960784, 0.        , 0.03821656, 0.        , 0.01397206,\n",
       "        0.        ]),\n",
       " array([0.        , 0.        , 0.06432518, 0.00441826, 0.38721559,\n",
       "        0.0179913 , 0.        , 0.11321414, 0.        , 0.11241103,\n",
       "        0.05201149, 0.05379029, 0.        , 0.00506116, 0.09725686,\n",
       "        0.        , 0.        , 0.        , 0.        , 0.01661696,\n",
       "        0.02462653, 0.00445434, 0.        , 0.        , 0.03255283,\n",
       "        0.00093414, 0.        , 0.00298656, 0.        , 0.0024674 ,\n",
       "        0.        ]),\n",
       " array([0.        , 0.        , 0.0316874 , 0.00808868, 0.31020369,\n",
       "        0.02416036, 0.        , 0.11041858, 0.        , 0.10239213,\n",
       "        0.03572486, 0.06054413, 0.        , 0.0085592 , 0.08105544,\n",
       "        0.        , 0.        , 0.        , 0.        , 0.01575439,\n",
       "        0.0399976 , 0.00776699, 0.        , 0.        , 0.01656977,\n",
       "        0.00178333, 0.        , 0.00554017, 0.        , 0.00419413,\n",
       "        0.        ]),\n",
       " -0.001262220927122468,\n",
       " SpearmanrResult(correlation=-0.0014684930961184521, pvalue=0.5973153957544459),\n",
       " array([[    0,     0,     4,     0,    22,     0,     0,     7,     0,\n",
       "             9,     1,     5,     0,     0,     4,     0,     0,     0,\n",
       "             0,     2,     0,     0,     0,     0,     3,     0,     0,\n",
       "             0,     0,     0,     0],\n",
       "        [    0,     0,   111,     7,   738,    34,     0,   218,     0,\n",
       "           225,   105,    84,     0,     6,   189,     0,     0,     0,\n",
       "             0,    21,    35,     1,     0,     0,    69,     0,     0,\n",
       "             4,     0,     8,     0],\n",
       "        [    0,     1,   163,     7,   980,    64,     0,   282,     0,\n",
       "           275,   143,   118,     0,    14,   257,     0,     0,     0,\n",
       "             0,    47,    62,     3,     0,     0,   107,     2,     0,\n",
       "             3,     0,     6,     0],\n",
       "        [    0,     2,   342,    27,  2369,   125,     0,   734,     0,\n",
       "           656,   359,   357,     1,    15,   595,     0,     0,     0,\n",
       "             0,   116,   139,     1,     0,     0,   244,     2,     0,\n",
       "             6,     0,    21,     0],\n",
       "        [    0,     9,  2052,   153, 13036,   652,     0,  3813,     1,\n",
       "          3843,  1785,  1798,     2,   108,  3321,     0,     0,     0,\n",
       "             0,   701,   812,    17,     0,     0,  1364,    34,     0,\n",
       "            44,     0,   121,     0],\n",
       "        [    0,     2,   298,    22,  1994,    91,     1,   600,     0,\n",
       "           570,   266,   256,     0,    13,   504,     0,     0,     0,\n",
       "             0,   115,   115,     2,     0,     0,   175,     6,     0,\n",
       "             4,     0,    24,     0],\n",
       "        [    0,     0,    74,     4,   556,    16,     0,   173,     0,\n",
       "           173,    70,    73,     0,     4,   137,     0,     0,     0,\n",
       "             0,    27,    47,     1,     0,     0,    39,     3,     0,\n",
       "             0,     0,     4,     0],\n",
       "        [    0,     3,   858,    56,  5592,   277,     0,  1621,     1,\n",
       "          1578,   699,   775,     3,    41,  1460,     0,     0,     0,\n",
       "             0,   283,   381,     9,     0,     0,   594,     9,     0,\n",
       "            12,     0,    66,     0],\n",
       "        [    0,     0,     2,     0,    32,     1,     0,    12,     0,\n",
       "            11,     5,     7,     0,     0,     7,     0,     0,     0,\n",
       "             0,     0,     3,     0,     0,     0,     2,     0,     0,\n",
       "             0,     0,     1,     0],\n",
       "        [    0,     1,   746,    53,  4746,   241,     0,  1431,     0,\n",
       "          1374,   613,   617,     3,    52,  1253,     0,     0,     0,\n",
       "             0,   244,   306,     4,     0,     0,   488,     3,     0,\n",
       "            10,     0,    38,     0],\n",
       "        [    0,     0,   198,    11,  1359,    70,     0,   430,     0,\n",
       "           396,   181,   164,     0,     7,   353,     0,     0,     0,\n",
       "             0,    80,    76,     3,     0,     0,   127,     2,     0,\n",
       "             3,     0,    20,     0],\n",
       "        [    0,     1,   543,    36,  3378,   165,     0,  1103,     0,\n",
       "           954,   445,   474,     0,    26,   880,     0,     0,     0,\n",
       "             0,   185,   212,     3,     0,     0,   343,    13,     0,\n",
       "            11,     0,    40,     0],\n",
       "        [    0,     0,     5,     0,    20,     0,     0,     8,     0,\n",
       "             9,     2,     7,     0,     0,    16,     0,     0,     0,\n",
       "             0,     1,     2,     0,     0,     0,     3,     0,     0,\n",
       "             0,     0,     0,     0],\n",
       "        [    0,     0,   138,    11,   911,    56,     0,   289,     0,\n",
       "           255,   124,   139,     1,    12,   254,     0,     0,     0,\n",
       "             0,    42,    40,     0,     0,     0,    84,     1,     0,\n",
       "             2,     0,    12,     0],\n",
       "        [    0,     6,   538,    47,  3594,   195,     0,  1035,     0,\n",
       "          1089,   491,   507,     1,    35,   897,     0,     0,     0,\n",
       "             0,   167,   208,     4,     0,     0,   355,     2,     0,\n",
       "            17,     1,    34,     0],\n",
       "        [    0,     0,    31,     4,   173,     8,     0,    57,     0,\n",
       "            52,    21,    20,     0,     4,    55,     0,     0,     0,\n",
       "             0,    15,    15,     0,     0,     0,    19,     1,     0,\n",
       "             0,     0,     1,     0],\n",
       "        [    0,     0,     5,     0,    26,     1,     0,    10,     0,\n",
       "             9,     2,     2,     0,     0,     5,     0,     0,     0,\n",
       "             0,     2,     0,     0,     0,     0,     2,     0,     0,\n",
       "             0,     0,     1,     0],\n",
       "        [    0,     0,    18,     1,   109,     7,     0,    38,     0,\n",
       "            39,    13,    13,     0,     0,    30,     0,     0,     0,\n",
       "             0,     6,     8,     0,     0,     0,    15,     0,     0,\n",
       "             0,     0,     2,     0],\n",
       "        [    0,     0,     8,     1,    32,     2,     0,    15,     0,\n",
       "            13,     5,     5,     0,     0,     8,     0,     0,     0,\n",
       "             0,     4,     5,     0,     0,     0,     4,     0,     0,\n",
       "             1,     0,     0,     0],\n",
       "        [    0,     0,   142,    12,   950,    43,     0,   268,     0,\n",
       "           260,   110,   118,     0,     9,   225,     0,     0,     0,\n",
       "             0,    39,    67,     1,     0,     0,    86,     3,     0,\n",
       "             4,     0,    10,     0],\n",
       "        [    0,     2,   811,    71,  5309,   215,     0,  1578,     0,\n",
       "          1533,   676,   716,     1,    46,  1316,     0,     0,     0,\n",
       "             0,   262,   333,     7,     0,     0,   565,    13,     0,\n",
       "            16,     0,    52,     0],\n",
       "        [    0,     0,    25,     0,   173,    10,     0,    49,     0,\n",
       "            58,    22,    27,     0,     0,    39,     0,     0,     0,\n",
       "             0,     9,    11,     2,     0,     0,    23,     0,     0,\n",
       "             0,     0,     1,     0],\n",
       "        [    0,     0,    48,     6,   314,    14,     0,    80,     0,\n",
       "            84,    36,    34,     0,     4,    68,     0,     0,     0,\n",
       "             0,    14,    15,     1,     0,     0,    26,     2,     0,\n",
       "             0,     0,     3,     0],\n",
       "        [    0,     0,    15,     1,   131,     8,     0,    26,     0,\n",
       "            29,    16,    24,     0,     0,    31,     0,     0,     0,\n",
       "             0,    12,     5,     0,     0,     0,    11,     0,     0,\n",
       "             0,     0,     2,     0],\n",
       "        [    0,     0,    95,    10,   649,    34,     0,   230,     0,\n",
       "           199,    85,    92,     1,     7,   187,     0,     0,     0,\n",
       "             0,    38,    53,     3,     0,     0,    57,     1,     0,\n",
       "             3,     0,     7,     0],\n",
       "        [    0,     1,   137,     8,   822,    34,     0,   249,     0,\n",
       "           264,    99,   101,     0,     8,   221,     0,     0,     0,\n",
       "             0,    45,    50,     2,     0,     0,    87,     2,     0,\n",
       "             2,     0,     9,     0],\n",
       "        [    0,     0,     7,     0,    61,     4,     0,     8,     0,\n",
       "             6,     2,     6,     0,     1,    11,     0,     0,     0,\n",
       "             0,     5,     0,     0,     0,     0,     4,     0,     0,\n",
       "             1,     0,     0,     0],\n",
       "        [    0,     0,   107,     7,   833,    35,     0,   215,     0,\n",
       "           232,    84,   115,     0,     4,   191,     0,     0,     0,\n",
       "             0,    45,    45,     1,     0,     0,    79,     1,     0,\n",
       "             6,     0,     9,     0],\n",
       "        [    0,     0,    23,     1,   123,     7,     0,    30,     0,\n",
       "            37,    12,    11,     0,     0,    35,     0,     0,     0,\n",
       "             0,     6,     8,     0,     0,     0,    10,     0,     0,\n",
       "             0,     0,     0,     0],\n",
       "        [    0,     0,   164,     8,  1086,    53,     0,   342,     0,\n",
       "           313,   148,   149,     0,    13,   296,     0,     0,     0,\n",
       "             0,    62,    68,     1,     0,     0,   118,     2,     0,\n",
       "             7,     0,     7,     0],\n",
       "        [    0,     0,    46,     1,   264,    13,     0,    92,     0,\n",
       "            70,    33,    32,     1,     4,    65,     0,     0,     0,\n",
       "             0,     9,     8,     0,     0,     0,    26,     0,     0,\n",
       "             1,     0,     2,     0]])]"
      ]
     },
     "execution_count": 8,
     "metadata": {},
     "output_type": "execute_result"
    }
   ],
   "source": [
    "print(\"Celltype l2 from common Z\")\n",
    "run_classifier(z, cellTypel2, trainInd, validInd, testInd)"
   ]
  },
  {
   "cell_type": "code",
   "execution_count": null,
   "id": "2120a207",
   "metadata": {},
   "outputs": [
    {
     "name": "stdout",
     "output_type": "stream",
     "text": [
      "Celltype l3 from common Z\n"
     ]
    },
    {
     "name": "stderr",
     "output_type": "stream",
     "text": [
      "/home/bram/miniconda3/envs/vae/lib/python3.9/site-packages/sklearn/svm/_base.py:1206: ConvergenceWarning: Liblinear failed to converge, increase the number of iterations.\n",
      "  warnings.warn(\n",
      "/home/bram/miniconda3/envs/vae/lib/python3.9/site-packages/sklearn/svm/_base.py:1206: ConvergenceWarning: Liblinear failed to converge, increase the number of iterations.\n",
      "  warnings.warn(\n",
      "/home/bram/miniconda3/envs/vae/lib/python3.9/site-packages/sklearn/svm/_base.py:1206: ConvergenceWarning: Liblinear failed to converge, increase the number of iterations.\n",
      "  warnings.warn(\n",
      "/home/bram/miniconda3/envs/vae/lib/python3.9/site-packages/sklearn/svm/_base.py:1206: ConvergenceWarning: Liblinear failed to converge, increase the number of iterations.\n",
      "  warnings.warn(\n",
      "/home/bram/miniconda3/envs/vae/lib/python3.9/site-packages/sklearn/svm/_base.py:1206: ConvergenceWarning: Liblinear failed to converge, increase the number of iterations.\n",
      "  warnings.warn(\n"
     ]
    }
   ],
   "source": [
    "print(\"Celltype l3 from common Z\")\n",
    "run_classifier(z, cellTypel3, trainInd, validInd, testInd)"
   ]
  },
  {
   "cell_type": "code",
   "execution_count": null,
   "id": "add790a9",
   "metadata": {},
   "outputs": [],
   "source": [
    "print(\"Celltype l1 from z1\")\n",
    "run_classifier(z_from_pseudo_w1, cellTypel1, trainInd, validInd, testInd)"
   ]
  },
  {
   "cell_type": "code",
   "execution_count": null,
   "id": "b5f6c954",
   "metadata": {},
   "outputs": [],
   "source": [
    "print(\"Celltype l2 from z1\")\n",
    "run_classifier(z_from_pseudo_w1, cellTypel2, trainInd, validInd, testInd)"
   ]
  },
  {
   "cell_type": "code",
   "execution_count": null,
   "id": "0d6ec494",
   "metadata": {},
   "outputs": [],
   "source": [
    "print(\"Celltype l3 from z1\")\n",
    "run_classifier(z_from_pseudo_w1, cellTypel3, trainInd, validInd, testInd)"
   ]
  },
  {
   "cell_type": "code",
   "execution_count": null,
   "id": "35430e70",
   "metadata": {},
   "outputs": [],
   "source": [
    "print(\"Celltype l1 from z2\")\n",
    "run_classifier(z_from_pseudo_w2, cellTypel1, trainInd, validInd, testInd)"
   ]
  },
  {
   "cell_type": "code",
   "execution_count": null,
   "id": "81a2f214",
   "metadata": {},
   "outputs": [],
   "source": [
    "print(\"Celltype l2 from z2\")\n",
    "run_classifier(z_from_pseudo_w2, cellTypel2, trainInd, validInd, testInd)"
   ]
  },
  {
   "cell_type": "code",
   "execution_count": null,
   "id": "26aee4ed",
   "metadata": {},
   "outputs": [],
   "source": [
    "print(\"Celltype l3 from z2\")\n",
    "run_classifier(z_from_pseudo_w2, cellTypel3, trainInd, validInd, testInd)"
   ]
  },
  {
   "cell_type": "code",
   "execution_count": null,
   "id": "0889871e",
   "metadata": {},
   "outputs": [],
   "source": [
    "print(\"Celltype l1 from common Z_64\")\n",
    "run_classifier(z64, cellTypel1, trainInd, validInd, testInd)"
   ]
  },
  {
   "cell_type": "code",
   "execution_count": null,
   "id": "c6369f0c",
   "metadata": {},
   "outputs": [],
   "source": [
    "print(\"Celltype l2 from common Z_64\")\n",
    "run_classifier(z64, cellTypel2, trainInd, validInd, testInd)"
   ]
  },
  {
   "cell_type": "code",
   "execution_count": null,
   "id": "49506ba2",
   "metadata": {},
   "outputs": [],
   "source": [
    "print(\"Celltype l3 from common Z_64\")\n",
    "run_classifier(z64, cellTypel3, trainInd, validInd, testInd)"
   ]
  },
  {
   "cell_type": "code",
   "execution_count": null,
   "id": "e283e8dd",
   "metadata": {},
   "outputs": [],
   "source": [
    "print(\"Celltype l1 from z1_64\")\n",
    "run_classifier(z64_from_pseudo_w1, cellTypel1, trainInd, validInd, testInd)"
   ]
  },
  {
   "cell_type": "code",
   "execution_count": null,
   "id": "d594ae57",
   "metadata": {},
   "outputs": [],
   "source": [
    "print(\"Celltype l2 from z1_64\")\n",
    "run_classifier(z64_from_pseudo_w1, cellTypel2, trainInd, validInd, testInd)"
   ]
  },
  {
   "cell_type": "code",
   "execution_count": null,
   "id": "00971f82",
   "metadata": {},
   "outputs": [],
   "source": [
    "print(\"Celltype l3 from z1_64\")\n",
    "run_classifier(z64_from_pseudo_w1, cellTypel3, trainInd, validInd, testInd)"
   ]
  },
  {
   "cell_type": "code",
   "execution_count": null,
   "id": "929c641b",
   "metadata": {},
   "outputs": [],
   "source": [
    "print(\"Celltype l1 from z2_64\")\n",
    "run_classifier(z64_from_pseudo_w2, cellTypel1, trainInd, validInd, testInd)"
   ]
  },
  {
   "cell_type": "code",
   "execution_count": null,
   "id": "9c145e99",
   "metadata": {},
   "outputs": [],
   "source": [
    "print(\"Celltype l2 from z2_64\")\n",
    "run_classifier(z64_from_pseudo_w2, cellTypel2, trainInd, validInd, testInd)"
   ]
  },
  {
   "cell_type": "code",
   "execution_count": null,
   "id": "e1db3748",
   "metadata": {},
   "outputs": [],
   "source": [
    "print(\"Celltype l3 from z2_64\")\n",
    "run_classifier(z64_from_pseudo_w2, cellTypel3, trainInd, validInd, testInd)"
   ]
  }
 ],
 "metadata": {
  "kernelspec": {
   "display_name": "vae",
   "language": "python",
   "name": "vae"
  },
  "language_info": {
   "codemirror_mode": {
    "name": "ipython",
    "version": 3
   },
   "file_extension": ".py",
   "mimetype": "text/x-python",
   "name": "python",
   "nbconvert_exporter": "python",
   "pygments_lexer": "ipython3",
   "version": "3.9.7"
  }
 },
 "nbformat": 4,
 "nbformat_minor": 5
}
