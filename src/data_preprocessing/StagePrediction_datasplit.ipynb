{
 "cells": [
  {
   "cell_type": "markdown",
   "metadata": {},
   "source": [
    "## Full xena file"
   ]
  },
  {
   "cell_type": "code",
   "execution_count": 1,
   "metadata": {},
   "outputs": [],
   "source": [
    "import pandas as pd\n",
    "import numpy as np\n",
    "from sklearn.model_selection import StratifiedShuffleSplit\n",
    "import os"
   ]
  },
  {
   "cell_type": "code",
   "execution_count": 2,
   "metadata": {},
   "outputs": [],
   "source": [
    "ge = np.load(\"/home/bram/jointomicscomp/data/GE.npy\")\n",
    "me = np.load(\"/home/bram/jointomicscomp/data/ME.npy\")\n",
    "gcn = np.load(\"/home/bram/jointomicscomp/data/GCN.npy\")\n",
    "samples = np.load(\"/home/bram/jointomicscomp/data/sampleNames.npy\")\n",
    "cancertype = np.load(\"/home/bram/jointomicscomp/data/cancerType.npy\")\n",
    "cancertypes = np.load(\"/home/bram/jointomicscomp/data/cancerTypes.npy\")\n",
    "stageTypes = np.load(\"/home/bram/jointomicscomp/data/stageTypes.npy\")"
   ]
  },
  {
   "cell_type": "markdown",
   "metadata": {},
   "source": [
    "## Curated Data"
   ]
  },
  {
   "cell_type": "code",
   "execution_count": 10,
   "metadata": {
    "scrolled": true
   },
   "outputs": [
    {
     "data": {
      "text/html": [
       "<div>\n",
       "<style scoped>\n",
       "    .dataframe tbody tr th:only-of-type {\n",
       "        vertical-align: middle;\n",
       "    }\n",
       "\n",
       "    .dataframe tbody tr th {\n",
       "        vertical-align: top;\n",
       "    }\n",
       "\n",
       "    .dataframe thead th {\n",
       "        text-align: right;\n",
       "    }\n",
       "</style>\n",
       "<table border=\"1\" class=\"dataframe\">\n",
       "  <thead>\n",
       "    <tr style=\"text-align: right;\">\n",
       "      <th></th>\n",
       "      <th>_PATIENT</th>\n",
       "      <th>cancer type abbreviation</th>\n",
       "      <th>age_at_initial_pathologic_diagnosis</th>\n",
       "      <th>gender</th>\n",
       "      <th>race</th>\n",
       "      <th>ajcc_pathologic_tumor_stage</th>\n",
       "      <th>clinical_stage</th>\n",
       "      <th>histological_type</th>\n",
       "      <th>histological_grade</th>\n",
       "      <th>initial_pathologic_dx_year</th>\n",
       "      <th>...</th>\n",
       "      <th>residual_tumor</th>\n",
       "      <th>OS</th>\n",
       "      <th>OS.time</th>\n",
       "      <th>DSS</th>\n",
       "      <th>DSS.time</th>\n",
       "      <th>DFI</th>\n",
       "      <th>DFI.time</th>\n",
       "      <th>PFI</th>\n",
       "      <th>PFI.time</th>\n",
       "      <th>Redaction</th>\n",
       "    </tr>\n",
       "    <tr>\n",
       "      <th>sample</th>\n",
       "      <th></th>\n",
       "      <th></th>\n",
       "      <th></th>\n",
       "      <th></th>\n",
       "      <th></th>\n",
       "      <th></th>\n",
       "      <th></th>\n",
       "      <th></th>\n",
       "      <th></th>\n",
       "      <th></th>\n",
       "      <th></th>\n",
       "      <th></th>\n",
       "      <th></th>\n",
       "      <th></th>\n",
       "      <th></th>\n",
       "      <th></th>\n",
       "      <th></th>\n",
       "      <th></th>\n",
       "      <th></th>\n",
       "      <th></th>\n",
       "      <th></th>\n",
       "    </tr>\n",
       "  </thead>\n",
       "  <tbody>\n",
       "    <tr>\n",
       "      <th>TCGA-05-4384-01</th>\n",
       "      <td>TCGA-05-4384</td>\n",
       "      <td>LUAD</td>\n",
       "      <td>66.0</td>\n",
       "      <td>MALE</td>\n",
       "      <td>NaN</td>\n",
       "      <td>Stage IIIA</td>\n",
       "      <td>NaN</td>\n",
       "      <td>Lung Adenocarcinoma</td>\n",
       "      <td>NaN</td>\n",
       "      <td>2009.0</td>\n",
       "      <td>...</td>\n",
       "      <td>NaN</td>\n",
       "      <td>0.0</td>\n",
       "      <td>426.0</td>\n",
       "      <td>0.0</td>\n",
       "      <td>426.0</td>\n",
       "      <td>NaN</td>\n",
       "      <td>NaN</td>\n",
       "      <td>1.0</td>\n",
       "      <td>183.0</td>\n",
       "      <td>NaN</td>\n",
       "    </tr>\n",
       "    <tr>\n",
       "      <th>TCGA-05-4390-01</th>\n",
       "      <td>TCGA-05-4390</td>\n",
       "      <td>LUAD</td>\n",
       "      <td>58.0</td>\n",
       "      <td>FEMALE</td>\n",
       "      <td>NaN</td>\n",
       "      <td>Stage IB</td>\n",
       "      <td>NaN</td>\n",
       "      <td>Lung Adenocarcinoma</td>\n",
       "      <td>NaN</td>\n",
       "      <td>2005.0</td>\n",
       "      <td>...</td>\n",
       "      <td>NaN</td>\n",
       "      <td>0.0</td>\n",
       "      <td>1126.0</td>\n",
       "      <td>0.0</td>\n",
       "      <td>1126.0</td>\n",
       "      <td>NaN</td>\n",
       "      <td>NaN</td>\n",
       "      <td>1.0</td>\n",
       "      <td>395.0</td>\n",
       "      <td>NaN</td>\n",
       "    </tr>\n",
       "    <tr>\n",
       "      <th>TCGA-05-4396-01</th>\n",
       "      <td>TCGA-05-4396</td>\n",
       "      <td>LUAD</td>\n",
       "      <td>76.0</td>\n",
       "      <td>MALE</td>\n",
       "      <td>NaN</td>\n",
       "      <td>Stage IIIB</td>\n",
       "      <td>NaN</td>\n",
       "      <td>Lung Adenocarcinoma</td>\n",
       "      <td>NaN</td>\n",
       "      <td>2006.0</td>\n",
       "      <td>...</td>\n",
       "      <td>NaN</td>\n",
       "      <td>1.0</td>\n",
       "      <td>303.0</td>\n",
       "      <td>NaN</td>\n",
       "      <td>303.0</td>\n",
       "      <td>NaN</td>\n",
       "      <td>NaN</td>\n",
       "      <td>0.0</td>\n",
       "      <td>303.0</td>\n",
       "      <td>NaN</td>\n",
       "    </tr>\n",
       "    <tr>\n",
       "      <th>TCGA-05-4405-01</th>\n",
       "      <td>TCGA-05-4405</td>\n",
       "      <td>LUAD</td>\n",
       "      <td>74.0</td>\n",
       "      <td>FEMALE</td>\n",
       "      <td>NaN</td>\n",
       "      <td>Stage IB</td>\n",
       "      <td>NaN</td>\n",
       "      <td>Lung Adenocarcinoma</td>\n",
       "      <td>NaN</td>\n",
       "      <td>2006.0</td>\n",
       "      <td>...</td>\n",
       "      <td>NaN</td>\n",
       "      <td>0.0</td>\n",
       "      <td>610.0</td>\n",
       "      <td>0.0</td>\n",
       "      <td>610.0</td>\n",
       "      <td>NaN</td>\n",
       "      <td>NaN</td>\n",
       "      <td>0.0</td>\n",
       "      <td>610.0</td>\n",
       "      <td>NaN</td>\n",
       "    </tr>\n",
       "    <tr>\n",
       "      <th>TCGA-05-4410-01</th>\n",
       "      <td>TCGA-05-4410</td>\n",
       "      <td>LUAD</td>\n",
       "      <td>62.0</td>\n",
       "      <td>MALE</td>\n",
       "      <td>NaN</td>\n",
       "      <td>Stage IB</td>\n",
       "      <td>NaN</td>\n",
       "      <td>Lung Adenocarcinoma</td>\n",
       "      <td>NaN</td>\n",
       "      <td>2007.0</td>\n",
       "      <td>...</td>\n",
       "      <td>NaN</td>\n",
       "      <td>0.0</td>\n",
       "      <td>0.0</td>\n",
       "      <td>0.0</td>\n",
       "      <td>0.0</td>\n",
       "      <td>NaN</td>\n",
       "      <td>NaN</td>\n",
       "      <td>0.0</td>\n",
       "      <td>0.0</td>\n",
       "      <td>NaN</td>\n",
       "    </tr>\n",
       "    <tr>\n",
       "      <th>...</th>\n",
       "      <td>...</td>\n",
       "      <td>...</td>\n",
       "      <td>...</td>\n",
       "      <td>...</td>\n",
       "      <td>...</td>\n",
       "      <td>...</td>\n",
       "      <td>...</td>\n",
       "      <td>...</td>\n",
       "      <td>...</td>\n",
       "      <td>...</td>\n",
       "      <td>...</td>\n",
       "      <td>...</td>\n",
       "      <td>...</td>\n",
       "      <td>...</td>\n",
       "      <td>...</td>\n",
       "      <td>...</td>\n",
       "      <td>...</td>\n",
       "      <td>...</td>\n",
       "      <td>...</td>\n",
       "      <td>...</td>\n",
       "      <td>...</td>\n",
       "    </tr>\n",
       "    <tr>\n",
       "      <th>TCGA-ZS-A9CF-01</th>\n",
       "      <td>TCGA-ZS-A9CF</td>\n",
       "      <td>LIHC</td>\n",
       "      <td>64.0</td>\n",
       "      <td>MALE</td>\n",
       "      <td>WHITE</td>\n",
       "      <td>Stage II</td>\n",
       "      <td>NaN</td>\n",
       "      <td>Hepatocellular Carcinoma</td>\n",
       "      <td>G2</td>\n",
       "      <td>2008.0</td>\n",
       "      <td>...</td>\n",
       "      <td>R0</td>\n",
       "      <td>0.0</td>\n",
       "      <td>2412.0</td>\n",
       "      <td>0.0</td>\n",
       "      <td>2412.0</td>\n",
       "      <td>1.0</td>\n",
       "      <td>636.0</td>\n",
       "      <td>1.0</td>\n",
       "      <td>636.0</td>\n",
       "      <td>NaN</td>\n",
       "    </tr>\n",
       "    <tr>\n",
       "      <th>TCGA-ZS-A9CG-01</th>\n",
       "      <td>TCGA-ZS-A9CG</td>\n",
       "      <td>LIHC</td>\n",
       "      <td>55.0</td>\n",
       "      <td>MALE</td>\n",
       "      <td>WHITE</td>\n",
       "      <td>Stage II</td>\n",
       "      <td>NaN</td>\n",
       "      <td>Hepatocellular Carcinoma</td>\n",
       "      <td>G2</td>\n",
       "      <td>2013.0</td>\n",
       "      <td>...</td>\n",
       "      <td>R0</td>\n",
       "      <td>0.0</td>\n",
       "      <td>341.0</td>\n",
       "      <td>0.0</td>\n",
       "      <td>341.0</td>\n",
       "      <td>0.0</td>\n",
       "      <td>341.0</td>\n",
       "      <td>0.0</td>\n",
       "      <td>341.0</td>\n",
       "      <td>NaN</td>\n",
       "    </tr>\n",
       "    <tr>\n",
       "      <th>TCGA-ZT-A8OM-01</th>\n",
       "      <td>TCGA-ZT-A8OM</td>\n",
       "      <td>THYM</td>\n",
       "      <td>73.0</td>\n",
       "      <td>FEMALE</td>\n",
       "      <td>WHITE</td>\n",
       "      <td>NaN</td>\n",
       "      <td>IIb</td>\n",
       "      <td>Thymoma; Type A</td>\n",
       "      <td>NaN</td>\n",
       "      <td>2011.0</td>\n",
       "      <td>...</td>\n",
       "      <td>NaN</td>\n",
       "      <td>0.0</td>\n",
       "      <td>1398.0</td>\n",
       "      <td>0.0</td>\n",
       "      <td>1398.0</td>\n",
       "      <td>NaN</td>\n",
       "      <td>NaN</td>\n",
       "      <td>0.0</td>\n",
       "      <td>1398.0</td>\n",
       "      <td>NaN</td>\n",
       "    </tr>\n",
       "    <tr>\n",
       "      <th>TCGA-ZU-A8S4-01</th>\n",
       "      <td>TCGA-ZU-A8S4</td>\n",
       "      <td>CHOL</td>\n",
       "      <td>52.0</td>\n",
       "      <td>MALE</td>\n",
       "      <td>WHITE</td>\n",
       "      <td>Stage I</td>\n",
       "      <td>NaN</td>\n",
       "      <td>Cholangiocarcinoma; intrahepatic</td>\n",
       "      <td>G3</td>\n",
       "      <td>2012.0</td>\n",
       "      <td>...</td>\n",
       "      <td>R0</td>\n",
       "      <td>1.0</td>\n",
       "      <td>98.0</td>\n",
       "      <td>1.0</td>\n",
       "      <td>98.0</td>\n",
       "      <td>1.0</td>\n",
       "      <td>72.0</td>\n",
       "      <td>1.0</td>\n",
       "      <td>72.0</td>\n",
       "      <td>NaN</td>\n",
       "    </tr>\n",
       "    <tr>\n",
       "      <th>TCGA-ZX-AA5X-01</th>\n",
       "      <td>TCGA-ZX-AA5X</td>\n",
       "      <td>CESC</td>\n",
       "      <td>64.0</td>\n",
       "      <td>FEMALE</td>\n",
       "      <td>WHITE</td>\n",
       "      <td>NaN</td>\n",
       "      <td>Stage IIIB</td>\n",
       "      <td>Cervical Squamous Cell Carcinoma</td>\n",
       "      <td>G2</td>\n",
       "      <td>2013.0</td>\n",
       "      <td>...</td>\n",
       "      <td>NaN</td>\n",
       "      <td>0.0</td>\n",
       "      <td>119.0</td>\n",
       "      <td>0.0</td>\n",
       "      <td>119.0</td>\n",
       "      <td>NaN</td>\n",
       "      <td>NaN</td>\n",
       "      <td>0.0</td>\n",
       "      <td>119.0</td>\n",
       "      <td>NaN</td>\n",
       "    </tr>\n",
       "  </tbody>\n",
       "</table>\n",
       "<p>8396 rows × 33 columns</p>\n",
       "</div>"
      ],
      "text/plain": [
       "                     _PATIENT cancer type abbreviation  \\\n",
       "sample                                                   \n",
       "TCGA-05-4384-01  TCGA-05-4384                     LUAD   \n",
       "TCGA-05-4390-01  TCGA-05-4390                     LUAD   \n",
       "TCGA-05-4396-01  TCGA-05-4396                     LUAD   \n",
       "TCGA-05-4405-01  TCGA-05-4405                     LUAD   \n",
       "TCGA-05-4410-01  TCGA-05-4410                     LUAD   \n",
       "...                       ...                      ...   \n",
       "TCGA-ZS-A9CF-01  TCGA-ZS-A9CF                     LIHC   \n",
       "TCGA-ZS-A9CG-01  TCGA-ZS-A9CG                     LIHC   \n",
       "TCGA-ZT-A8OM-01  TCGA-ZT-A8OM                     THYM   \n",
       "TCGA-ZU-A8S4-01  TCGA-ZU-A8S4                     CHOL   \n",
       "TCGA-ZX-AA5X-01  TCGA-ZX-AA5X                     CESC   \n",
       "\n",
       "                 age_at_initial_pathologic_diagnosis  gender   race  \\\n",
       "sample                                                                \n",
       "TCGA-05-4384-01                                 66.0    MALE    NaN   \n",
       "TCGA-05-4390-01                                 58.0  FEMALE    NaN   \n",
       "TCGA-05-4396-01                                 76.0    MALE    NaN   \n",
       "TCGA-05-4405-01                                 74.0  FEMALE    NaN   \n",
       "TCGA-05-4410-01                                 62.0    MALE    NaN   \n",
       "...                                              ...     ...    ...   \n",
       "TCGA-ZS-A9CF-01                                 64.0    MALE  WHITE   \n",
       "TCGA-ZS-A9CG-01                                 55.0    MALE  WHITE   \n",
       "TCGA-ZT-A8OM-01                                 73.0  FEMALE  WHITE   \n",
       "TCGA-ZU-A8S4-01                                 52.0    MALE  WHITE   \n",
       "TCGA-ZX-AA5X-01                                 64.0  FEMALE  WHITE   \n",
       "\n",
       "                ajcc_pathologic_tumor_stage clinical_stage  \\\n",
       "sample                                                       \n",
       "TCGA-05-4384-01                  Stage IIIA            NaN   \n",
       "TCGA-05-4390-01                    Stage IB            NaN   \n",
       "TCGA-05-4396-01                  Stage IIIB            NaN   \n",
       "TCGA-05-4405-01                    Stage IB            NaN   \n",
       "TCGA-05-4410-01                    Stage IB            NaN   \n",
       "...                                     ...            ...   \n",
       "TCGA-ZS-A9CF-01                    Stage II            NaN   \n",
       "TCGA-ZS-A9CG-01                    Stage II            NaN   \n",
       "TCGA-ZT-A8OM-01                         NaN            IIb   \n",
       "TCGA-ZU-A8S4-01                     Stage I            NaN   \n",
       "TCGA-ZX-AA5X-01                         NaN     Stage IIIB   \n",
       "\n",
       "                                histological_type histological_grade  \\\n",
       "sample                                                                 \n",
       "TCGA-05-4384-01               Lung Adenocarcinoma                NaN   \n",
       "TCGA-05-4390-01               Lung Adenocarcinoma                NaN   \n",
       "TCGA-05-4396-01               Lung Adenocarcinoma                NaN   \n",
       "TCGA-05-4405-01               Lung Adenocarcinoma                NaN   \n",
       "TCGA-05-4410-01               Lung Adenocarcinoma                NaN   \n",
       "...                                           ...                ...   \n",
       "TCGA-ZS-A9CF-01          Hepatocellular Carcinoma                 G2   \n",
       "TCGA-ZS-A9CG-01          Hepatocellular Carcinoma                 G2   \n",
       "TCGA-ZT-A8OM-01                   Thymoma; Type A                NaN   \n",
       "TCGA-ZU-A8S4-01  Cholangiocarcinoma; intrahepatic                 G3   \n",
       "TCGA-ZX-AA5X-01  Cervical Squamous Cell Carcinoma                 G2   \n",
       "\n",
       "                 initial_pathologic_dx_year  ... residual_tumor   OS OS.time  \\\n",
       "sample                                       ...                               \n",
       "TCGA-05-4384-01                      2009.0  ...            NaN  0.0   426.0   \n",
       "TCGA-05-4390-01                      2005.0  ...            NaN  0.0  1126.0   \n",
       "TCGA-05-4396-01                      2006.0  ...            NaN  1.0   303.0   \n",
       "TCGA-05-4405-01                      2006.0  ...            NaN  0.0   610.0   \n",
       "TCGA-05-4410-01                      2007.0  ...            NaN  0.0     0.0   \n",
       "...                                     ...  ...            ...  ...     ...   \n",
       "TCGA-ZS-A9CF-01                      2008.0  ...             R0  0.0  2412.0   \n",
       "TCGA-ZS-A9CG-01                      2013.0  ...             R0  0.0   341.0   \n",
       "TCGA-ZT-A8OM-01                      2011.0  ...            NaN  0.0  1398.0   \n",
       "TCGA-ZU-A8S4-01                      2012.0  ...             R0  1.0    98.0   \n",
       "TCGA-ZX-AA5X-01                      2013.0  ...            NaN  0.0   119.0   \n",
       "\n",
       "                 DSS  DSS.time  DFI DFI.time  PFI PFI.time Redaction  \n",
       "sample                                                                \n",
       "TCGA-05-4384-01  0.0     426.0  NaN      NaN  1.0    183.0       NaN  \n",
       "TCGA-05-4390-01  0.0    1126.0  NaN      NaN  1.0    395.0       NaN  \n",
       "TCGA-05-4396-01  NaN     303.0  NaN      NaN  0.0    303.0       NaN  \n",
       "TCGA-05-4405-01  0.0     610.0  NaN      NaN  0.0    610.0       NaN  \n",
       "TCGA-05-4410-01  0.0       0.0  NaN      NaN  0.0      0.0       NaN  \n",
       "...              ...       ...  ...      ...  ...      ...       ...  \n",
       "TCGA-ZS-A9CF-01  0.0    2412.0  1.0    636.0  1.0    636.0       NaN  \n",
       "TCGA-ZS-A9CG-01  0.0     341.0  0.0    341.0  0.0    341.0       NaN  \n",
       "TCGA-ZT-A8OM-01  0.0    1398.0  NaN      NaN  0.0   1398.0       NaN  \n",
       "TCGA-ZU-A8S4-01  1.0      98.0  1.0     72.0  1.0     72.0       NaN  \n",
       "TCGA-ZX-AA5X-01  0.0     119.0  NaN      NaN  0.0    119.0       NaN  \n",
       "\n",
       "[8396 rows x 33 columns]"
      ]
     },
     "execution_count": 10,
     "metadata": {},
     "output_type": "execute_result"
    }
   ],
   "source": [
    "survival_table = pd.read_table(\"/home/bram/jointomicscomp/data/Survival_SupplementalTable_S1_20171025_xena_sp\", index_col=0).loc[samples]\n",
    "\n",
    "survival_table"
   ]
  },
  {
   "cell_type": "markdown",
   "metadata": {},
   "source": [
    "## Show most common cancer types"
   ]
  },
  {
   "cell_type": "code",
   "execution_count": 4,
   "metadata": {},
   "outputs": [
    {
     "data": {
      "text/plain": [
       "[('BRCA', 763),\n",
       " ('HNSC', 514),\n",
       " ('LGG', 512),\n",
       " ('THCA', 497),\n",
       " ('PRAD', 487),\n",
       " ('LUAD', 441),\n",
       " ('UCEC', 410),\n",
       " ('BLCA', 401),\n",
       " ('STAD', 370),\n",
       " ('LUSC', 367),\n",
       " ('SKCM', 366),\n",
       " ('LIHC', 364),\n",
       " ('KIRC', 310),\n",
       " ('CESC', 292),\n",
       " ('COAD', 282),\n",
       " ('KIRP', 272),\n",
       " ('SARC', 255),\n",
       " ('ESCA', 183),\n",
       " ('PAAD', 177),\n",
       " ('PCPG', 162),\n",
       " ('TGCT', 134),\n",
       " ('THYM', 119),\n",
       " ('LAML', 117),\n",
       " ('READ', 95),\n",
       " ('MESO', 87),\n",
       " ('UVM', 80),\n",
       " ('ACC', 77),\n",
       " ('KICH', 66),\n",
       " ('UCS', 56),\n",
       " ('DLBC', 48),\n",
       " ('GBM', 47),\n",
       " ('CHOL', 36),\n",
       " ('OV', 9)]"
      ]
     },
     "execution_count": 4,
     "metadata": {},
     "output_type": "execute_result"
    }
   ],
   "source": [
    "counter = dict()\n",
    "cancer_types = survival_table.iloc[:, 1]\n",
    "for value in cancer_types:\n",
    "    if value in counter:\n",
    "        counter[value] += 1\n",
    "        \n",
    "    else:\n",
    "        counter[value] = 1\n",
    "        \n",
    "counter = sorted(counter.items(), key=lambda x: x[1], reverse=True)\n",
    "counter"
   ]
  },
  {
   "cell_type": "code",
   "execution_count": 5,
   "metadata": {},
   "outputs": [
    {
     "data": {
      "text/plain": [
       "array([[  0., 117.],\n",
       "       [  1.,  77.],\n",
       "       [  2., 401.],\n",
       "       [  3., 512.],\n",
       "       [  4., 763.],\n",
       "       [  5., 292.],\n",
       "       [  6.,  36.],\n",
       "       [  7., 282.],\n",
       "       [  8., 183.],\n",
       "       [  9.,  47.],\n",
       "       [ 10., 514.],\n",
       "       [ 11.,  66.],\n",
       "       [ 12., 310.],\n",
       "       [ 13., 272.],\n",
       "       [ 14., 364.],\n",
       "       [ 15., 441.],\n",
       "       [ 16., 367.],\n",
       "       [ 17.,  48.],\n",
       "       [ 18.,  87.],\n",
       "       [ 19.,   9.],\n",
       "       [ 20., 177.],\n",
       "       [ 21., 162.],\n",
       "       [ 22., 487.],\n",
       "       [ 23.,  95.],\n",
       "       [ 24., 255.],\n",
       "       [ 25., 366.],\n",
       "       [ 26., 370.],\n",
       "       [ 27., 134.],\n",
       "       [ 28., 119.],\n",
       "       [ 29., 497.],\n",
       "       [ 30.,  56.],\n",
       "       [ 31., 410.],\n",
       "       [ 32.,  80.]])"
      ]
     },
     "execution_count": 5,
     "metadata": {},
     "output_type": "execute_result"
    }
   ],
   "source": [
    "(unique, counts) = np.unique(cancertype, return_counts=True)\n",
    "frequencies = np.asarray((unique, counts)).T\n",
    "frequencies"
   ]
  },
  {
   "cell_type": "markdown",
   "metadata": {},
   "source": [
    "## Select cancer type and data"
   ]
  },
  {
   "cell_type": "code",
   "execution_count": 7,
   "metadata": {
    "scrolled": true
   },
   "outputs": [
    {
     "name": "stdout",
     "output_type": "stream",
     "text": [
      "(763, 33)\n"
     ]
    },
    {
     "data": {
      "text/plain": [
       "sample\n",
       "TCGA-3C-AAAU-01    TCGA-3C-AAAU\n",
       "TCGA-3C-AALI-01    TCGA-3C-AALI\n",
       "TCGA-3C-AALJ-01    TCGA-3C-AALJ\n",
       "TCGA-3C-AALK-01    TCGA-3C-AALK\n",
       "TCGA-4H-AAAK-01    TCGA-4H-AAAK\n",
       "                       ...     \n",
       "TCGA-WT-AB44-01    TCGA-WT-AB44\n",
       "TCGA-XX-A899-01    TCGA-XX-A899\n",
       "TCGA-XX-A89A-01    TCGA-XX-A89A\n",
       "TCGA-Z7-A8R5-01    TCGA-Z7-A8R5\n",
       "TCGA-Z7-A8R6-01    TCGA-Z7-A8R6\n",
       "Name: _PATIENT, Length: 763, dtype: object"
      ]
     },
     "execution_count": 7,
     "metadata": {},
     "output_type": "execute_result"
    }
   ],
   "source": [
    "# All patients with a certain cancer cancer.\n",
    "ctype = 'BRCA'\n",
    "ctype_idx = np.where(cancertypes == ctype)[0][0] # Get index of ctype in total cancers list\n",
    "\n",
    "# Save all required data in data/cancer_type folder\n",
    "save_dir = os.path.join(\"/home/bram/jointomicscomp/data\", '{}'.format(ctype))\n",
    "if not os.path.exists(save_dir):\n",
    "    os.makedirs(save_dir)\n",
    "\n",
    "cancer_type_info_table = survival_table.loc[survival_table[\"cancer type abbreviation\"] == ctype]\n",
    "print(cancer_type_info_table.shape)\n",
    "cancer_type_patients = cancer_type_info_table[\"_PATIENT\"]\n",
    "    \n",
    "cancer_type_patients"
   ]
  },
  {
   "cell_type": "markdown",
   "metadata": {},
   "source": [
    "## Get RNA data from these patients grab corresponding stage"
   ]
  },
  {
   "cell_type": "code",
   "execution_count": 70,
   "metadata": {},
   "outputs": [
    {
     "name": "stdout",
     "output_type": "stream",
     "text": [
      "gene_expression_csv shape:  (8396, 5000)\n",
      "['TCGA-22-5473-01']\n",
      "['TCGA-52-7812-01']\n",
      "['TCGA-92-8064-01']\n",
      "3 Samples did not have a stage in the info dataframe.\n"
     ]
    }
   ],
   "source": [
    "# Stages.\n",
    "gene_expression_csv = pd.read_csv(\"/home/bram/jointomicscomp/data/rna-pancancer-5000-minmax.csv\", index_col=0)\n",
    "gene_expression_csv = gene_expression_csv.loc[samples]  # Take only samples used in this research\n",
    "print(\"gene_expression_csv shape: \", gene_expression_csv.shape)\n",
    "\n",
    "stages = dict()\n",
    "s = set()\n",
    "no_stage_counter = 0\n",
    "no_stage_samples = []\n",
    "for patient_idx, patient in enumerate(cancer_type_patients):\n",
    "    # Get all occurences of the patient in the original data file.\n",
    "    x = gene_expression_csv[[patient in label for label in samples]]\n",
    "    \n",
    "    y = survival_table[survival_table[\"_PATIENT\"] == patient][\"ajcc_pathologic_tumor_stage\"].values[0]\n",
    "    # Get strin to remove nans.\n",
    "    y = str(y)\n",
    "    s.add(y)\n",
    "    if y == \"nan\" or y == 'Stage X' or y == '[Discrepancy]' or x.empty:\n",
    "        no_stage_counter += 1\n",
    "        print(x.index.values)\n",
    "        no_stage_samples.append(x.index.values)\n",
    "        continue\n",
    "    \n",
    "    # If it's stage 4 then add to stage for. No A's and B's here.\n",
    "    if y == 'Stage IV':\n",
    "        stage = 'Stage 4'\n",
    "    \n",
    "    # Create stage string for other stages than 4.\n",
    "    else:\n",
    "        stage = 'Stage ' + str(y.count('I'))\n",
    "    \n",
    "    # Create stage key.\n",
    "    if stage not in stages:\n",
    "        stages[stage] = []\n",
    "    \n",
    "    # Add to dict.\n",
    "    stages[stage].append(x)\n",
    "    \n",
    "print(\"{} Samples did not have a stage in the info dataframe.\".format(no_stage_counter))\n",
    "    \n"
   ]
  },
  {
   "cell_type": "code",
   "execution_count": 71,
   "metadata": {
    "scrolled": true
   },
   "outputs": [
    {
     "data": {
      "text/plain": [
       "[array(['TCGA-22-5473-01'], dtype=object),\n",
       " array(['TCGA-52-7812-01'], dtype=object),\n",
       " array(['TCGA-92-8064-01'], dtype=object)]"
      ]
     },
     "execution_count": 71,
     "metadata": {},
     "output_type": "execute_result"
    }
   ],
   "source": [
    "no_stage_samples"
   ]
  },
  {
   "cell_type": "code",
   "execution_count": 72,
   "metadata": {},
   "outputs": [],
   "source": [
    "no_stage_sample_indices = np.zeros(len(no_stage_samples), dtype=int)\n",
    "for i, no_stage in enumerate(no_stage_samples):\n",
    "    sample_idx = np.where(samples == no_stage)[0][0]\n",
    "    no_stage_sample_indices[i] = sample_idx\n",
    "\n",
    "    "
   ]
  },
  {
   "cell_type": "code",
   "execution_count": 73,
   "metadata": {
    "scrolled": false
   },
   "outputs": [
    {
     "name": "stdout",
     "output_type": "stream",
     "text": [
      "patient indices to be removed is :  3\n"
     ]
    }
   ],
   "source": [
    "# All samples of the cancer type that do not have a stage should be removed from the dataset\n",
    "print(\"patient indices to be removed is : \", len(no_stage_sample_indices))\n",
    "ge = np.delete(ge, no_stage_sample_indices, 0)\n",
    "gcn = np.delete(gcn, no_stage_sample_indices, 0)\n",
    "me = np.delete(me, no_stage_sample_indices, 0)\n",
    "samples = np.delete(samples, no_stage_sample_indices)\n",
    "cancertype = np.delete(cancertype, no_stage_sample_indices)\n"
   ]
  },
  {
   "cell_type": "code",
   "execution_count": null,
   "metadata": {},
   "outputs": [],
   "source": []
  },
  {
   "cell_type": "code",
   "execution_count": 74,
   "metadata": {},
   "outputs": [],
   "source": [
    "class Stage:\n",
    "    \n",
    "    def __init__(self, rna):\n",
    "        self.patient_data = rna"
   ]
  },
  {
   "cell_type": "code",
   "execution_count": 75,
   "metadata": {
    "scrolled": true
   },
   "outputs": [
    {
     "name": "stdout",
     "output_type": "stream",
     "text": [
      "Stage 1 (170, 5001)\n",
      "Stage 2 (134, 5001)\n",
      "Stage 3 (56, 5001)\n",
      "Stage 4 (4, 5001)\n",
      "Total number of samples: 364\n"
     ]
    }
   ],
   "source": [
    "# Add the dataframes together.\n",
    "for stage in stageTypes:\n",
    "    stages[stage] = Stage(pd.concat(stages[stage]))\n",
    "    stages[stage].patient_data['Stage'] = stage\n",
    "\n",
    "samples_ctr = 0\n",
    "for x in stageTypes:\n",
    "    print(x, stages[x].patient_data.shape)\n",
    "    samples_ctr += len(stages[x].patient_data)\n",
    "    \n",
    "print(\"Total number of samples:\", samples_ctr)"
   ]
  },
  {
   "cell_type": "code",
   "execution_count": 76,
   "metadata": {
    "scrolled": false
   },
   "outputs": [
    {
     "data": {
      "text/plain": [
       "{'Stage 4': <__main__.Stage at 0x7f347bd442b0>,\n",
       " 'Stage 1': <__main__.Stage at 0x7f3438c4d970>,\n",
       " 'Stage 2': <__main__.Stage at 0x7f347bd44910>,\n",
       " 'Stage 3': <__main__.Stage at 0x7f3437405280>}"
      ]
     },
     "execution_count": 76,
     "metadata": {},
     "output_type": "execute_result"
    }
   ],
   "source": [
    "stages"
   ]
  },
  {
   "cell_type": "code",
   "execution_count": 77,
   "metadata": {
    "scrolled": true
   },
   "outputs": [
    {
     "name": "stdout",
     "output_type": "stream",
     "text": [
      "Data contains 364 samples of Xtype_samples type LUSC\n"
     ]
    }
   ],
   "source": [
    "# Use X to denote GE and Y for ME, take indices on Y later\n",
    "X = ge\n",
    "\n",
    "# variable stage contains cancer stage (indexed from stageTypes), y contains cancertypes\n",
    "Xtype = X[cancertype == ctype_idx]\n",
    "Xrest = X[cancertype != ctype_idx]\n",
    "\n",
    "yrest = cancertype[cancertype != ctype_idx]\n",
    "\n",
    "# All BRCA samples\n",
    "Xtype_samples = samples[cancertype == ctype_idx]\n",
    "\n",
    "print(\"Data contains {} samples of Xtype_samples type {}\".format(Xtype_samples.shape[0], ctype))"
   ]
  },
  {
   "cell_type": "code",
   "execution_count": 78,
   "metadata": {},
   "outputs": [],
   "source": [
    "np.save(\"{}/{}_sampleNames.npy\".format(save_dir, ctype), Xtype_samples)"
   ]
  },
  {
   "cell_type": "code",
   "execution_count": 79,
   "metadata": {},
   "outputs": [
    {
     "name": "stdout",
     "output_type": "stream",
     "text": [
      "Stage 1 170\n",
      "Stage 2 134\n",
      "Stage 3 56\n",
      "Stage 4 4\n"
     ]
    }
   ],
   "source": [
    "# Create stage array\n",
    "stageType = np.zeros(Xtype_samples.shape[0])\n",
    "\n",
    "for i in range(len(stageTypes)):\n",
    "    stage_samples = stages[stageTypes[i]].patient_data.index.values\n",
    "    print(stageTypes[i], stage_samples.shape[0])\n",
    "    for stage_sample in stage_samples:\n",
    "        idx = np.where(Xtype_samples == stage_sample)[0][0]\n",
    "        stageType[idx] = i  # stages in StageTypes array are 0-indexed\n"
   ]
  },
  {
   "cell_type": "markdown",
   "metadata": {},
   "source": [
    "## Stratified Split Data"
   ]
  },
  {
   "cell_type": "code",
   "execution_count": 80,
   "metadata": {},
   "outputs": [
    {
     "name": "stdout",
     "output_type": "stream",
     "text": [
      "Test samples with LUSC (37, 5000)\n",
      "Train samples with LUSC (294, 5000)\n",
      "Validation samples with LUSC (33, 5000)\n",
      "Train samples from remaining cancer types (7136, 5000)\n",
      "Validation samples from remaining cancer types (893, 5000)\n"
     ]
    }
   ],
   "source": [
    "split1 = StratifiedShuffleSplit(n_splits=1, test_size=0.1)\n",
    "\n",
    "sss1 = split1.split(Xtype, stageType)\n",
    "\n",
    "trainValidInd = 0\n",
    "testInd = 0\n",
    "for i, j in sss1:\n",
    "    trainValidInd = i\n",
    "    testInd = j\n",
    "    \n",
    "\n",
    "\n",
    "Xtest = Xtype[testInd]\n",
    "print(\"Test samples with {}\".format(ctype), Xtest.shape)\n",
    "stagetest = stageType[testInd] \n",
    "np.save(\"{}/{}_test_stageType.npy\".format(save_dir, ctype), stagetest)\n",
    "np.save(\"{}/{}_test_samples.npy\".format(save_dir, ctype), Xtype_samples[testInd])\n",
    "\n",
    "XtrainValid = Xtype[trainValidInd]\n",
    "\n",
    "stagetrainValid = stageType[trainValidInd]\n",
    "\n",
    "split2 = StratifiedShuffleSplit(n_splits=1, test_size=1/9)\n",
    "\n",
    "sss2 = split1.split(XtrainValid, stagetrainValid)\n",
    "\n",
    "trainInd = 0\n",
    "validInd = 0\n",
    "for i, j in sss2:\n",
    "    trainInd = i\n",
    "    validInd = j\n",
    "\n",
    "Xtrain = XtrainValid[trainInd]\n",
    "print(\"Train samples with {}\".format(ctype), Xtrain.shape)\n",
    "\n",
    "stagetrain = stagetrainValid[trainInd]\n",
    "np.save(\"{}/{}_train_stageType.npy\".format(save_dir, ctype), stagetrain)\n",
    "np.save(\"{}/{}_train_samples.npy\".format(save_dir, ctype), Xtype_samples[trainValidInd][trainInd])\n",
    "\n",
    "\n",
    "Xvalid = XtrainValid[validInd]\n",
    "print(\"Validation samples with {}\".format(ctype), Xvalid.shape)\n",
    "\n",
    "stagevalid = stagetrainValid[validInd]\n",
    "np.save(\"{}/{}_valid_stageType.npy\".format(save_dir, ctype), stagevalid)\n",
    "np.save(\"{}/{}_valid_samples.npy\".format(save_dir, ctype), Xtype_samples[trainValidInd][validInd])\n",
    "\n",
    "\n",
    "splitRest = StratifiedShuffleSplit(n_splits=1, test_size=1/9)\n",
    "\n",
    "sss3 = splitRest.split(Xrest, yrest)\n",
    "trainIndrest = 0\n",
    "validIndrest = 0\n",
    "for i, j in sss3:\n",
    "    trainIndrest = i\n",
    "    validIndrest = j\n",
    "\n",
    "\n",
    "Xresttrain = Xrest[trainIndrest]\n",
    "print(\"Train samples from remaining cancer types\".format(ctype), Xresttrain.shape)\n",
    "\n",
    "\n",
    "Xrestvalid = Xrest[validIndrest]\n",
    "print(\"Validation samples from remaining cancer types\".format(ctype), Xrestvalid.shape)\n",
    "\n"
   ]
  },
  {
   "cell_type": "code",
   "execution_count": 81,
   "metadata": {},
   "outputs": [],
   "source": [
    "# Use same indices used to split X (= GE) on Y (= ME) and Z (= GCN)\n",
    "Y = me\n",
    "Ytype = Y[cancertype == ctype_idx]\n",
    "Yrest = Y[cancertype != ctype_idx]\n",
    "\n",
    "\n",
    "Ytest = Ytype[testInd]\n",
    "YtrainValid = Ytype[trainValidInd]\n",
    "Ytrain = YtrainValid[trainInd]\n",
    "Yvalid = YtrainValid[validInd]\n",
    "\n",
    "Yresttrain = Yrest[trainIndrest]\n",
    "Yrestvalid = Yrest[validIndrest]\n",
    "\n",
    "Z = gcn\n",
    "Ztype = Z[cancertype == ctype_idx]\n",
    "Zrest = Z[cancertype != ctype_idx]\n",
    "\n",
    "Ztest = Ztype[testInd]\n",
    "ZtrainValid = Ztype[trainValidInd]\n",
    "Ztrain = ZtrainValid[trainInd]\n",
    "Zvalid = ZtrainValid[validInd]\n",
    "\n",
    "Zresttrain = Zrest[trainIndrest]\n",
    "Zrestvalid = Zrest[validIndrest]\n"
   ]
  },
  {
   "cell_type": "code",
   "execution_count": 82,
   "metadata": {
    "scrolled": true
   },
   "outputs": [
    {
     "name": "stdout",
     "output_type": "stream",
     "text": [
      "(7430, 5000)\n",
      "(926, 5000)\n",
      "(37, 5000)\n"
     ]
    }
   ],
   "source": [
    "# Throw together BRCA training data and Rest training data (and same for validation)\n",
    "XtrainAll = np.vstack((Xtrain, Xresttrain))\n",
    "\n",
    "XvalidAll = np.vstack((Xvalid, Xrestvalid))\n",
    "\n",
    "print(XtrainAll.shape)\n",
    "print(XvalidAll.shape)\n",
    "print(Xtest.shape)"
   ]
  },
  {
   "cell_type": "code",
   "execution_count": 83,
   "metadata": {
    "scrolled": false
   },
   "outputs": [
    {
     "name": "stdout",
     "output_type": "stream",
     "text": [
      "List Cancer stage from LUSC and occurences in test set\n",
      "[[ 0. 17.]\n",
      " [ 1. 14.]\n",
      " [ 2.  6.]]\n"
     ]
    }
   ],
   "source": [
    "(unique, counts) = np.unique(stagetest, return_counts=True)\n",
    "frequencies = np.asarray((unique, counts)).T\n",
    "\n",
    "print(\"List Cancer stage from {} and occurences in test set\".format(ctype))\n",
    "print(frequencies)"
   ]
  },
  {
   "cell_type": "code",
   "execution_count": 84,
   "metadata": {},
   "outputs": [],
   "source": [
    "# Save all splits for testing convenience\n",
    "np.save(\"{}/{}_GE_train\".format(save_dir, ctype), Xtrain)\n",
    "np.save(\"{}/rest_GE_train\".format(save_dir), Xresttrain)\n",
    "np.save(\"{}/{}_GE_valid\".format(save_dir, ctype), Xvalid)\n",
    "np.save(\"{}/rest_GE_valid\".format(save_dir), Xrestvalid)\n",
    "np.save(\"{}/{}_GE_test\".format(save_dir, ctype), Xtest)\n",
    "\n",
    "np.save(\"{}/{}_ME_train\".format(save_dir, ctype), Ytrain)\n",
    "np.save(\"{}/rest_ME_train\".format(save_dir), Yresttrain)\n",
    "np.save(\"{}/{}_ME_valid\".format(save_dir, ctype), Yvalid)\n",
    "np.save(\"{}/rest_ME_valid\".format(save_dir), Yrestvalid)\n",
    "np.save(\"{}/{}_ME_test\".format(save_dir, ctype), Ytest)\n",
    "\n",
    "np.save(\"{}/{}_GCN_train\".format(save_dir, ctype), Ztrain)\n",
    "np.save(\"{}/rest_GCN_train\".format(save_dir), Zresttrain)\n",
    "np.save(\"{}/{}_GCN_valid\".format(save_dir, ctype), Zvalid)\n",
    "np.save(\"{}/rest_GCN_valid\".format(save_dir), Zrestvalid)\n",
    "np.save(\"{}/{}_GCN_test\".format(save_dir, ctype), Ztest)"
   ]
  }
 ],
 "metadata": {
  "kernelspec": {
   "display_name": "vae",
   "language": "python",
   "name": "vae"
  },
  "language_info": {
   "codemirror_mode": {
    "name": "ipython",
    "version": 3
   },
   "file_extension": ".py",
   "mimetype": "text/x-python",
   "name": "python",
   "nbconvert_exporter": "python",
   "pygments_lexer": "ipython3",
   "version": "3.9.5"
  }
 },
 "nbformat": 4,
 "nbformat_minor": 4
}
