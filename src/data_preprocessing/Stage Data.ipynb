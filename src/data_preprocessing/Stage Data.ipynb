{
 "cells": [
  {
   "cell_type": "markdown",
   "metadata": {},
   "source": [
    "## Full xena file"
   ]
  },
  {
   "cell_type": "code",
   "execution_count": 20,
   "metadata": {},
   "outputs": [],
   "source": [
    "import pandas as pd\n",
    "import numpy as np\n",
    "from sklearn.model_selection import StratifiedShuffleSplit\n",
    "import os"
   ]
  },
  {
   "cell_type": "code",
   "execution_count": 21,
   "metadata": {},
   "outputs": [],
   "source": [
    "ge = np.load(\"/home/bram/jointomicscomp/data/GE.npy\")\n",
    "me = np.load(\"/home/bram/jointomicscomp/data/ME.npy\")\n",
    "samples = np.load(\"/home/bram/jointomicscomp/data/sampleNames.npy\")\n",
    "cancertype = np.load(\"/home/bram/jointomicscomp/data/cancerType.npy\")\n",
    "cancertypes = np.load(\"/home/bram/jointomicscomp/data/cancerTypes.npy\")\n",
    "stageTypes = np.load(\"/home/bram/jointomicscomp/data/stageTypes.npy\")"
   ]
  },
  {
   "cell_type": "markdown",
   "metadata": {},
   "source": [
    "## Curated Data"
   ]
  },
  {
   "cell_type": "code",
   "execution_count": 23,
   "metadata": {
    "scrolled": true
   },
   "outputs": [
    {
     "name": "stdout",
     "output_type": "stream",
     "text": [
      "Shape: (12591, 33)\n"
     ]
    }
   ],
   "source": [
    "survival_table = pd.read_table(\"/home/bram/jointomicscomp/data/Survival_SupplementalTable_S1_20171025_xena_sp\", index_col=0)\n",
    "\n",
    "print(\"Shape:\", survival_table.shape)\n"
   ]
  },
  {
   "cell_type": "markdown",
   "metadata": {},
   "source": [
    "## Show most common cancer types"
   ]
  },
  {
   "cell_type": "code",
   "execution_count": 24,
   "metadata": {},
   "outputs": [
    {
     "data": {
      "text/plain": [
       "[('BRCA', 1236),\n",
       " ('KIRC', 944),\n",
       " ('LUAD', 641),\n",
       " ('LUSC', 623),\n",
       " ('HNSC', 604),\n",
       " ('OV', 604),\n",
       " ('GBM', 602),\n",
       " ('UCEC', 583),\n",
       " ('THCA', 580),\n",
       " ('PRAD', 566),\n",
       " ('COAD', 545),\n",
       " ('LGG', 529),\n",
       " ('STAD', 511),\n",
       " ('SKCM', 479),\n",
       " ('LIHC', 438),\n",
       " ('BLCA', 436),\n",
       " ('KIRP', 352),\n",
       " ('CESC', 312),\n",
       " ('SARC', 271),\n",
       " ('ESCA', 204),\n",
       " ('LAML', 200),\n",
       " ('PAAD', 196),\n",
       " ('PCPG', 187),\n",
       " ('READ', 183),\n",
       " ('TGCT', 139),\n",
       " ('THYM', 126),\n",
       " ('ACC', 92),\n",
       " ('KICH', 91),\n",
       " ('MESO', 87),\n",
       " ('UVM', 80),\n",
       " ('UCS', 57),\n",
       " ('DLBC', 48),\n",
       " ('CHOL', 45)]"
      ]
     },
     "execution_count": 24,
     "metadata": {},
     "output_type": "execute_result"
    }
   ],
   "source": [
    "counter = dict()\n",
    "cancer_types = survival_table.iloc[:, 1]\n",
    "for value in cancer_types:\n",
    "    if value in counter:\n",
    "        counter[value] += 1\n",
    "        \n",
    "    else:\n",
    "        counter[value] = 1\n",
    "        \n",
    "counter = sorted(counter.items(), key=lambda x: x[1], reverse=True)\n",
    "counter"
   ]
  },
  {
   "cell_type": "markdown",
   "metadata": {},
   "source": [
    "## Select cancer type and data"
   ]
  },
  {
   "cell_type": "code",
   "execution_count": 25,
   "metadata": {
    "scrolled": true
   },
   "outputs": [
    {
     "data": {
      "text/plain": [
       "sample\n",
       "TCGA-3C-AAAU-01    TCGA-3C-AAAU\n",
       "TCGA-3C-AALI-01    TCGA-3C-AALI\n",
       "TCGA-3C-AALJ-01    TCGA-3C-AALJ\n",
       "TCGA-3C-AALK-01    TCGA-3C-AALK\n",
       "TCGA-4H-AAAK-01    TCGA-4H-AAAK\n",
       "                       ...     \n",
       "TCGA-WT-AB44-01    TCGA-WT-AB44\n",
       "TCGA-XX-A899-01    TCGA-XX-A899\n",
       "TCGA-XX-A89A-01    TCGA-XX-A89A\n",
       "TCGA-Z7-A8R5-01    TCGA-Z7-A8R5\n",
       "TCGA-Z7-A8R6-01    TCGA-Z7-A8R6\n",
       "Name: _PATIENT, Length: 1236, dtype: object"
      ]
     },
     "execution_count": 25,
     "metadata": {},
     "output_type": "execute_result"
    }
   ],
   "source": [
    "# All patients with a certain cancer cancer.\n",
    "ctype = 'BRCA'\n",
    "ctype_idx = np.where(cancertypes == ctype)[0][0] # Get index of ctype in total cancers list\n",
    "\n",
    "# Data splitting is done on X, so run this twice, once for GE and once for ME\n",
    "data_type = \"ME\"\n",
    "X = me\n",
    "\n",
    "# Save all required data in data/cancer_type folder\n",
    "save_dir = os.path.join(\"/home/bram/jointomicscomp/data\", '{}'.format(ctype))\n",
    "if not os.path.exists(save_dir):\n",
    "    os.makedirs(save_dir)\n",
    "\n",
    "cancer_type_info_table = survival_table.loc[survival_table[\"cancer type abbreviation\"] == ctype]\n",
    "cancer_type_patients = cancer_type_info_table[\"_PATIENT\"]\n",
    "    \n",
    "cancer_type_patients"
   ]
  },
  {
   "cell_type": "markdown",
   "metadata": {},
   "source": [
    "## Get RNA data from these patients grab corresponding stage"
   ]
  },
  {
   "cell_type": "code",
   "execution_count": 45,
   "metadata": {},
   "outputs": [
    {
     "name": "stdout",
     "output_type": "stream",
     "text": [
      "357 Samples did not have a stage in the info dataframe.\n"
     ]
    }
   ],
   "source": [
    "# Stages.\n",
    "gene_expression_csv = pd.read_csv(\"/home/bram/jointomicscomp/data/rna-pancancer-5000-minmax.csv\", index_col=0)\n",
    "gene_expression_csv = gene_expression_csv.loc[samples]  # Take only samples used in this research\n",
    "\n",
    "stages = dict()\n",
    "s = set()\n",
    "no_stage_counter = 0\n",
    "for patient in cancer_type_patients:\n",
    "    # Get all occurences of the patient in the original data file.\n",
    "    x = gene_expression_csv[[patient in label for label in samples]]\n",
    "    \n",
    "    y = survival_table[survival_table[\"_PATIENT\"] == patient][\"ajcc_pathologic_tumor_stage\"].values[0]\n",
    "    # Get strin to remove nans.\n",
    "    y = str(y)\n",
    "    s.add(y)\n",
    "    if y == \"nan\" or y == 'Stage X' or y == '[Discrepancy]' or x.empty:\n",
    "        no_stage_counter += 1\n",
    "        continue\n",
    "    \n",
    "    # If it's stage 4 then add to stage for. No A's and B's here.\n",
    "    if y == 'Stage IV':\n",
    "        stage = 'Stage 4'\n",
    "    \n",
    "    # Create stage string for other stages than 4.\n",
    "    else:\n",
    "        stage = 'Stage ' + str(y.count('I'))\n",
    "    \n",
    "    # Create stage key.\n",
    "    if stage not in stages:\n",
    "        stages[stage] = []\n",
    "    \n",
    "    # Add to dict.\n",
    "    stages[stage].append(x)\n",
    "    \n",
    "print(\"{} Samples did not have a stage in the info dataframe.\".format(no_stage_counter))\n",
    "    \n"
   ]
  },
  {
   "cell_type": "code",
   "execution_count": 42,
   "metadata": {},
   "outputs": [
    {
     "name": "stdout",
     "output_type": "stream",
     "text": [
      "Stage 1 139\n",
      "Stage 2 508\n",
      "Stage 3 220\n",
      "Stage 4 12\n"
     ]
    }
   ],
   "source": [
    "for x in stageTypes:\n",
    "    print(x, len(stages[x]))\n",
    "    "
   ]
  },
  {
   "cell_type": "code",
   "execution_count": 28,
   "metadata": {},
   "outputs": [],
   "source": [
    "class Stage:\n",
    "    \n",
    "    def __init__(self, rna):\n",
    "        self.patient_data = rna"
   ]
  },
  {
   "cell_type": "code",
   "execution_count": 29,
   "metadata": {
    "scrolled": true
   },
   "outputs": [
    {
     "name": "stdout",
     "output_type": "stream",
     "text": [
      "Stage 1 (159, 5001)\n",
      "Stage 2 (607, 5001)\n",
      "Stage 3 (262, 5001)\n",
      "Stage 4 (14, 5001)\n",
      "Total number of samples: 1042\n"
     ]
    }
   ],
   "source": [
    "# Add the dataframes together.\n",
    "for stage in stageTypes:\n",
    "    stages[stage] = Stage(pd.concat(stages[stage]))\n",
    "    stages[stage].patient_data['Stage'] = stage\n",
    "\n",
    "samples_ctr = 0\n",
    "for x in stageTypes:\n",
    "    print(x, stages[x].patient_data.shape)\n",
    "    samples_ctr += len(stages[x].patient_data)\n",
    "    \n",
    "print(\"Total number of samples:\", samples_ctr)"
   ]
  },
  {
   "cell_type": "code",
   "execution_count": 30,
   "metadata": {
    "scrolled": false
   },
   "outputs": [
    {
     "data": {
      "text/plain": [
       "{'Stage 2': <__main__.Stage at 0x7fa83c6409d0>,\n",
       " 'Stage 1': <__main__.Stage at 0x7fa7cab4b430>,\n",
       " 'Stage 3': <__main__.Stage at 0x7fa7fe3a28e0>,\n",
       " 'Stage 4': <__main__.Stage at 0x7fa7ca94bb50>}"
      ]
     },
     "execution_count": 30,
     "metadata": {},
     "output_type": "execute_result"
    }
   ],
   "source": [
    "stages"
   ]
  },
  {
   "cell_type": "code",
   "execution_count": 31,
   "metadata": {
    "scrolled": true
   },
   "outputs": [
    {
     "name": "stdout",
     "output_type": "stream",
     "text": [
      "Data contains 849 samples of Xtype_samples type BRCA\n"
     ]
    }
   ],
   "source": [
    "# variable stage contains cancer stage (indexed from stageTypes)\n",
    "Xtype = X[cancertype == ctype_idx]\n",
    "Xrest = X[cancertype != ctype_idx]\n",
    "\n",
    "yrest = cancertype[cancertype != ctype_idx]\n",
    "\n",
    "# All BRCA samples\n",
    "Xtype_samples = samples[cancertype == ctype_idx]\n",
    "\n",
    "# Now fetch stage data for these samples\n",
    "\n",
    "ctr= 0\n",
    "Xtype_samples_withstage = []\n",
    "for stage in stageTypes:\n",
    "    ctr+= np.intersect1d(samples, stages[stage].patient_data.index.values).shape[0]\n",
    "    Xtype_samples_withstage.extend(np.intersect1d(samples, stages[stage].patient_data.index.values))\n",
    "    \n",
    "Xtype_samples_withstage = np.array(Xtype_samples_withstage)\n",
    "\n",
    "\n",
    "# There are fewer samples whose stage is known, so we need to discard some\n",
    "# Xtype_nostage = np.setdiff1d(Xtype_samples, Xtype_samples_withstage)\n",
    "# print(Xtype_nostage.shape)\n",
    "Xtype_sample_withstage_idx = np.where(np.isin(Xtype_samples, Xtype_samples_withstage))[0]\n",
    "Xtype_samples = Xtype_samples[Xtype_sample_withstage_idx]\n",
    "Xtype = Xtype[Xtype_sample_withstage_idx]\n",
    "\n",
    "print(\"Data contains {} samples of Xtype_samples type {}\".format(Xtype_samples.shape[0], ctype))"
   ]
  },
  {
   "cell_type": "code",
   "execution_count": 32,
   "metadata": {},
   "outputs": [],
   "source": [
    "np.save(\"{}/{}_sampleNames.npy\".format(save_dir, ctype), Xtype_samples)"
   ]
  },
  {
   "cell_type": "code",
   "execution_count": 33,
   "metadata": {},
   "outputs": [
    {
     "name": "stdout",
     "output_type": "stream",
     "text": [
      "Stage 1 159\n",
      "Stage 2 607\n",
      "Stage 3 262\n",
      "Stage 4 14\n"
     ]
    }
   ],
   "source": [
    "# Create stage array\n",
    "stageType = np.zeros(Xtype_samples.shape[0])\n",
    "\n",
    "for i in range(len(stageTypes)):\n",
    "    stage_samples = stages[stageTypes[i]].patient_data.index.values\n",
    "    print(stageTypes[i], stage_samples.shape[0])\n",
    "    for stage_sample in stage_samples:\n",
    "        idx = np.where(Xtype_samples == stage_sample)[0][0]\n",
    "        stageType[idx] = i  # stages in StageTypes array are 0-indexed\n",
    "        \n",
    "np.save(\"{}/{}_stageType.npy\".format(save_dir, ctype), stageType)"
   ]
  },
  {
   "cell_type": "code",
   "execution_count": 34,
   "metadata": {},
   "outputs": [],
   "source": [
    "## Stratified Split Data"
   ]
  },
  {
   "cell_type": "code",
   "execution_count": 35,
   "metadata": {},
   "outputs": [
    {
     "name": "stdout",
     "output_type": "stream",
     "text": [
      "Test samples with BRCA (85, 5000)\n",
      "Train samples with BRCA (687, 5000)\n",
      "Validation samples with BRCA (77, 5000)\n",
      "Train samples from remaining cancer types (7334, 5000)\n",
      "Validation samples from remaining cancer types (917, 5000)\n"
     ]
    }
   ],
   "source": [
    "split1 = StratifiedShuffleSplit(n_splits=1, test_size=0.1)\n",
    "\n",
    "sss1 = split1.split(Xtype, stageType)\n",
    "\n",
    "trainValidInd = 0\n",
    "testInd = 0\n",
    "for i, j in sss1:\n",
    "    trainValidInd = i\n",
    "    testInd = j\n",
    "    \n",
    "\n",
    "\n",
    "Xtest = Xtype[testInd]\n",
    "print(\"Test samples with {}\".format(ctype), Xtest.shape)\n",
    "stagetest = stageType[testInd] \n",
    "\n",
    "XtrainValid = Xtype[trainValidInd]\n",
    "\n",
    "stagetrainValid = stageType[trainValidInd]\n",
    "\n",
    "split2 = StratifiedShuffleSplit(n_splits=1, test_size=1/9)\n",
    "\n",
    "sss2 = split1.split(XtrainValid, stagetrainValid)\n",
    "\n",
    "trainInd = 0\n",
    "validInd = 0\n",
    "for i, j in sss2:\n",
    "    trainInd = i\n",
    "    validInd = j\n",
    "\n",
    "Xtrain = XtrainValid[trainInd]\n",
    "print(\"Train samples with {}\".format(ctype), Xtrain.shape)\n",
    "\n",
    "stagetrain = stagetrainValid[trainInd]\n",
    " \n",
    "Xvalid = XtrainValid[validInd]\n",
    "print(\"Validation samples with {}\".format(ctype), Xvalid.shape)\n",
    "\n",
    "stagevalid = stagetrainValid[validInd]\n",
    "\n",
    "splitRest = StratifiedShuffleSplit(n_splits=1, test_size=1/9)\n",
    "\n",
    "sss3 = splitRest.split(Xrest, yrest)\n",
    "trainIndrest = 0\n",
    "validIndrest = 0\n",
    "for i, j in sss3:\n",
    "    trainIndrest = i\n",
    "    validIndrest = j\n",
    "\n",
    "\n",
    "Xresttrain = Xrest[trainIndrest]\n",
    "print(\"Train samples from remaining cancer types\".format(ctype), Xresttrain.shape)\n",
    "\n",
    "\n",
    "Xrestvalid = Xrest[validIndrest]\n",
    "print(\"Validation samples from remaining cancer types\".format(ctype), Xrestvalid.shape)\n"
   ]
  },
  {
   "cell_type": "code",
   "execution_count": 36,
   "metadata": {},
   "outputs": [
    {
     "name": "stdout",
     "output_type": "stream",
     "text": [
      "(8021, 5000)\n",
      "(994, 5000)\n",
      "(85, 5000)\n"
     ]
    }
   ],
   "source": [
    "# Throw together BRCA training data and Rest training data (and same for validation)\n",
    "XtrainAll = np.vstack((Xtrain, Xresttrain))\n",
    "\n",
    "XvalidAll = np.vstack((Xvalid, Xrestvalid))\n",
    "\n",
    "XtestAll = Xtest\n",
    "\n",
    "print(XtrainAll.shape)\n",
    "print(XvalidAll.shape)\n",
    "print(XtestAll.shape)"
   ]
  },
  {
   "cell_type": "code",
   "execution_count": 37,
   "metadata": {
    "scrolled": true
   },
   "outputs": [
    {
     "name": "stdout",
     "output_type": "stream",
     "text": [
      "List Cancer stage from BRCA and occurences in test set\n",
      "[[ 0. 13.]\n",
      " [ 1. 49.]\n",
      " [ 2. 22.]\n",
      " [ 3.  1.]]\n"
     ]
    }
   ],
   "source": [
    "(unique, counts) = np.unique(stagetest, return_counts=True)\n",
    "frequencies = np.asarray((unique, counts)).T\n",
    "\n",
    "print(\"List Cancer stage from {} and occurences in test set\".format(ctype))\n",
    "print(frequencies)"
   ]
  },
  {
   "cell_type": "code",
   "execution_count": 38,
   "metadata": {},
   "outputs": [],
   "source": [
    "# Save all splits for testing convenience\n",
    "np.save(\"{}/{}_{}_train\".format(save_dir, ctype, data_type), XtrainAll)\n",
    "np.save(\"{}/{}_{}_valid\".format(save_dir, ctype, data_type), XvalidAll)\n",
    "np.save(\"{}/{}_{}_test\".format(save_dir, ctype, data_type), XtestAll)"
   ]
  },
  {
   "cell_type": "code",
   "execution_count": null,
   "metadata": {},
   "outputs": [],
   "source": []
  }
 ],
 "metadata": {
  "kernelspec": {
   "display_name": "vae",
   "language": "python",
   "name": "vae"
  },
  "language_info": {
   "codemirror_mode": {
    "name": "ipython",
    "version": 3
   },
   "file_extension": ".py",
   "mimetype": "text/x-python",
   "name": "python",
   "nbconvert_exporter": "python",
   "pygments_lexer": "ipython3",
   "version": "3.9.5"
  }
 },
 "nbformat": 4,
 "nbformat_minor": 4
}
