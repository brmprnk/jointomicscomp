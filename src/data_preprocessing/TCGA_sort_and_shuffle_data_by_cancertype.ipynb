{
 "cells": [
  {
   "cell_type": "code",
   "execution_count": 13,
   "id": "chronic-pharmacy",
   "metadata": {},
   "outputs": [],
   "source": [
    "\"\"\"\n",
    "File that ensures ordering of datafiles is done per cancer type, and provides the cancer type name of each sample.\n",
    "This is done to plot UMAP of cancer types.\n",
    "\"\"\"\n",
    "\n",
    "import pandas as pd\n",
    "import numpy as np\n",
    "import os\n",
    "import run\n",
    "# Get data file from /data folder relative to Root dir\n",
    "patient_info_file = os.path.join(run.ROOT_DIR, 'data', 'Survival_SupplementalTable_S1_20171025_xena_sp')\n",
    "rna_file = os.path.join(run.ROOT_DIR, 'data', 'RNASeq_5000MAD.csv')"
   ]
  },
  {
   "cell_type": "code",
   "execution_count": 14,
   "id": "rough-selling",
   "metadata": {},
   "outputs": [],
   "source": [
    "patient_info = pd.read_table(patient_info_file, index_col=0)\n",
    "rna = pd.read_csv(rna_file, index_col=0)"
   ]
  },
  {
   "cell_type": "code",
   "execution_count": 15,
   "id": "union-basin",
   "metadata": {},
   "outputs": [],
   "source": [
    "common = []\n",
    "cancer_patients = patient_info.index.values\n",
    "cancer_types = []\n",
    "\n",
    "# Get all occurences of the patient in the original data file.\n",
    "for patient in cancer_patients:\n",
    "        x = rna[[patient in label for label in rna.index]]\n",
    "        if x.empty:\n",
    "            continue\n",
    "\n",
    "        common.append(x)\n",
    "        for _ in range(len(x)):\n",
    "            cancer_types.append(patient_info.loc[patient][\"cancer type abbreviation\"])\n",
    "            \n",
    "# common now holds all the rows of the dataframe, ordered by patients with known cancertypes"
   ]
  },
  {
   "cell_type": "code",
   "execution_count": 16,
   "id": "apart-alaska",
   "metadata": {},
   "outputs": [
    {
     "data": {
      "text/plain": "(9094, 5000)"
     },
     "execution_count": 16,
     "metadata": {},
     "output_type": "execute_result"
    }
   ],
   "source": [
    "# RNA datafile is now defined with samples only from patients whose cancer type is known\n",
    "rna_bycancertype = pd.concat(common)\n",
    "rna_bycancertype.shape"
   ]
  },
  {
   "cell_type": "code",
   "execution_count": 17,
   "id": "junior-internet",
   "metadata": {},
   "outputs": [],
   "source": [
    "dname_file = os.path.join(run.ROOT_DIR, 'data', 'DNAMe_5000MAD.csv')\n",
    "\n",
    "# Load in the other modalities and use .loc to order them in the same manner as the rna file\n",
    "dna = pd.read_csv(dname_file, index_col=0)\n",
    "dna_bycancertype = dna.loc[rna_bycancertype.index.values]"
   ]
  },
  {
   "cell_type": "code",
   "execution_count": 18,
   "id": "designed-angola",
   "metadata": {},
   "outputs": [
    {
     "data": {
      "text/plain": "array(['ACC', 'ACC', 'ACC', ..., 'UVM', 'UVM', 'UVM'], dtype='<U4')"
     },
     "execution_count": 18,
     "metadata": {},
     "output_type": "execute_result"
    }
   ],
   "source": [
    "labels = np.array(cancer_types)\n",
    "labels"
   ]
  },
  {
   "cell_type": "code",
   "execution_count": 19,
   "id": "hollow-semester",
   "metadata": {},
   "outputs": [],
   "source": [
    "# Now we have dataframes and cancer type labels, but they are all ordered\n",
    "# They need to be shuffled to avoid overfitting of models\n",
    "\n",
    "# # Shuffle labels and dataframes for training, but keep the same order of samples and labels\n",
    "shuffler = np.random.permutation(len(labels))\n",
    "\n",
    "labels_shuffle = labels[shuffler]\n",
    "rna_shuffle = rna_bycancertype.iloc[shuffler]\n",
    "dna_shuffle = dna_bycancertype.iloc[shuffler]\n",
    "\n",
    "# Save ordered output files\n",
    "np.save(os.path.join(run.ROOT_DIR, 'data', 'cancertype_labels.npy'), labels)\n",
    "rna_bycancertype.to_csv(rna_file)\n",
    "dna_bycancertype.to_csv(dname_file)\n",
    "\n",
    "# Save shuffled output files\n",
    "np.save(os.path.join(run.ROOT_DIR, 'data', 'shuffle_cancertype_labels.npy'), labels_shuffle)\n",
    "rna_shuffle.to_csv(os.path.join(run.ROOT_DIR, 'data', 'shuffle_RNASeq_3000MAD.csv'))\n",
    "dna_shuffle.to_csv(os.path.join(run.ROOT_DIR, 'data', 'shuffle_DNAMe_3000MAD.csv'))"
   ]
  }
 ],
 "metadata": {
  "kernelspec": {
   "name": "vae",
   "language": "python",
   "display_name": "vae"
  },
  "language_info": {
   "codemirror_mode": {
    "name": "ipython",
    "version": 3
   },
   "file_extension": ".py",
   "mimetype": "text/x-python",
   "name": "python",
   "nbconvert_exporter": "python",
   "pygments_lexer": "ipython3",
   "version": "3.9.4"
  }
 },
 "nbformat": 4,
 "nbformat_minor": 5
}