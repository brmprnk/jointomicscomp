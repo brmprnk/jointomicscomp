{
 "cells": [
  {
   "cell_type": "code",
   "execution_count": 71,
   "metadata": {
    "pycharm": {
     "name": "#%%\n"
    }
   },
   "outputs": [],
   "source": [
    "import numpy as np\n",
    "import pandas as pd\n",
    "from mord import OrdinalRidge\n",
    "from sklearn.metrics import accuracy_score, mean_squared_error, r2_score, precision_recall_fscore_support, matthews_corrcoef, confusion_matrix"
   ]
  },
  {
   "cell_type": "code",
   "execution_count": null,
   "metadata": {},
   "outputs": [],
   "source": [
    "# From baseline\n",
    "\n",
    "def evaluate_classification(y_true, y_pred):\n",
    "    # returns accuracy, precision, recall, f1, mcc, confusion_matrix\n",
    "\n",
    "    acc = accuracy_score(y_true, y_pred)\n",
    "    pr, rc, f1, _ = precision_recall_fscore_support(y_true, y_pred)\n",
    "    mcc = matthews_corrcoef(y_true, y_pred)\n",
    "    confMat = confusion_matrix(y_true, y_pred)\n",
    "\n",
    "    return [acc, pr, rc, f1, mcc, confMat]"
   ]
  },
  {
   "cell_type": "code",
   "execution_count": 72,
   "metadata": {},
   "outputs": [],
   "source": [
    "folder = \"/home/bram/jointomicscomp/results/trained CGAE task 2 STAD\"\n",
    "ctype = \"STAD\""
   ]
  },
  {
   "cell_type": "code",
   "execution_count": 73,
   "metadata": {},
   "outputs": [],
   "source": [
    "x_ctype_train_file = \"/home/bram/jointomicscomp/data/{}/{}_GE_train.npy\".format(ctype, ctype)\n",
    "y_ctype_train_file = \"/home/bram/jointomicscomp/data/{}/{}_ME_train.npy\".format(ctype, ctype)\n",
    "x_ctype_valid_file = \"/home/bram/jointomicscomp/data/{}/{}_GE_valid.npy\".format(ctype, ctype)\n",
    "y_ctype_valid_file = \"/home/bram/jointomicscomp/data/{}/{}_ME_valid.npy\".format(ctype, ctype)\n",
    "x_ctype_test_file = \"/home/bram/jointomicscomp/data/{}/{}_GE_test.npy\".format(ctype, ctype)\n",
    "y_ctype_test_file = \"/home/bram/jointomicscomp/data/{}/{}_ME_test.npy\".format(ctype, ctype)\n",
    "\n",
    "# For latent feature extraction\n",
    "GEtrainctype = np.load(x_ctype_train_file)\n",
    "GEvalidctype = np.load(x_ctype_valid_file)\n",
    "GEtestctype = np.load(x_ctype_test_file)"
   ]
  },
  {
   "cell_type": "code",
   "execution_count": 74,
   "metadata": {},
   "outputs": [],
   "source": [
    "y_train = np.load(\"/home/bram/jointomicscomp/data/{}/{}_train_stageType.npy\".format(ctype, ctype))\n",
    "y_valid = np.load(\"/home/bram/jointomicscomp/data/{}/{}_valid_stageType.npy\".format(ctype, ctype))\n",
    "y_test = np.load(\"/home/bram/jointomicscomp/data/{}/{}_test_stageType.npy\".format(ctype, ctype))\n",
    "\n"
   ]
  },
  {
   "cell_type": "code",
   "execution_count": 75,
   "metadata": {},
   "outputs": [],
   "source": [
    "# Z1 for GE and z2 for ME\n",
    "z1 = np.load(\"{}/CGAE/task2_z1.npy\".format(folder))\n",
    "z2 = np.load(\"{}/CGAE/task2_z2.npy\".format(folder))"
   ]
  },
  {
   "cell_type": "code",
   "execution_count": 76,
   "metadata": {},
   "outputs": [
    {
     "name": "stdout",
     "output_type": "stream",
     "text": [
      "(292, 128)\n",
      "(33, 128)\n",
      "(37, 128)\n",
      "(292, 128)\n",
      "(33, 128)\n",
      "(37, 128)\n"
     ]
    }
   ],
   "source": [
    "# Create labels from stageTypes and stageTypes\n",
    "latent_train1 = z1[:len(GEtrainctype)]\n",
    "latent_valid1 = z1[len(latent_train1):(len(GEtrainctype) + len(GEvalidctype))]\n",
    "latent_test1 = z1[(len(latent_train1) + len(latent_valid1)):(len(GEtrainctype) + len(GEvalidctype) + len(GEtestctype))]\n",
    "\n",
    "print(latent_train1.shape)\n",
    "print(latent_valid1.shape)\n",
    "print(latent_test1.shape)\n",
    "\n",
    "latent_train2 = z2[:len(GEtrainctype)]\n",
    "latent_valid2 = z2[len(latent_train2):(len(GEtrainctype) + len(GEvalidctype))]\n",
    "latent_test2 = z2[(len(latent_train2) + len(latent_valid2)):(len(GEtrainctype) + len(GEvalidctype) + len(GEtestctype))]\n",
    "\n",
    "print(latent_train2.shape)\n",
    "print(latent_valid2.shape)\n",
    "print(latent_test2.shape)"
   ]
  },
  {
   "cell_type": "code",
   "execution_count": 77,
   "metadata": {},
   "outputs": [
    {
     "data": {
      "text/plain": [
       "(325,)"
      ]
     },
     "execution_count": 77,
     "metadata": {},
     "output_type": "execute_result"
    }
   ],
   "source": [
    "np.concatenate((y_train, y_valid)).shape"
   ]
  },
  {
   "cell_type": "code",
   "execution_count": 82,
   "metadata": {
    "pycharm": {
     "name": "#%%\n"
    }
   },
   "outputs": [
    {
     "name": "stdout",
     "output_type": "stream",
     "text": [
      "CGAE: Stage predictions from GE using cancer type STAD\n",
      "Accuracies:  [32.43, 35.14, 37.84, 43.24, 43.24, 43.24, 43.24, 45.95, 43.24, 43.24]\n",
      "Highest accuracy is alpha 5.0 with accuracy 45.95, that has the following stage predictions:\n",
      " [1. 1. 2. 1. 2. 2. 1. 2. 1. 2. 2. 2. 1. 2. 2. 2. 1. 1. 2. 1. 1. 2. 1. 1.\n",
      " 2. 1. 1. 2. 1. 1. 2. 2. 1. 1. 2. 2. 2.]\n"
     ]
    }
   ],
   "source": [
    "print(\"CGAE: Stage predictions from GE using cancer type {}\".format(ctype))\n",
    "validationPerformance = np.zeros(alphas.shape[0])\n",
    "models = []\n",
    "alphas = np.array([1e-4, 1e-3, 1e-2, 1e-1, 0.5, 1.0, 2.0, 5.0, 10., 20.])\n",
    "\n",
    "for i, a in enumerate(alphas):\n",
    "    model = OrdinalRidge(alpha=a, fit_intercept=True, normalize=False, random_state=1)\n",
    "\n",
    "    # train\n",
    "    model.fit(latent_train1, latent_train2)\n",
    "\n",
    "    # save so that we don't have to re-train\n",
    "    models.append(model)\n",
    "\n",
    "    # evaluate using user-specified criterion\n",
    "    validationPerformance[i] = evaluate_classification(latent_valid2, model.predict(latent_valid1))[ind]\n",
    "\n",
    "bestModel = models[np.argmax(validationPerformance)]\n",
    "\n",
    "predictions = bestModel.predict(x_test).astype(int)\n",
    "\n",
    "classifications = evaluate_classification(y_test, predictions)\n",
    "\n",
    "print(classifications)\n",
    "\n"
   ]
  }
 ],
 "metadata": {
  "kernelspec": {
   "display_name": "vae",
   "language": "python",
   "name": "vae"
  },
  "language_info": {
   "codemirror_mode": {
    "name": "ipython",
    "version": 3
   },
   "file_extension": ".py",
   "mimetype": "text/x-python",
   "name": "python",
   "nbconvert_exporter": "python",
   "pygments_lexer": "ipython3",
   "version": "3.9.5"
  }
 },
 "nbformat": 4,
 "nbformat_minor": 4
}
