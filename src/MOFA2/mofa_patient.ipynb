{
 "cells": [
  {
   "cell_type": "code",
   "execution_count": 7,
   "outputs": [],
   "source": [
    "import numpy as np\n",
    "import pandas as pd\n",
    "\n",
    "rna_obs = pd.read_csv(\"/home/bram/jointomicscomp/data/CELL/pbmc_multimodal_RNA_5000MAD_obs.csv\", index_col=0)\n",
    "adt_obs = pd.read_csv(\"/home/bram/jointomicscomp/data/CELL/pbmc_multimodal_ADT_5000MAD_obs.csv\", index_col=0)\n"
   ],
   "metadata": {
    "collapsed": false,
    "pycharm": {
     "name": "#%%\n"
    }
   }
  },
  {
   "cell_type": "code",
   "execution_count": 9,
   "outputs": [
    {
     "data": {
      "text/plain": "                       nCount_ADT  nFeature_ADT  nCount_RNA  nFeature_RNA  \\\nL1_AAACCCAAGAAACTCA        7535.0           217     10823.0          2915   \nL1_AAACCCAAGACATACA        6013.0           209      5864.0          1617   \nL1_AAACCCACAACTGGTT        6620.0           213      5067.0          1381   \nL1_AAACCCACACGTACTA        3567.0           202      4786.0          1890   \nL1_AAACCCACAGCATACT        6402.0           215      6505.0          1621   \n...                           ...           ...         ...           ...   \nE2L8_TTTGTTGGTCGTGATT      4170.0           197      9346.0          2201   \nE2L8_TTTGTTGGTGTGCCTG      6927.0           209      9318.0          2938   \nE2L8_TTTGTTGGTTAGTTCG      4222.0           206     11619.0          3224   \nE2L8_TTTGTTGGTTGGCTAT      6063.0           217     15436.0          3999   \nE2L8_TTTGTTGTCTCATGGA      4266.0           210     11892.0          3330   \n\n                      orig.ident  lane donor  time celltype.l1  \\\nL1_AAACCCAAGAAACTCA         P2_7    L1    P2     7        Mono   \nL1_AAACCCAAGACATACA         P1_7    L1    P1     7       CD4 T   \nL1_AAACCCACAACTGGTT         P4_3    L1    P4     3       CD8 T   \nL1_AAACCCACACGTACTA         P3_7    L1    P3     7          NK   \nL1_AAACCCACAGCATACT         P4_7    L1    P4     7       CD8 T   \n...                          ...   ...   ...   ...         ...   \nE2L8_TTTGTTGGTCGTGATT       P5_7  E2L8    P5     7       CD8 T   \nE2L8_TTTGTTGGTGTGCCTG       P5_3  E2L8    P5     3        Mono   \nE2L8_TTTGTTGGTTAGTTCG       P8_0  E2L8    P8     0           B   \nE2L8_TTTGTTGGTTGGCTAT       P5_3  E2L8    P5     3        Mono   \nE2L8_TTTGTTGTCTCATGGA       P5_7  E2L8    P5     7        Mono   \n\n                          celltype.l2           celltype.l3 Phase  \nL1_AAACCCAAGAAACTCA         CD14 Mono             CD14 Mono    G1  \nL1_AAACCCAAGACATACA           CD4 TCM             CD4 TCM_1    G1  \nL1_AAACCCACAACTGGTT         CD8 Naive             CD8 Naive     S  \nL1_AAACCCACACGTACTA                NK                  NK_2    G1  \nL1_AAACCCACAGCATACT         CD8 Naive             CD8 Naive    G1  \n...                               ...                   ...   ...  \nE2L8_TTTGTTGGTCGTGATT       CD8 Naive             CD8 Naive     S  \nE2L8_TTTGTTGGTGTGCCTG       CD14 Mono             CD14 Mono    G1  \nE2L8_TTTGTTGGTTAGTTCG  B intermediate  B intermediate kappa     S  \nE2L8_TTTGTTGGTTGGCTAT       CD16 Mono             CD16 Mono    G1  \nE2L8_TTTGTTGTCTCATGGA       CD14 Mono             CD14 Mono    G1  \n\n[161764 rows x 12 columns]",
      "text/html": "<div>\n<style scoped>\n    .dataframe tbody tr th:only-of-type {\n        vertical-align: middle;\n    }\n\n    .dataframe tbody tr th {\n        vertical-align: top;\n    }\n\n    .dataframe thead th {\n        text-align: right;\n    }\n</style>\n<table border=\"1\" class=\"dataframe\">\n  <thead>\n    <tr style=\"text-align: right;\">\n      <th></th>\n      <th>nCount_ADT</th>\n      <th>nFeature_ADT</th>\n      <th>nCount_RNA</th>\n      <th>nFeature_RNA</th>\n      <th>orig.ident</th>\n      <th>lane</th>\n      <th>donor</th>\n      <th>time</th>\n      <th>celltype.l1</th>\n      <th>celltype.l2</th>\n      <th>celltype.l3</th>\n      <th>Phase</th>\n    </tr>\n  </thead>\n  <tbody>\n    <tr>\n      <th>L1_AAACCCAAGAAACTCA</th>\n      <td>7535.0</td>\n      <td>217</td>\n      <td>10823.0</td>\n      <td>2915</td>\n      <td>P2_7</td>\n      <td>L1</td>\n      <td>P2</td>\n      <td>7</td>\n      <td>Mono</td>\n      <td>CD14 Mono</td>\n      <td>CD14 Mono</td>\n      <td>G1</td>\n    </tr>\n    <tr>\n      <th>L1_AAACCCAAGACATACA</th>\n      <td>6013.0</td>\n      <td>209</td>\n      <td>5864.0</td>\n      <td>1617</td>\n      <td>P1_7</td>\n      <td>L1</td>\n      <td>P1</td>\n      <td>7</td>\n      <td>CD4 T</td>\n      <td>CD4 TCM</td>\n      <td>CD4 TCM_1</td>\n      <td>G1</td>\n    </tr>\n    <tr>\n      <th>L1_AAACCCACAACTGGTT</th>\n      <td>6620.0</td>\n      <td>213</td>\n      <td>5067.0</td>\n      <td>1381</td>\n      <td>P4_3</td>\n      <td>L1</td>\n      <td>P4</td>\n      <td>3</td>\n      <td>CD8 T</td>\n      <td>CD8 Naive</td>\n      <td>CD8 Naive</td>\n      <td>S</td>\n    </tr>\n    <tr>\n      <th>L1_AAACCCACACGTACTA</th>\n      <td>3567.0</td>\n      <td>202</td>\n      <td>4786.0</td>\n      <td>1890</td>\n      <td>P3_7</td>\n      <td>L1</td>\n      <td>P3</td>\n      <td>7</td>\n      <td>NK</td>\n      <td>NK</td>\n      <td>NK_2</td>\n      <td>G1</td>\n    </tr>\n    <tr>\n      <th>L1_AAACCCACAGCATACT</th>\n      <td>6402.0</td>\n      <td>215</td>\n      <td>6505.0</td>\n      <td>1621</td>\n      <td>P4_7</td>\n      <td>L1</td>\n      <td>P4</td>\n      <td>7</td>\n      <td>CD8 T</td>\n      <td>CD8 Naive</td>\n      <td>CD8 Naive</td>\n      <td>G1</td>\n    </tr>\n    <tr>\n      <th>...</th>\n      <td>...</td>\n      <td>...</td>\n      <td>...</td>\n      <td>...</td>\n      <td>...</td>\n      <td>...</td>\n      <td>...</td>\n      <td>...</td>\n      <td>...</td>\n      <td>...</td>\n      <td>...</td>\n      <td>...</td>\n    </tr>\n    <tr>\n      <th>E2L8_TTTGTTGGTCGTGATT</th>\n      <td>4170.0</td>\n      <td>197</td>\n      <td>9346.0</td>\n      <td>2201</td>\n      <td>P5_7</td>\n      <td>E2L8</td>\n      <td>P5</td>\n      <td>7</td>\n      <td>CD8 T</td>\n      <td>CD8 Naive</td>\n      <td>CD8 Naive</td>\n      <td>S</td>\n    </tr>\n    <tr>\n      <th>E2L8_TTTGTTGGTGTGCCTG</th>\n      <td>6927.0</td>\n      <td>209</td>\n      <td>9318.0</td>\n      <td>2938</td>\n      <td>P5_3</td>\n      <td>E2L8</td>\n      <td>P5</td>\n      <td>3</td>\n      <td>Mono</td>\n      <td>CD14 Mono</td>\n      <td>CD14 Mono</td>\n      <td>G1</td>\n    </tr>\n    <tr>\n      <th>E2L8_TTTGTTGGTTAGTTCG</th>\n      <td>4222.0</td>\n      <td>206</td>\n      <td>11619.0</td>\n      <td>3224</td>\n      <td>P8_0</td>\n      <td>E2L8</td>\n      <td>P8</td>\n      <td>0</td>\n      <td>B</td>\n      <td>B intermediate</td>\n      <td>B intermediate kappa</td>\n      <td>S</td>\n    </tr>\n    <tr>\n      <th>E2L8_TTTGTTGGTTGGCTAT</th>\n      <td>6063.0</td>\n      <td>217</td>\n      <td>15436.0</td>\n      <td>3999</td>\n      <td>P5_3</td>\n      <td>E2L8</td>\n      <td>P5</td>\n      <td>3</td>\n      <td>Mono</td>\n      <td>CD16 Mono</td>\n      <td>CD16 Mono</td>\n      <td>G1</td>\n    </tr>\n    <tr>\n      <th>E2L8_TTTGTTGTCTCATGGA</th>\n      <td>4266.0</td>\n      <td>210</td>\n      <td>11892.0</td>\n      <td>3330</td>\n      <td>P5_7</td>\n      <td>E2L8</td>\n      <td>P5</td>\n      <td>7</td>\n      <td>Mono</td>\n      <td>CD14 Mono</td>\n      <td>CD14 Mono</td>\n      <td>G1</td>\n    </tr>\n  </tbody>\n</table>\n<p>161764 rows × 12 columns</p>\n</div>"
     },
     "execution_count": 9,
     "metadata": {},
     "output_type": "execute_result"
    }
   ],
   "source": [
    "rna_obs"
   ],
   "metadata": {
    "collapsed": false,
    "pycharm": {
     "name": "#%%\n"
    }
   }
  },
  {
   "cell_type": "code",
   "execution_count": 8,
   "outputs": [
    {
     "data": {
      "text/plain": "True"
     },
     "execution_count": 8,
     "metadata": {},
     "output_type": "execute_result"
    }
   ],
   "source": [
    "rna_obs['donor'].equals(adt_obs['donor'])"
   ],
   "metadata": {
    "collapsed": false,
    "pycharm": {
     "name": "#%%\n"
    }
   }
  },
  {
   "cell_type": "code",
   "execution_count": 12,
   "outputs": [
    {
     "data": {
      "text/plain": "array(['P1', 'P2', 'P3', 'P4', 'P5', 'P6', 'P7', 'P8'], dtype='<U2')"
     },
     "execution_count": 12,
     "metadata": {},
     "output_type": "execute_result"
    }
   ],
   "source": [
    "donors = rna_obs['donor'].values.astype(str)\n",
    "\n",
    "donorTypes = np.unique(donors)\n",
    "donorTypes"
   ],
   "metadata": {
    "collapsed": false,
    "pycharm": {
     "name": "#%%\n"
    }
   }
  },
  {
   "cell_type": "code",
   "execution_count": 13,
   "outputs": [
    {
     "data": {
      "text/plain": "array([1, 0, 3, ..., 7, 4, 4])"
     },
     "execution_count": 13,
     "metadata": {},
     "output_type": "execute_result"
    }
   ],
   "source": [
    "donorType = []\n",
    "for x in donors:\n",
    "    i = np.where(x == donorTypes)[0][0]\n",
    "    donorType.append(i)\n",
    "\n",
    "donorType = np.array(donorType).astype(int)\n",
    "\n",
    "# np.save(\"/home/bram/jointomicscomp/data/CELL/celltype.l2cellType.npy\", np.array(indices).astype(int))"
   ],
   "metadata": {
    "collapsed": false,
    "pycharm": {
     "name": "#%%\n"
    }
   }
  },
  {
   "cell_type": "code",
   "execution_count": 14,
   "outputs": [],
   "source": [
    "np.save(\"/home/bram/jointomicscomp/data/CELL/pbmc_multimodal_RNA_5000MAD_donorType.npy\", donorType)\n",
    "np.save(\"/home/bram/jointomicscomp/data/CELL/pbmc_multimodal_RNA_5000MAD_donorTypes.npy\", donorTypes)\n",
    "np.save(\"/home/bram/jointomicscomp/data/CELL/pbmc_multimodal_ADT_5000MAD_donorType.npy\", donorType)\n",
    "np.save(\"/home/bram/jointomicscomp/data/CELL/pbmc_multimodal_ADT_5000MAD_donorTypes.npy\", donorTypes)"
   ],
   "metadata": {
    "collapsed": false,
    "pycharm": {
     "name": "#%%\n"
    }
   }
  },
  {
   "cell_type": "code",
   "execution_count": 8,
   "outputs": [
    {
     "data": {
      "text/plain": "                       nCount_ADT  nFeature_ADT  nCount_RNA  nFeature_RNA  \\\nL1_AAACCCAAGAAACTCA        7535.0           217     10823.0          2915   \nL1_AAACCCAAGACATACA        6013.0           209      5864.0          1617   \nL1_AAACCCACAACTGGTT        6620.0           213      5067.0          1381   \nL1_AAACCCACACGTACTA        3567.0           202      4786.0          1890   \nL1_AAACCCACAGCATACT        6402.0           215      6505.0          1621   \n...                           ...           ...         ...           ...   \nE2L8_TTTGTTGGTCGTGATT      4170.0           197      9346.0          2201   \nE2L8_TTTGTTGGTGTGCCTG      6927.0           209      9318.0          2938   \nE2L8_TTTGTTGGTTAGTTCG      4222.0           206     11619.0          3224   \nE2L8_TTTGTTGGTTGGCTAT      6063.0           217     15436.0          3999   \nE2L8_TTTGTTGTCTCATGGA      4266.0           210     11892.0          3330   \n\n                      orig.ident  lane donor  time celltype.l1  \\\nL1_AAACCCAAGAAACTCA         P2_7    L1    P2     7        Mono   \nL1_AAACCCAAGACATACA         P1_7    L1    P1     7       CD4 T   \nL1_AAACCCACAACTGGTT         P4_3    L1    P4     3       CD8 T   \nL1_AAACCCACACGTACTA         P3_7    L1    P3     7          NK   \nL1_AAACCCACAGCATACT         P4_7    L1    P4     7       CD8 T   \n...                          ...   ...   ...   ...         ...   \nE2L8_TTTGTTGGTCGTGATT       P5_7  E2L8    P5     7       CD8 T   \nE2L8_TTTGTTGGTGTGCCTG       P5_3  E2L8    P5     3        Mono   \nE2L8_TTTGTTGGTTAGTTCG       P8_0  E2L8    P8     0           B   \nE2L8_TTTGTTGGTTGGCTAT       P5_3  E2L8    P5     3        Mono   \nE2L8_TTTGTTGTCTCATGGA       P5_7  E2L8    P5     7        Mono   \n\n                          celltype.l2           celltype.l3 Phase  \nL1_AAACCCAAGAAACTCA         CD14 Mono             CD14 Mono    G1  \nL1_AAACCCAAGACATACA           CD4 TCM             CD4 TCM_1    G1  \nL1_AAACCCACAACTGGTT         CD8 Naive             CD8 Naive     S  \nL1_AAACCCACACGTACTA                NK                  NK_2    G1  \nL1_AAACCCACAGCATACT         CD8 Naive             CD8 Naive    G1  \n...                               ...                   ...   ...  \nE2L8_TTTGTTGGTCGTGATT       CD8 Naive             CD8 Naive     S  \nE2L8_TTTGTTGGTGTGCCTG       CD14 Mono             CD14 Mono    G1  \nE2L8_TTTGTTGGTTAGTTCG  B intermediate  B intermediate kappa     S  \nE2L8_TTTGTTGGTTGGCTAT       CD16 Mono             CD16 Mono    G1  \nE2L8_TTTGTTGTCTCATGGA       CD14 Mono             CD14 Mono    G1  \n\n[161764 rows x 12 columns]",
      "text/html": "<div>\n<style scoped>\n    .dataframe tbody tr th:only-of-type {\n        vertical-align: middle;\n    }\n\n    .dataframe tbody tr th {\n        vertical-align: top;\n    }\n\n    .dataframe thead th {\n        text-align: right;\n    }\n</style>\n<table border=\"1\" class=\"dataframe\">\n  <thead>\n    <tr style=\"text-align: right;\">\n      <th></th>\n      <th>nCount_ADT</th>\n      <th>nFeature_ADT</th>\n      <th>nCount_RNA</th>\n      <th>nFeature_RNA</th>\n      <th>orig.ident</th>\n      <th>lane</th>\n      <th>donor</th>\n      <th>time</th>\n      <th>celltype.l1</th>\n      <th>celltype.l2</th>\n      <th>celltype.l3</th>\n      <th>Phase</th>\n    </tr>\n  </thead>\n  <tbody>\n    <tr>\n      <th>L1_AAACCCAAGAAACTCA</th>\n      <td>7535.0</td>\n      <td>217</td>\n      <td>10823.0</td>\n      <td>2915</td>\n      <td>P2_7</td>\n      <td>L1</td>\n      <td>P2</td>\n      <td>7</td>\n      <td>Mono</td>\n      <td>CD14 Mono</td>\n      <td>CD14 Mono</td>\n      <td>G1</td>\n    </tr>\n    <tr>\n      <th>L1_AAACCCAAGACATACA</th>\n      <td>6013.0</td>\n      <td>209</td>\n      <td>5864.0</td>\n      <td>1617</td>\n      <td>P1_7</td>\n      <td>L1</td>\n      <td>P1</td>\n      <td>7</td>\n      <td>CD4 T</td>\n      <td>CD4 TCM</td>\n      <td>CD4 TCM_1</td>\n      <td>G1</td>\n    </tr>\n    <tr>\n      <th>L1_AAACCCACAACTGGTT</th>\n      <td>6620.0</td>\n      <td>213</td>\n      <td>5067.0</td>\n      <td>1381</td>\n      <td>P4_3</td>\n      <td>L1</td>\n      <td>P4</td>\n      <td>3</td>\n      <td>CD8 T</td>\n      <td>CD8 Naive</td>\n      <td>CD8 Naive</td>\n      <td>S</td>\n    </tr>\n    <tr>\n      <th>L1_AAACCCACACGTACTA</th>\n      <td>3567.0</td>\n      <td>202</td>\n      <td>4786.0</td>\n      <td>1890</td>\n      <td>P3_7</td>\n      <td>L1</td>\n      <td>P3</td>\n      <td>7</td>\n      <td>NK</td>\n      <td>NK</td>\n      <td>NK_2</td>\n      <td>G1</td>\n    </tr>\n    <tr>\n      <th>L1_AAACCCACAGCATACT</th>\n      <td>6402.0</td>\n      <td>215</td>\n      <td>6505.0</td>\n      <td>1621</td>\n      <td>P4_7</td>\n      <td>L1</td>\n      <td>P4</td>\n      <td>7</td>\n      <td>CD8 T</td>\n      <td>CD8 Naive</td>\n      <td>CD8 Naive</td>\n      <td>G1</td>\n    </tr>\n    <tr>\n      <th>...</th>\n      <td>...</td>\n      <td>...</td>\n      <td>...</td>\n      <td>...</td>\n      <td>...</td>\n      <td>...</td>\n      <td>...</td>\n      <td>...</td>\n      <td>...</td>\n      <td>...</td>\n      <td>...</td>\n      <td>...</td>\n    </tr>\n    <tr>\n      <th>E2L8_TTTGTTGGTCGTGATT</th>\n      <td>4170.0</td>\n      <td>197</td>\n      <td>9346.0</td>\n      <td>2201</td>\n      <td>P5_7</td>\n      <td>E2L8</td>\n      <td>P5</td>\n      <td>7</td>\n      <td>CD8 T</td>\n      <td>CD8 Naive</td>\n      <td>CD8 Naive</td>\n      <td>S</td>\n    </tr>\n    <tr>\n      <th>E2L8_TTTGTTGGTGTGCCTG</th>\n      <td>6927.0</td>\n      <td>209</td>\n      <td>9318.0</td>\n      <td>2938</td>\n      <td>P5_3</td>\n      <td>E2L8</td>\n      <td>P5</td>\n      <td>3</td>\n      <td>Mono</td>\n      <td>CD14 Mono</td>\n      <td>CD14 Mono</td>\n      <td>G1</td>\n    </tr>\n    <tr>\n      <th>E2L8_TTTGTTGGTTAGTTCG</th>\n      <td>4222.0</td>\n      <td>206</td>\n      <td>11619.0</td>\n      <td>3224</td>\n      <td>P8_0</td>\n      <td>E2L8</td>\n      <td>P8</td>\n      <td>0</td>\n      <td>B</td>\n      <td>B intermediate</td>\n      <td>B intermediate kappa</td>\n      <td>S</td>\n    </tr>\n    <tr>\n      <th>E2L8_TTTGTTGGTTGGCTAT</th>\n      <td>6063.0</td>\n      <td>217</td>\n      <td>15436.0</td>\n      <td>3999</td>\n      <td>P5_3</td>\n      <td>E2L8</td>\n      <td>P5</td>\n      <td>3</td>\n      <td>Mono</td>\n      <td>CD16 Mono</td>\n      <td>CD16 Mono</td>\n      <td>G1</td>\n    </tr>\n    <tr>\n      <th>E2L8_TTTGTTGTCTCATGGA</th>\n      <td>4266.0</td>\n      <td>210</td>\n      <td>11892.0</td>\n      <td>3330</td>\n      <td>P5_7</td>\n      <td>E2L8</td>\n      <td>P5</td>\n      <td>7</td>\n      <td>Mono</td>\n      <td>CD14 Mono</td>\n      <td>CD14 Mono</td>\n      <td>G1</td>\n    </tr>\n  </tbody>\n</table>\n<p>161764 rows × 12 columns</p>\n</div>"
     },
     "execution_count": 8,
     "metadata": {},
     "output_type": "execute_result"
    }
   ],
   "source": [
    "adt_obs"
   ],
   "metadata": {
    "collapsed": false,
    "pycharm": {
     "name": "#%%\n"
    }
   }
  }
 ],
 "metadata": {
  "kernelspec": {
   "name": "vae",
   "language": "python",
   "display_name": "vae"
  },
  "language_info": {
   "codemirror_mode": {
    "name": "ipython",
    "version": 2
   },
   "file_extension": ".py",
   "mimetype": "text/x-python",
   "name": "python",
   "nbconvert_exporter": "python",
   "pygments_lexer": "ipython2",
   "version": "2.7.6"
  }
 },
 "nbformat": 4,
 "nbformat_minor": 0
}