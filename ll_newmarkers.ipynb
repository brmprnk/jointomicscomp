{
 "cells": [
  {
   "cell_type": "code",
   "execution_count": 2,
   "metadata": {},
   "outputs": [
    {
     "name": "stderr",
     "output_type": "stream",
     "text": [
      "/home/bram/miniconda3/envs/joc/lib/python3.10/site-packages/scvi/_settings.py:63: UserWarning: Since v1.0.0, scvi-tools no longer uses a random seed by default. Run `scvi.settings.seed = 0` to reproduce results from previous versions.\n",
      "  self.seed = seed\n",
      "/home/bram/miniconda3/envs/joc/lib/python3.10/site-packages/scvi/_settings.py:70: UserWarning: Setting `dl_pin_memory_gpu_training` is deprecated in v1.0 and will be removed in v1.1. Please pass in `pin_memory` to the data loaders instead.\n",
      "  self.dl_pin_memory_gpu_training = (\n"
     ]
    },
    {
     "data": {
      "text/plain": [
       "<module 'cosg' from '/home/bram/miniconda3/envs/joc/lib/python3.10/site-packages/cosg/__init__.py'>"
      ]
     },
     "execution_count": 2,
     "metadata": {},
     "output_type": "execute_result"
    }
   ],
   "source": [
    "import anndata as ad\n",
    "import matplotlib.pyplot as plt\n",
    "import mudata as md\n",
    "import muon\n",
    "import scanpy as sc\n",
    "from scvi.data import pbmc_seurat_v4_cite_seq\n",
    "from scvi.model import TOTALVI\n",
    "import sys\n",
    "import numpy as np\n",
    "import pickle\n",
    "from copy import deepcopy\n",
    "import numpy as np\n",
    "import pandas as pd\n",
    "\n",
    "import cosg as cosg\n",
    "import importlib\n",
    "import time\n",
    "importlib.reload(cosg)"
   ]
  },
  {
   "cell_type": "code",
   "execution_count": 3,
   "metadata": {},
   "outputs": [
    {
     "name": "stdout",
     "output_type": "stream",
     "text": [
      "\u001b[34mINFO    \u001b[0m File .\u001b[35m/data/\u001b[0m\u001b[95mpbmc_seurat_v4.h5ad\u001b[0m already downloaded                                                        \n"
     ]
    }
   ],
   "source": [
    "dataLoc = './data/'\n",
    "adata = pbmc_seurat_v4_cite_seq(save_path=dataLoc, apply_filters=True, aggregate_proteins=True, mask_protein_batches=0)\n",
    "\n",
    "adata.layers[\"counts\"] = adata.X.copy()\n",
    "# sc.pp.normalize_total(adata)\n",
    "# sc.pp.log1p(adata)\n",
    "adata.obs_names_make_unique()"
   ]
  },
  {
   "cell_type": "code",
   "execution_count": 4,
   "metadata": {},
   "outputs": [
    {
     "data": {
      "text/plain": [
       "AnnData object with n_obs × n_vars = 152094 × 20729\n",
       "    obs: 'nCount_ADT', 'nFeature_ADT', 'nCount_RNA', 'nFeature_RNA', 'orig.ident', 'lane', 'donor', 'time', 'celltype.l1', 'celltype.l2', 'celltype.l3', 'Phase', 'nCount_SCT', 'nFeature_SCT', 'X_index', 'total_counts', 'total_counts_mt', 'pct_counts_mt', 'Protein log library size', 'Number proteins detected', 'RNA log library size'\n",
       "    var: 'mt'\n",
       "    obsm: 'protein_counts'\n",
       "    layers: 'counts'"
      ]
     },
     "execution_count": 4,
     "metadata": {},
     "output_type": "execute_result"
    }
   ],
   "source": [
    "# Remove the CD14 Mono cells\n",
    "# adata = adata[adata.obs['celltype.l2'] != 'CD14 Mono', :]\n",
    "adata"
   ]
  },
  {
   "cell_type": "code",
   "execution_count": 5,
   "metadata": {},
   "outputs": [],
   "source": [
    "protein_adata = ad.AnnData(adata.obsm[\"protein_counts\"])\n",
    "protein_adata.obs_names = adata.obs_names\n",
    "del adata.obsm[\"protein_counts\"]\n"
   ]
  },
  {
   "cell_type": "code",
   "execution_count": 6,
   "metadata": {},
   "outputs": [
    {
     "name": "stderr",
     "output_type": "stream",
     "text": [
      "/home/bram/miniconda3/envs/joc/lib/python3.10/site-packages/mudata/_core/mudata.py:491: UserWarning: Cannot join columns with the same name because var_names are intersecting.\n",
      "  warnings.warn(\n",
      "/home/bram/miniconda3/envs/joc/lib/python3.10/site-packages/mudata/_core/mudata.py:1059: UserWarning: Modality names will be prepended to var_names since there are identical var_names in different modalities.\n",
      "  warnings.warn(\n"
     ]
    }
   ],
   "source": [
    "mdata = md.MuData({\"rna\": adata, \"protein\": protein_adata})\n",
    "mdata.var_names_make_unique()"
   ]
  },
  {
   "cell_type": "code",
   "execution_count": 7,
   "metadata": {},
   "outputs": [
    {
     "ename": "",
     "evalue": "",
     "output_type": "error",
     "traceback": [
      "\u001b[1;31mThe Kernel crashed while executing code in the the current cell or a previous cell. Please review the code in the cell(s) to identify a possible cause of the failure. Click <a href='https://aka.ms/vscodeJupyterKernelCrash'>here</a> for more info. View Jupyter <a href='command:jupyter.viewOutput'>log</a> for further details."
     ]
    }
   ],
   "source": [
    "sc.pp.highly_variable_genes(\n",
    "    mdata.mod[\"rna\"],\n",
    "    n_top_genes=5000,\n",
    "    flavor=\"seurat_v3\",\n",
    "#    batch_key=\"batch\",\n",
    "    layer=\"counts\")"
   ]
  },
  {
   "cell_type": "code",
   "execution_count": 9,
   "metadata": {},
   "outputs": [
    {
     "data": {
      "text/plain": [
       "819"
      ]
     },
     "execution_count": 9,
     "metadata": {},
     "output_type": "execute_result"
    }
   ],
   "source": [
    "markers = set()\n",
    "with open('data/cosg_30_markergenes.csv') as f:\n",
    "    for i, line in enumerate(f):\n",
    "        if i > 0:\n",
    "            genes = line.split(',')[1:]\n",
    "            genes = ['rna:' + g.rstrip('\\n') for g in genes]\n",
    "\n",
    "            markers = markers.union(set(genes))\n",
    "\n",
    "markers = sorted(list(markers))\n",
    "len(markers)"
   ]
  },
  {
   "cell_type": "code",
   "execution_count": null,
   "metadata": {},
   "outputs": [],
   "source": [
    "# Remove all marker genes from the rna_subset\n",
    "# mdata.mod['rna_subset'] = mdata.mod['rna'][:, markers].copy()\n"
   ]
  },
  {
   "cell_type": "code",
   "execution_count": null,
   "metadata": {},
   "outputs": [
    {
     "name": "stdout",
     "output_type": "stream",
     "text": [
      "20729\n"
     ]
    }
   ],
   "source": [
    "all_genes = mdata['rna'].var.index.values\n",
    "print(len(all_genes))\n",
    "\n"
   ]
  },
  {
   "cell_type": "code",
   "execution_count": null,
   "metadata": {},
   "outputs": [
    {
     "name": "stdout",
     "output_type": "stream",
     "text": [
      "19910\n"
     ]
    }
   ],
   "source": [
    "# Get the difference between all_genes and markers\n",
    "non_markers = np.setdiff1d(all_genes, markers)\n",
    "print(len(non_markers))"
   ]
  },
  {
   "cell_type": "code",
   "execution_count": null,
   "metadata": {},
   "outputs": [
    {
     "name": "stdout",
     "output_type": "stream",
     "text": [
      "View of AnnData object with n_obs × n_vars = 152094 × 819\n",
      "    obs: 'nCount_ADT', 'nFeature_ADT', 'nCount_RNA', 'nFeature_RNA', 'orig.ident', 'lane', 'donor', 'time', 'celltype.l1', 'celltype.l2', 'celltype.l3', 'Phase', 'nCount_SCT', 'nFeature_SCT', 'X_index', 'total_counts', 'total_counts_mt', 'pct_counts_mt', 'Protein log library size', 'Number proteins detected', 'RNA log library size'\n",
      "    var: 'mt'\n",
      "    layers: 'counts'\n"
     ]
    }
   ],
   "source": [
    "print(mdata.mod['rna_subset'][:, :])"
   ]
  },
  {
   "cell_type": "code",
   "execution_count": null,
   "metadata": {},
   "outputs": [],
   "source": []
  }
 ],
 "metadata": {
  "kernelspec": {
   "display_name": "hap",
   "language": "python",
   "name": "python3"
  },
  "language_info": {
   "codemirror_mode": {
    "name": "ipython",
    "version": 3
   },
   "file_extension": ".py",
   "mimetype": "text/x-python",
   "name": "python",
   "nbconvert_exporter": "python",
   "pygments_lexer": "ipython3",
   "version": "3.10.13"
  }
 },
 "nbformat": 4,
 "nbformat_minor": 2
}
