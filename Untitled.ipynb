{
 "cells": [
  {
   "cell_type": "code",
   "execution_count": 1,
   "id": "a3f915dc",
   "metadata": {},
   "outputs": [],
   "source": [
    "import numpy as np\n",
    "import math\n",
    "from scipy.stats import stats\n",
    "from sklearn.metrics import accuracy_score, mean_squared_error, r2_score, precision_recall_fscore_support, \\\n",
    "    matthews_corrcoef, confusion_matrix"
   ]
  },
  {
   "cell_type": "code",
   "execution_count": 2,
   "id": "a88b7ed0",
   "metadata": {},
   "outputs": [],
   "source": [
    "# Load in Single-Cell RNA data\n",
    "data = np.load(\"/home/bram/jointomicscomp/data/CELL/pbmc_multimodal_RNA_5000MAD.npy\")"
   ]
  },
  {
   "cell_type": "code",
   "execution_count": 3,
   "id": "13bfcbe1",
   "metadata": {},
   "outputs": [],
   "source": [
    "def check_allzeroes(data):\n",
    "    \"\"\"\n",
    "    Loops through rows of a 2D array, returning its index if it contains only 0's\n",
    "    \"\"\"\n",
    "    ctr = 0\n",
    "    res = []\n",
    "    for row in data:\n",
    "        all_zeros = np.count_nonzero(row)\n",
    "        if all_zeros == 0:\n",
    "            res.append(ctr)\n",
    "        ctr += 1\n",
    "    print(res)"
   ]
  },
  {
   "cell_type": "code",
   "execution_count": 4,
   "id": "cde6faef",
   "metadata": {
    "scrolled": true
   },
   "outputs": [
    {
     "name": "stdout",
     "output_type": "stream",
     "text": [
      "[]\n",
      "[]\n"
     ]
    }
   ],
   "source": [
    "# Indeed, original data has no empty features or samples\n",
    "check_allzeroes(data)\n",
    "check_allzeroes(data.T)"
   ]
  },
  {
   "cell_type": "code",
   "execution_count": 15,
   "id": "0be26fbb",
   "metadata": {},
   "outputs": [
    {
     "data": {
      "text/plain": [
       "(161764, 5000)"
      ]
     },
     "execution_count": 15,
     "metadata": {},
     "output_type": "execute_result"
    }
   ],
   "source": [
    "data.shape"
   ]
  },
  {
   "cell_type": "code",
   "execution_count": 19,
   "id": "332d685b",
   "metadata": {},
   "outputs": [
    {
     "name": "stdout",
     "output_type": "stream",
     "text": [
      "[0. 0. 0. ... 0. 0. 0.]\n",
      "[75073, 92176, 106722, 128448, 129983]\n",
      "[0.6931472, 0.6931472, 1.0986123, 0.6931472, 0.6931472]\n"
     ]
    }
   ],
   "source": [
    "print(data.T[4999])\n",
    "idx = []\n",
    "values = []\n",
    "for i, ok in enumerate(data.T[4986]):\n",
    "    if ok != 0:\n",
    "        idx.append(i)\n",
    "        values.append(ok)\n",
    "        \n",
    "print(idx)\n",
    "print(values)"
   ]
  },
  {
   "cell_type": "code",
   "execution_count": 10,
   "id": "9391fcd4",
   "metadata": {},
   "outputs": [
    {
     "name": "stdout",
     "output_type": "stream",
     "text": [
      "14615\n",
      "[]\n",
      "[4248, 4266, 4448, 4479, 4491, 4505, 4509, 4510, 4514, 4528, 4539, 4551, 4554, 4556, 4558, 4573, 4578, 4590, 4591, 4601, 4605, 4607, 4619, 4625, 4628, 4640, 4644, 4653, 4664, 4666, 4668, 4677, 4698, 4699, 4703, 4707, 4710, 4729, 4730, 4733, 4739, 4749, 4751, 4752, 4753, 4755, 4759, 4764, 4765, 4771, 4773, 4775, 4781, 4789, 4792, 4800, 4802, 4812, 4816, 4819, 4824, 4830, 4832, 4835, 4836, 4839, 4842, 4843, 4845, 4852, 4853, 4860, 4862, 4863, 4869, 4870, 4871, 4873, 4874, 4876, 4877, 4880, 4881, 4886, 4887, 4893, 4895, 4897, 4901, 4902, 4904, 4905, 4906, 4911, 4912, 4914, 4915, 4921, 4922, 4928, 4930, 4931, 4932, 4933, 4946, 4948, 4951, 4955, 4958, 4962, 4965, 4967, 4968, 4969, 4970, 4974, 4975, 4976, 4977, 4978, 4979, 4980, 4982, 4985, 4986, 4990, 4991, 4993, 4996, 4997, 4998, 4999]\n"
     ]
    }
   ],
   "source": [
    "# Now select indices from the test set\n",
    "test_ind = np.load(\"/home/bram/jointomicscomp/data/CELL/task1/testInd.npy\").astype(int)\n",
    "test_ind_new = np.load(\"/home/bram/jointomicscomp/data/CELL/task1/testInd_new.npy\").astype(int)\n",
    "\n",
    "print(len(np.setdiff1d(test_ind, test_ind_new)))\n",
    "test_set = data[test_ind]\n",
    "\n",
    "# And check if the test set of the SAME data has zero samples or features\n",
    "check_allzeroes(test_set)\n",
    "check_allzeroes(test_set.T)"
   ]
  }
 ],
 "metadata": {
  "kernelspec": {
   "display_name": "vae",
   "language": "python",
   "name": "vae"
  },
  "language_info": {
   "codemirror_mode": {
    "name": "ipython",
    "version": 3
   },
   "file_extension": ".py",
   "mimetype": "text/x-python",
   "name": "python",
   "nbconvert_exporter": "python",
   "pygments_lexer": "ipython3",
   "version": "3.9.7"
  }
 },
 "nbformat": 4,
 "nbformat_minor": 5
}
